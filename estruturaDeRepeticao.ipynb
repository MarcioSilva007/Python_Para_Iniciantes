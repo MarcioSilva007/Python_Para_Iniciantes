{
  "nbformat": 4,
  "nbformat_minor": 0,
  "metadata": {
    "colab": {
      "provenance": [],
      "authorship_tag": "ABX9TyOc2TsYtZ4jmrBpWv9ojsEn",
      "include_colab_link": true
    },
    "kernelspec": {
      "name": "python3",
      "display_name": "Python 3"
    },
    "language_info": {
      "name": "python"
    }
  },
  "cells": [
    {
      "cell_type": "markdown",
      "metadata": {
        "id": "view-in-github",
        "colab_type": "text"
      },
      "source": [
        "<a href=\"https://colab.research.google.com/github/MarcioSilva007/Python_Para_Iniciantes/blob/main/estruturaDeRepeticao.ipynb\" target=\"_parent\"><img src=\"https://colab.research.google.com/assets/colab-badge.svg\" alt=\"Open In Colab\"/></a>"
      ]
    },
    {
      "cell_type": "markdown",
      "source": [
        "## Antes de tudo para criar um Laço (estrutura de repetição) precisaremos algumas váriaveis"
      ],
      "metadata": {
        "id": "iC0mvYfrBmiw"
      }
    },
    {
      "cell_type": "code",
      "source": [
        "av1 = float(input('Informe a nota AV1:'))\n",
        "av2 = float(input('Informe a nota av2:'))\n",
        "av3 = float(input('Informe a nota AV3:'))\n",
        "media = (av1 + av2 + av3) / 3\n",
        "print('A média do aluno foi de: {:.2f}'.format(media))\n",
        "print('Fim de programa')"
      ],
      "metadata": {
        "colab": {
          "base_uri": "https://localhost:8080/"
        },
        "id": "SwJ0NqopCA43",
        "outputId": "36716130-595b-43be-ce01-cba94aed8b46"
      },
      "execution_count": 14,
      "outputs": [
        {
          "output_type": "stream",
          "name": "stdout",
          "text": [
            "Informe a nota AV1:6\n",
            "Informe a nota av2:8\n",
            "Informe a nota AV3:9\n",
            "A média do aluno foi de: 7.67\n",
            "Fim de programa\n"
          ]
        }
      ]
    },
    {
      "cell_type": "markdown",
      "source": [
        "### Usando o laço de repetição While###"
      ],
      "metadata": {
        "id": "8DZnlxDXFQm2"
      }
    },
    {
      "cell_type": "code",
      "source": [
        "repetir = \"S\"\n",
        "while (repetir == \"S\"):\n",
        "  av1 = float(input('Informe a nota AV1:'))\n",
        "  av2 = float(input('Informe a nota av2:'))\n",
        "  av3 = float(input('Informe a nota AV3:'))\n",
        "  media = (av1 + av2 + av3) / 3\n",
        "  print('A média do aluno foi de: {:.2f}'.format(media))\n",
        "  repetir = input('Digite (S) caso queira calcular a média novamente do contrário digite qualquer coisa')\n",
        "print('Fim de programa')"
      ],
      "metadata": {
        "colab": {
          "base_uri": "https://localhost:8080/"
        },
        "id": "q_XynzYZFRYm",
        "outputId": "25b2e20a-64cc-438c-db2d-48b4d2e99870"
      },
      "execution_count": 29,
      "outputs": [
        {
          "output_type": "stream",
          "name": "stdout",
          "text": [
            "Informe a nota AV1:1\n",
            "Informe a nota av2:2\n",
            "Informe a nota AV3:3\n",
            "A média do aluno foi de: 2.00\n",
            "Digite (S) caso queira calcular a média novamente do contrário digite qualquer coisas\n",
            "Fim de programa\n"
          ]
        }
      ]
    },
    {
      "cell_type": "markdown",
      "source": [
        "###Usando laço de repetição FOR"
      ],
      "metadata": {
        "id": "J_5siVNWIaaF"
      }
    },
    {
      "cell_type": "code",
      "source": [
        "for x in range(2, 17, 3):\n",
        "  print(x)"
      ],
      "metadata": {
        "colab": {
          "base_uri": "https://localhost:8080/"
        },
        "id": "Ieiqph8eIeSe",
        "outputId": "0cf8e086-6f74-426d-d8f9-5e38bfcb8b9a"
      },
      "execution_count": 33,
      "outputs": [
        {
          "output_type": "stream",
          "name": "stdout",
          "text": [
            "2\n",
            "5\n",
            "8\n",
            "11\n",
            "14\n"
          ]
        }
      ]
    },
    {
      "cell_type": "code",
      "source": [
        "quantidade = int(input('Digite uma quantidade de alunos:'))\n",
        "for x in range(0,quantidade,1):\n",
        "  media = (av1 + av2 + av3) / 3\n",
        "  av1 = float(input('Informe a nota AV1:'))\n",
        "  av2 = float(input('Informe a nota av2:'))\n",
        "  av3 = float(input('Informe a nota AV3:'))\n",
        "  print('A média do aluno foi de: {:.2f}'.format(media))\n",
        "print('    fim    do   programa     ')"
      ],
      "metadata": {
        "colab": {
          "base_uri": "https://localhost:8080/"
        },
        "id": "D6R4xmE_Jldz",
        "outputId": "86de5875-8fbb-4a13-f9c0-3f3674db519c"
      },
      "execution_count": 41,
      "outputs": [
        {
          "output_type": "stream",
          "name": "stdout",
          "text": [
            "Digite uma quantidade de alunos:2\n",
            "Informe a nota AV1:1\n",
            "Informe a nota av2:2\n",
            "Informe a nota AV3:3\n",
            "A média do aluno foi de: 3.00\n",
            "Informe a nota AV1:1\n",
            "Informe a nota av2:2\n",
            "Informe a nota AV3:3\n",
            "A média do aluno foi de: 2.00\n",
            "    fim    do   programa     \n"
          ]
        }
      ]
    },
    {
      "cell_type": "code",
      "source": [
        "colecao = [\"CC\", \"TI\", \"CD\", \"IA\"]\n",
        "for x in colecao:\n",
        "  print('Curso', colecao)"
      ],
      "metadata": {
        "colab": {
          "base_uri": "https://localhost:8080/"
        },
        "id": "HgE7-a7DI_rl",
        "outputId": "08bd6782-55f3-4449-c15f-01f010a0e49d"
      },
      "execution_count": 43,
      "outputs": [
        {
          "output_type": "stream",
          "name": "stdout",
          "text": [
            "Curso ['CC', 'TI', 'CD', 'IA']\n",
            "Curso ['CC', 'TI', 'CD', 'IA']\n",
            "Curso ['CC', 'TI', 'CD', 'IA']\n",
            "Curso ['CC', 'TI', 'CD', 'IA']\n"
          ]
        }
      ]
    },
    {
      "cell_type": "code",
      "source": [
        "for x in range(1,17,3):\n",
        "  print (x)"
      ],
      "metadata": {
        "colab": {
          "base_uri": "https://localhost:8080/"
        },
        "id": "apbM-mO7MJxW",
        "outputId": "2000404f-057e-413f-ec0f-0cdd678b3ce3"
      },
      "execution_count": 48,
      "outputs": [
        {
          "output_type": "stream",
          "name": "stdout",
          "text": [
            "1\n",
            "4\n",
            "7\n",
            "10\n",
            "13\n",
            "16\n"
          ]
        }
      ]
    }
  ]
}