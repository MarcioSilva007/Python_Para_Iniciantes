{
  "nbformat": 4,
  "nbformat_minor": 0,
  "metadata": {
    "colab": {
      "provenance": [],
      "authorship_tag": "ABX9TyPXWmYDi6sOn5sjNYfjI/30",
      "include_colab_link": true
    },
    "kernelspec": {
      "name": "python3",
      "display_name": "Python 3"
    },
    "language_info": {
      "name": "python"
    }
  },
  "cells": [
    {
      "cell_type": "markdown",
      "metadata": {
        "id": "view-in-github",
        "colab_type": "text"
      },
      "source": [
        "<a href=\"https://colab.research.google.com/github/MarcioSilva007/Python_Para_Iniciantes/blob/main/Listas.ipynb\" target=\"_parent\"><img src=\"https://colab.research.google.com/assets/colab-badge.svg\" alt=\"Open In Colab\"/></a>"
      ]
    },
    {
      "cell_type": "markdown",
      "source": [
        "###Listas -> Possui varios ou nenhum elementos\n"
      ],
      "metadata": {
        "id": "DkUYUNPAQEUv"
      }
    },
    {
      "cell_type": "code",
      "source": [
        "#Declarando listas\n",
        "\n",
        "aluno = [\"Leo\", \"Cristiano\", \"Robervan\", \"Cleiton\"]\n",
        "curso = []\n",
        "notas = [0, 1, 2, 3, 4, 5, 6, 7, 8, 9]"
      ],
      "metadata": {
        "id": "_hvNAiJFQSJm"
      },
      "execution_count": 3,
      "outputs": []
    },
    {
      "cell_type": "code",
      "source": [
        "aluno = [\"Leo\", \"Cristiano\", \"Robervan\", \"Cleiton\"]\n",
        "print (aluno[3])"
      ],
      "metadata": {
        "colab": {
          "base_uri": "https://localhost:8080/"
        },
        "id": "wrRSRVQPRo_t",
        "outputId": "e2eef0a9-5111-4d10-bfdb-2f722c80255b"
      },
      "execution_count": 2,
      "outputs": [
        {
          "output_type": "stream",
          "name": "stdout",
          "text": [
            "Cleiton\n"
          ]
        }
      ]
    },
    {
      "cell_type": "code",
      "source": [
        "#Todos os itens da lista\n",
        "for aluno_x in aluno:\n",
        "  print (aluno_x)"
      ],
      "metadata": {
        "colab": {
          "base_uri": "https://localhost:8080/"
        },
        "id": "SwwELyBGR2__",
        "outputId": "625f7a11-6e0f-4a2d-a5b5-5aab37c2026d"
      },
      "execution_count": 5,
      "outputs": [
        {
          "output_type": "stream",
          "name": "stdout",
          "text": [
            "Leo\n",
            "Cristiano\n",
            "Robervan\n",
            "Cleiton\n"
          ]
        }
      ]
    },
    {
      "cell_type": "markdown",
      "source": [
        "###Operadores\n",
        "count - conta itens do valor desejado\n",
        "\n",
        "append - adiciona valor ao final da lista\n",
        "\n",
        "insert - adiciona um valor na posição desejada\n",
        "\n",
        "remove - remove um iten da lista\n",
        "\n",
        "sort - ordena itens da lista\n",
        "\n",
        "len - quantidade de itens da lista\n",
        "\n",
        "in - verificar se pertence a lista\n",
        "\n",
        "not in - verificar se não pertence a lista"
      ],
      "metadata": {
        "id": "0HO9b3JhSXqT"
      }
    },
    {
      "cell_type": "code",
      "source": [
        "aluno = [\"Leo\", \"Cristiano\", \"Robervan\", \"Cleiton\", \"Giovanna\\n\\n\"]\n",
        "print(\"Impressão da lista de alunos inicial:\\n\\n\", aluno)\n",
        "\n",
        "aluno.append(\"Maria\")\n",
        "print(\"Impressão da lista de alunos após inclusão de Maria:\\n\\n\", aluno)\n",
        "\n",
        "\n",
        "aluno.insert(2,\"Gilberto\")\n",
        "print(\"Impressão da lista de alunos após inclusão de Gilberto na posição 2:\\n\\n\",aluno)\n",
        "\n",
        "\n",
        "aluno.remove(\"Cleiton\")\n",
        "print(\"Impressão da lista de alunos após exclusão de Cleiton:\\n\\n\", aluno)\n",
        "\n",
        "\n",
        "aluno[4] = \"Cristiano\"\n",
        "print(\"Impressão da lista de alunos após alteração do nome do índice 4 para Cristiano:\\n\\n\", aluno)\n",
        "\n",
        "\n",
        "contador = aluno.count(\"Giovanna\")\n",
        "print(\"Quantidade de alunos com nome Giovanna:\\n\\n \",contador)\n",
        "\n",
        "\n",
        "print(\"Quantidade de elementos da lista:\\n\\n \", len(aluno))\n",
        "\n",
        "\n",
        "aluno.sort()\n",
        "print(\"Impressão da lista de alunos após ordenação (sort):\\n\",aluno)\n",
        "\n",
        "\n",
        "if \"Giovanna\" in aluno:\n",
        "    print(\"Giovanna pertence a lista\")\n",
        "if \"Kaique\" not in aluno:\n",
        "    print(\"Kaique não pertence a lista\")"
      ],
      "metadata": {
        "colab": {
          "base_uri": "https://localhost:8080/"
        },
        "id": "U-4eZYTiTcoG",
        "outputId": "8eac4cfc-a883-4672-cd8f-857e37e36293"
      },
      "execution_count": 30,
      "outputs": [
        {
          "output_type": "stream",
          "name": "stdout",
          "text": [
            "Impressão da lista de alunos inicial:\n",
            "\n",
            " ['Leo', 'Cristiano', 'Robervan', 'Cleiton', 'Giovanna\\n\\n']\n",
            "Impressão da lista de alunos após inclusão de Maria:\n",
            "\n",
            " ['Leo', 'Cristiano', 'Robervan', 'Cleiton', 'Giovanna\\n\\n', 'Maria']\n",
            "Impressão da lista de alunos após inclusão de Gilberto na posição 2:\n",
            "\n",
            " ['Leo', 'Cristiano', 'Gilberto', 'Robervan', 'Cleiton', 'Giovanna\\n\\n', 'Maria']\n",
            "Impressão da lista de alunos após exclusão de Cleiton:\n",
            "\n",
            " ['Leo', 'Cristiano', 'Gilberto', 'Robervan', 'Giovanna\\n\\n', 'Maria']\n",
            "Impressão da lista de alunos após alteração do nome do índice 4 para Cristiano:\n",
            "\n",
            " ['Leo', 'Cristiano', 'Gilberto', 'Robervan', 'Cristiano', 'Maria']\n",
            "Quantidade de alunos com nome Giovanna:\n",
            "\n",
            "  0\n",
            "Quantidade de elementos da lista:\n",
            "\n",
            "  6\n",
            "Impressão da lista de alunos após ordenação (sort):\n",
            " ['Cristiano', 'Cristiano', 'Gilberto', 'Leo', 'Maria', 'Robervan']\n",
            "Kaique não pertence a lista\n"
          ]
        }
      ]
    },
    {
      "cell_type": "code",
      "source": [],
      "metadata": {
        "id": "4RXs2JP7Tjj-"
      },
      "execution_count": null,
      "outputs": []
    }
  ]
}