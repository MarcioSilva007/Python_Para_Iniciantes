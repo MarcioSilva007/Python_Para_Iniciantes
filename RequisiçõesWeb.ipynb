{
  "nbformat": 4,
  "nbformat_minor": 0,
  "metadata": {
    "colab": {
      "provenance": [],
      "authorship_tag": "ABX9TyNrzn8qXO1d3Dgwao1gxrpy",
      "include_colab_link": true
    },
    "kernelspec": {
      "name": "python3",
      "display_name": "Python 3"
    },
    "language_info": {
      "name": "python"
    }
  },
  "cells": [
    {
      "cell_type": "markdown",
      "metadata": {
        "id": "view-in-github",
        "colab_type": "text"
      },
      "source": [
        "<a href=\"https://colab.research.google.com/github/MarcioSilva007/Python_Para_Iniciantes/blob/main/Requisi%C3%A7%C3%B5esWeb.ipynb\" target=\"_parent\"><img src=\"https://colab.research.google.com/assets/colab-badge.svg\" alt=\"Open In Colab\"/></a>"
      ]
    },
    {
      "cell_type": "code",
      "execution_count": 1,
      "metadata": {
        "id": "-3qBcOlFi1AB"
      },
      "outputs": [],
      "source": [
        "import requests"
      ]
    },
    {
      "cell_type": "code",
      "source": [
        "requisicao = requests.post(\"https://putsreq.com/VQ8Tx0IqyKWMbLfPmliN\")"
      ],
      "metadata": {
        "id": "KxKkeq0jZpaZ"
      },
      "execution_count": 2,
      "outputs": []
    },
    {
      "cell_type": "code",
      "source": [
        "print(requisicao.text)"
      ],
      "metadata": {
        "colab": {
          "base_uri": "https://localhost:8080/"
        },
        "id": "83a24_i_cBh_",
        "outputId": "e49d3ae3-3d1b-4e61-ae5b-1df1b0fc16e2"
      },
      "execution_count": 3,
      "outputs": [
        {
          "output_type": "stream",
          "name": "stdout",
          "text": [
            "Olá mundo\n"
          ]
        }
      ]
    },
    {
      "cell_type": "code",
      "source": [
        "nome = input(\"Infome seu nome:\")"
      ],
      "metadata": {
        "colab": {
          "base_uri": "https://localhost:8080/"
        },
        "id": "qCEBklcEcIBD",
        "outputId": "8e698cb9-967a-4576-ef95-cd47fdceef4d"
      },
      "execution_count": 4,
      "outputs": [
        {
          "name": "stdout",
          "output_type": "stream",
          "text": [
            "Infome seu nome:Malaquias\n"
          ]
        }
      ]
    },
    {
      "cell_type": "code",
      "source": [
        "requisicao = requests.post(\"https://putsreq.com/do5JHtU5rwf2COgdaaqs?name=\"+nome)"
      ],
      "metadata": {
        "id": "kVMNIGlpcQ-7"
      },
      "execution_count": 6,
      "outputs": []
    },
    {
      "cell_type": "code",
      "source": [
        "print(requisicao.text)"
      ],
      "metadata": {
        "colab": {
          "base_uri": "https://localhost:8080/"
        },
        "id": "xsnsMAkQcYgf",
        "outputId": "30f40363-70a9-4dd0-e523-995e9125e121"
      },
      "execution_count": 8,
      "outputs": [
        {
          "output_type": "stream",
          "name": "stdout",
          "text": [
            "Hello Malaquias\n"
          ]
        }
      ]
    },
    {
      "cell_type": "code",
      "source": [
        "import requests\n",
        "import json\n",
        "\n",
        "def omdbapi (titulo):\n",
        "    requisicao = requests.post(\"http://www.omdbapi.com/?apikey=50aacf7a&t=\"+titulo)\n",
        "    return json.loads(requisicao.text)\n",
        "\n",
        "filme = input(\"Nome do Filme em ingles (Braveheart): \")\n",
        "if filme==\"\":\n",
        "  filme = \"Braveheart\"\n",
        "\n",
        "dicionario = omdbapi(filme)\n",
        "print(\"\\nOMDB\")\n",
        "if (dicionario[\"Response\"]) == \"False\":\n",
        " print(\"Filme nao localizado\")\n",
        "else:\n",
        "  print (\"Ano de Produção:\" +dicionario[\"Year\"])\n",
        "  print (\"Genero: \" + dicionario[\"Genre\"])\n",
        "  print (\"Direção: \" + dicionario[\"Director\"])\n",
        "  atores = dicionario[\"Actors\"].split(\", \")\n",
        "  printouator = False\n",
        "  for ator in atores:\n",
        "    if not printouator:\n",
        "       print (\"Ator: \" + ator)\n",
        "       printouator = True\n",
        "    else:\n",
        "        print(\"    : \" + ator)\n",
        "    ratings = dicionario[\"Ratings\"]\n",
        "    for rating in ratings:\n",
        "          source = rating[\"Source\"]\n",
        "          value = rating[\"Value\"]\n",
        "          print(\"Fonte:\",source+\". Valor:\",value)"
      ],
      "metadata": {
        "colab": {
          "base_uri": "https://localhost:8080/"
        },
        "id": "3sNUQo_gdLK5",
        "outputId": "70155711-d153-4bd6-9161-9d71a02592b7"
      },
      "execution_count": 14,
      "outputs": [
        {
          "output_type": "stream",
          "name": "stdout",
          "text": [
            "Nome do Filme em ingles (Braveheart): Braveheart\n",
            "\n",
            "OMDB\n",
            "Ano de Produção:1995\n",
            "Genero: Biography, Drama, History\n",
            "Direção: Mel Gibson\n",
            "Ator: Mel Gibson\n",
            "Fonte: Internet Movie Database. Valor: 8.3/10\n",
            "Fonte: Rotten Tomatoes. Valor: 76%\n",
            "Fonte: Metacritic. Valor: 68/100\n",
            "    : Sophie Marceau\n",
            "Fonte: Internet Movie Database. Valor: 8.3/10\n",
            "Fonte: Rotten Tomatoes. Valor: 76%\n",
            "Fonte: Metacritic. Valor: 68/100\n",
            "    : Patrick McGoohan\n",
            "Fonte: Internet Movie Database. Valor: 8.3/10\n",
            "Fonte: Rotten Tomatoes. Valor: 76%\n",
            "Fonte: Metacritic. Valor: 68/100\n"
          ]
        }
      ]
    },
    {
      "cell_type": "code",
      "source": [
        "#Importando blibiotecas\n",
        "import requests\n",
        "import json"
      ],
      "metadata": {
        "id": "rMLNCodpi4m_"
      },
      "execution_count": 29,
      "outputs": []
    },
    {
      "cell_type": "code",
      "source": [
        "#Criando uma função\n",
        "def omdbpai (titulo):\n",
        "  requisicao = request.post(\"http://www.omdbapi.com/?apikey=50aacf7a&t=\"+titulo)\n",
        "  return json.loads(requisicao.text)"
      ],
      "metadata": {
        "id": "-Rumy3ZUjzvr"
      },
      "execution_count": 30,
      "outputs": []
    },
    {
      "cell_type": "code",
      "source": [
        "#Fazendo uma pergunta e com ela uma condição que diz se o filme estiver respondido vazio ele recebera o nome do filme\n",
        "filme = input('Nome do filme em Ingles (BraveHeart)')\n",
        "if filme == \"\":\n",
        "  filme = 'Braveheart'"
      ],
      "metadata": {
        "colab": {
          "base_uri": "https://localhost:8080/"
        },
        "id": "2-tOQE_Dj4Hg",
        "outputId": "5cf57b27-27d2-4092-e15d-c62eb34c05bc"
      },
      "execution_count": 31,
      "outputs": [
        {
          "name": "stdout",
          "output_type": "stream",
          "text": [
            "Nome do filme em Ingles (BraveHeart)\n"
          ]
        }
      ]
    },
    {
      "cell_type": "code",
      "source": [
        "#Criando uma variavel dicionario que vai receber como parametro a função omdbapi indicando o filme\n",
        "dicionario = omdbapi(filme)\n",
        "print ('\\nOMDB')"
      ],
      "metadata": {
        "colab": {
          "base_uri": "https://localhost:8080/"
        },
        "id": "4qtlRXcCj57K",
        "outputId": "3acfa09d-cd40-4241-ad15-bb5fdf41a8bc"
      },
      "execution_count": 32,
      "outputs": [
        {
          "output_type": "stream",
          "name": "stdout",
          "text": [
            "\n",
            "OMDB\n"
          ]
        }
      ]
    },
    {
      "cell_type": "code",
      "source": [
        "#verifica o valor da chave response no dicionario, caso não tiver diz que o filme não foi localizado\n",
        "if (dicionario[\"Response\"]) == \"False\":\n",
        "  print('Filme não localizado')\n",
        "else:\n",
        "  #printa o ano de produção\n",
        "  print(\"Ano de pordução: \"+ dicionario[\"Year\"])\n",
        "  #imprime o genero\n",
        "  print(\"Genero: \"+dicionario[\"Genre\"])\n",
        "  #imprime a direcao\n",
        "  print(\"direção: \"+dicionario[\"Director\"])\n",
        "  #aqui crio uma variavel atores atribuindo o dicionario para recuperar os atores, iso o split para criar uma lista e separar por virgula\n",
        "  atores = dicionario[\"Actors\"].split(\", \")\n",
        "  #atribuindo a variavel o valor FALSE\n",
        "  printouator = False\n",
        "\n",
        "#usando uma estrutura for para percorrer a lista de atores\n",
        "#note que printouator foi criada apenas para que seja impressa somente a primeira linha ator\n",
        "  for ator in atores:\n",
        "    if not printouator:\n",
        "      print ('Ator:' +ator)\n",
        "      printouator = True\n",
        "  else:\n",
        "    print (\"     :\"+ator)\n",
        "\n",
        "  #atribuída a variável ratings o valor do dicionario que tem como chave a palavra Ratings\n",
        "  ratings = dicionario[\"Ratings\"]\n",
        "\n",
        "  #source foi atribiuido source do dicionario e values também ao final sera impresso o valor de source e de value\n",
        "  for rating in ratings:\n",
        "    source = rating[\"Source\"]\n",
        "    value = rating [\"Value\"]\n",
        "    print('Fonte:', source+ \".Valor:\", value)"
      ],
      "metadata": {
        "colab": {
          "base_uri": "https://localhost:8080/"
        },
        "id": "1Sm78N5SkGy2",
        "outputId": "756e60db-ef76-4aa2-f1ea-2014b1f36a2e"
      },
      "execution_count": 33,
      "outputs": [
        {
          "output_type": "stream",
          "name": "stdout",
          "text": [
            "Ano de pordução: 1995\n",
            "Genero: Biography, Drama, History\n",
            "direção: Mel Gibson\n",
            "Ator:Mel Gibson\n",
            "     :Patrick McGoohan\n",
            "Fonte: Internet Movie Database.Valor: 8.3/10\n",
            "Fonte: Rotten Tomatoes.Valor: 76%\n",
            "Fonte: Metacritic.Valor: 68/100\n"
          ]
        }
      ]
    },
    {
      "cell_type": "code",
      "source": [
        "# Site usado para o teste de requisição = https://putsreq.com/\n",
        "# Site usado para criação da api = http://www.omdbapi.com/apikey.aspx"
      ],
      "metadata": {
        "id": "0fThnPK6omGA"
      },
      "execution_count": 28,
      "outputs": []
    }
  ]
}