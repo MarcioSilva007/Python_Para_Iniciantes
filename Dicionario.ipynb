{
  "nbformat": 4,
  "nbformat_minor": 0,
  "metadata": {
    "colab": {
      "provenance": [],
      "authorship_tag": "ABX9TyOc1BPImJcMf+gyJHpjqLys",
      "include_colab_link": true
    },
    "kernelspec": {
      "name": "python3",
      "display_name": "Python 3"
    },
    "language_info": {
      "name": "python"
    }
  },
  "cells": [
    {
      "cell_type": "markdown",
      "metadata": {
        "id": "view-in-github",
        "colab_type": "text"
      },
      "source": [
        "<a href=\"https://colab.research.google.com/github/MarcioSilva007/Python_Para_Iniciantes/blob/main/Dicionario.ipynb\" target=\"_parent\"><img src=\"https://colab.research.google.com/assets/colab-badge.svg\" alt=\"Open In Colab\"/></a>"
      ]
    },
    {
      "cell_type": "markdown",
      "source": [
        "###Criando um dicionário"
      ],
      "metadata": {
        "id": "xmShFsi6u9yj"
      }
    },
    {
      "cell_type": "code",
      "execution_count": null,
      "metadata": {
        "id": "UvAhDSESXwtg",
        "colab": {
          "base_uri": "https://localhost:8080/"
        },
        "outputId": "e88c8a57-cb80-4a39-9409-cc34ad8f9c0b"
      },
      "outputs": [
        {
          "output_type": "stream",
          "name": "stdout",
          "text": [
            "{'Ra': 123456789, 'Nome:': 'Alex', 'Idade:': 21, 'Nota 1:': 10, 'Nota 2:': 5}\n"
          ]
        }
      ],
      "source": [
        "dicionario = {\"Ra\":123456789, \"Nome:\":'Alex', \"Idade:\":21, \"Nota 1:\": 10, \"Nota 2:\": 5}\n",
        "print (dicionario)"
      ]
    },
    {
      "cell_type": "markdown",
      "source": [
        "### Olhando o que tem no dicionário\n"
      ],
      "metadata": {
        "id": "6XAF0zzGu80s"
      }
    },
    {
      "cell_type": "code",
      "source": [
        "for x in dicionario:\n",
        "  print (x)"
      ],
      "metadata": {
        "colab": {
          "base_uri": "https://localhost:8080/"
        },
        "id": "4RkIXtyZuuY7",
        "outputId": "a531f9b7-8b25-4a3e-aea9-5f0cb0f3ae2e"
      },
      "execution_count": null,
      "outputs": [
        {
          "output_type": "stream",
          "name": "stdout",
          "text": [
            "Ra\n",
            "Nome:\n",
            "Idade:\n",
            "Nota 1:\n",
            "Nota 2:\n"
          ]
        }
      ]
    },
    {
      "cell_type": "markdown",
      "source": [
        "###Imprimindo chaves do dicionario"
      ],
      "metadata": {
        "id": "PjxnTRdgvSWF"
      }
    },
    {
      "cell_type": "code",
      "source": [
        "for x, y in dicionario.items():\n",
        "  print (x,y)"
      ],
      "metadata": {
        "colab": {
          "base_uri": "https://localhost:8080/"
        },
        "id": "Ez64jChKvW6c",
        "outputId": "95c17c39-a3cb-4fff-f573-3208a7008ef2"
      },
      "execution_count": null,
      "outputs": [
        {
          "output_type": "stream",
          "name": "stdout",
          "text": [
            "Ra 123456789\n",
            "Nome: Alex\n",
            "Idade: 21\n",
            "Nota 1: 10\n",
            "Nota 2: 5\n"
          ]
        }
      ]
    },
    {
      "cell_type": "markdown",
      "source": [
        "###Usando dicionario. Exemplos"
      ],
      "metadata": {
        "id": "kYt5sGH1v-ED"
      }
    },
    {
      "cell_type": "code",
      "source": [
        "if (\"Idade\" in dicionario):\n",
        "    print(\"Idade:\",dicionario[\"Idade\"])"
      ],
      "metadata": {
        "id": "AyjgyhHOygyr"
      },
      "execution_count": null,
      "outputs": []
    },
    {
      "cell_type": "code",
      "source": [
        "if (\"Alex\" in dicionario.values() ):\n",
        "    print(\"Alex é um valor que pertence ao dicionario\")"
      ],
      "metadata": {
        "colab": {
          "base_uri": "https://localhost:8080/"
        },
        "id": "QioVCGDhwl2P",
        "outputId": "4ce38c5a-14a9-4b3e-c8ab-a8b716904c81"
      },
      "execution_count": null,
      "outputs": [
        {
          "output_type": "stream",
          "name": "stdout",
          "text": [
            "Alex é um valor que pertence ao dicionario\n"
          ]
        }
      ]
    },
    {
      "cell_type": "code",
      "source": [
        "dicionario = {\"RA\":123456789,\"nome\":\"Alex\",\"idade\":23, \"AV1\":7, \"AV2\":9}\n",
        "\n",
        "print(\"\\n\\noriginal:\",dicionario)\n",
        "\n",
        "del dicionario[\"idade\"]\n",
        "\n",
        "print(\"\\n\\nApos del dicionario[idade]:\",dicionario)\n",
        "\n",
        "media = (dicionario[\"AV1\"]+dicionario[\"AV2\"])/2\n",
        "\n",
        "dicionario[\"media\"] = media\n",
        "\n",
        "print(\"\\n\\nApos inclusao:\",dicionario)"
      ],
      "metadata": {
        "colab": {
          "base_uri": "https://localhost:8080/"
        },
        "id": "QOJj7aEBzHrw",
        "outputId": "eaff90eb-5e4e-4220-90c2-6a6a412ba0b2"
      },
      "execution_count": null,
      "outputs": [
        {
          "output_type": "stream",
          "name": "stdout",
          "text": [
            "\n",
            "\n",
            "original: {'RA': 123456789, 'nome': 'Alex', 'idade': 23, 'AV1': 7, 'AV2': 9}\n",
            "\n",
            "\n",
            "Apos del dicionario[idade]: {'RA': 123456789, 'nome': 'Alex', 'AV1': 7, 'AV2': 9}\n",
            "\n",
            "\n",
            "Apos inclusao: {'RA': 123456789, 'nome': 'Alex', 'AV1': 7, 'AV2': 9, 'media': 8.0}\n"
          ]
        }
      ]
    }
  ]
}