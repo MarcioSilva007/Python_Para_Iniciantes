{
  "nbformat": 4,
  "nbformat_minor": 0,
  "metadata": {
    "colab": {
      "provenance": [],
      "authorship_tag": "ABX9TyP8fnO2I1payRzwMn/nsGH8",
      "include_colab_link": true
    },
    "kernelspec": {
      "name": "python3",
      "display_name": "Python 3"
    },
    "language_info": {
      "name": "python"
    }
  },
  "cells": [
    {
      "cell_type": "markdown",
      "metadata": {
        "id": "view-in-github",
        "colab_type": "text"
      },
      "source": [
        "<a href=\"https://colab.research.google.com/github/MarcioSilva007/Python_Para_Iniciantes/blob/main/Matrizes_NumpyMultidimensional.ipynb\" target=\"_parent\"><img src=\"https://colab.research.google.com/assets/colab-badge.svg\" alt=\"Open In Colab\"/></a>"
      ]
    },
    {
      "cell_type": "code",
      "source": [
        "import numpy as np\n",
        "#criando matriz\n",
        "matriz = np.array([[1,2,3],[4,5,6],[7,8,9],[10,20,30]])\n",
        "\n",
        "#vendo matriz\n",
        "print(\"\\nMatriz:\\n\",matriz)\n",
        "\n",
        "#procurando elemnto 1 da segunda posicao lembrando que a linha e coluna começa em 0\n",
        "print(\"\\nElemento posicao (1,2):\\n\",matriz[1][2])\n",
        "\n",
        "#mostrando dimensões\n",
        "print(\"\\nDimensoes:\",matriz.ndim)\n",
        "#alterando a linha 3 coluna 1 para o caractere alfanumerico 18\n",
        "matriz[3][1] = 18\n",
        "print(\"\\nMatriz:\\n\",matriz)"
      ],
      "metadata": {
        "colab": {
          "base_uri": "https://localhost:8080/"
        },
        "id": "2b03XGwhAvI5",
        "outputId": "759349fb-b744-4b17-f0da-929c7e5f960b"
      },
      "execution_count": 4,
      "outputs": [
        {
          "output_type": "stream",
          "name": "stdout",
          "text": [
            "\n",
            "Matriz:\n",
            " [[ 1  2  3]\n",
            " [ 4  5  6]\n",
            " [ 7  8  9]\n",
            " [10 20 30]]\n",
            "\n",
            "Elemento posicao (1,2):\n",
            " 6\n",
            "\n",
            "Dimensoes: 2\n",
            "\n",
            "Matriz:\n",
            " [[ 1  2  3]\n",
            " [ 4  5  6]\n",
            " [ 7  8  9]\n",
            " [10 18 30]]\n"
          ]
        }
      ]
    },
    {
      "cell_type": "code",
      "source": [
        "import numpy as np\n",
        "\n",
        "#criando matrizes\n",
        "matriz01 = np.array ([[1,2,3,], [4,5,6], [7,8,9],[10,20,30]])\n",
        "matriz02 = np.array ([[2,2,2,], [6,9,-10], [1,7,9], [32,6,8]])\n",
        "matriz03 = np.array ([[2,2], [0,4], [2,2]])"
      ],
      "metadata": {
        "id": "HN8uDRaLsgtb"
      },
      "execution_count": 7,
      "outputs": []
    },
    {
      "cell_type": "code",
      "source": [
        "matrizsoma = matriz01 + matriz02\n",
        "matrizsub = matriz01 - matriz02\n",
        "matrizprod = matriz01.dot(matriz03)"
      ],
      "metadata": {
        "id": "590jIfYZCwMQ"
      },
      "execution_count": 8,
      "outputs": []
    },
    {
      "cell_type": "code",
      "source": [
        "print('\\n\\nMatriz01:\\n\\n', matriz01)\n",
        "print('\\n\\nMatriz02:\\n\\n', matriz02)\n",
        "print('\\n\\nMatriz03:\\n\\n', matriz03)"
      ],
      "metadata": {
        "colab": {
          "base_uri": "https://localhost:8080/"
        },
        "id": "XiH5vM_UDCSk",
        "outputId": "492b5370-3b4b-42c6-e489-484ddb649628"
      },
      "execution_count": 13,
      "outputs": [
        {
          "output_type": "stream",
          "name": "stdout",
          "text": [
            "\n",
            "\n",
            "Matriz01:\n",
            "\n",
            " [[ 1  2  3]\n",
            " [ 4  5  6]\n",
            " [ 7  8  9]\n",
            " [10 20 30]]\n",
            "\n",
            "\n",
            "Matriz02:\n",
            "\n",
            " [[  2   2   2]\n",
            " [  6   9 -10]\n",
            " [  1   7   9]\n",
            " [ 32   6   8]]\n",
            "\n",
            "\n",
            "Matriz03:\n",
            "\n",
            " [[2 2]\n",
            " [0 4]\n",
            " [2 2]]\n"
          ]
        }
      ]
    },
    {
      "cell_type": "code",
      "source": [
        "print('\\n\\nMatrizSoma: da matriz 01 e 02:\\n\\n', matrizsoma)\n",
        "print('\\n\\nMatrizSub: da matriz 01 e 02\\n\\n', matrizsoma)\n",
        "print('\\n\\nProdtudo da matriz 01 x matriz 03 :\\n\\n', matrizsoma)"
      ],
      "metadata": {
        "colab": {
          "base_uri": "https://localhost:8080/"
        },
        "id": "ilrmsSiyDdQN",
        "outputId": "f4fc63e9-0be9-4fef-ef45-5027f4a2e3ab"
      },
      "execution_count": 12,
      "outputs": [
        {
          "output_type": "stream",
          "name": "stdout",
          "text": [
            "\n",
            "\n",
            "MatrizSoma: da matriz 01 e 02:\n",
            "\n",
            " [[ 3  4  5]\n",
            " [10 14 -4]\n",
            " [ 8 15 18]\n",
            " [42 26 38]]\n",
            "\n",
            "\n",
            "MatrizSub: da matriz 01 e 02\n",
            "\n",
            " [[ 3  4  5]\n",
            " [10 14 -4]\n",
            " [ 8 15 18]\n",
            " [42 26 38]]\n",
            "\n",
            "\n",
            "Prodtudo da matriz 01 x matriz 03 :\n",
            "\n",
            " [[ 3  4  5]\n",
            " [10 14 -4]\n",
            " [ 8 15 18]\n",
            " [42 26 38]]\n"
          ]
        }
      ]
    },
    {
      "cell_type": "markdown",
      "source": [
        "###Concatenar e dividir matrizes\n"
      ],
      "metadata": {
        "id": "0AWVcaV2FKgM"
      }
    },
    {
      "cell_type": "code",
      "source": [
        "import numpy as np\n",
        "matriz01 = np.array ([[1,2,3,], [4,5,6], [7,8,9],[10,20,30]])\n",
        "matriz02 = np.array ([[2,2,2,], [6,9,-10], [1,7,9], [32,6,8]])\n",
        "matriz03 = np.zeros ((1,3))\n",
        "\n",
        "#concatenando a matriz\n",
        "matrizresultante = np.concatenate((matriz01, matriz02, matriz03))"
      ],
      "metadata": {
        "id": "kSp15ICTGUvY"
      },
      "execution_count": 16,
      "outputs": []
    },
    {
      "cell_type": "code",
      "source": [
        "print('\\n\\nMatriz01:\\n\\n', matriz01)\n",
        "print('\\n\\nMatriz02:\\n\\n', matriz02)\n",
        "print('\\n\\nMatriz03:\\n\\n', matriz03)\n",
        "print('\\n\\nMatriz concatenada\\n\\n', matrizresultante)"
      ],
      "metadata": {
        "colab": {
          "base_uri": "https://localhost:8080/"
        },
        "id": "JKCKs48ZG-Py",
        "outputId": "3ba2ece1-eb6a-4fe6-ac05-aa47935426e3"
      },
      "execution_count": 18,
      "outputs": [
        {
          "output_type": "stream",
          "name": "stdout",
          "text": [
            "\n",
            "\n",
            "Matriz01:\n",
            "\n",
            " [[ 1  2  3]\n",
            " [ 4  5  6]\n",
            " [ 7  8  9]\n",
            " [10 20 30]]\n",
            "\n",
            "\n",
            "Matriz02:\n",
            "\n",
            " [[  2   2   2]\n",
            " [  6   9 -10]\n",
            " [  1   7   9]\n",
            " [ 32   6   8]]\n",
            "\n",
            "\n",
            "Matriz03:\n",
            "\n",
            " [[0. 0. 0.]]\n",
            "\n",
            "\n",
            "Matriz concatenada\n",
            "\n",
            " [[  1.   2.   3.]\n",
            " [  4.   5.   6.]\n",
            " [  7.   8.   9.]\n",
            " [ 10.  20.  30.]\n",
            " [  2.   2.   2.]\n",
            " [  6.   9. -10.]\n",
            " [  1.   7.   9.]\n",
            " [ 32.   6.   8.]\n",
            " [  0.   0.   0.]]\n"
          ]
        }
      ]
    },
    {
      "cell_type": "markdown",
      "source": [
        "###Divinida as matrizes"
      ],
      "metadata": {
        "id": "uIlMjBdfG8fe"
      }
    },
    {
      "cell_type": "code",
      "source": [
        "import numpy as np\n",
        "\n",
        "matriz01 = np.array ([[1,2,3], [4,5,6], [7,8,9], [10,20,30]])\n",
        "\n",
        "#quebrando matrizes em partes\n",
        "matrizresultante = np.split(matriz01, 2)"
      ],
      "metadata": {
        "id": "56VbgzILH0z0"
      },
      "execution_count": 19,
      "outputs": []
    },
    {
      "cell_type": "code",
      "source": [
        "print('Matriz 01\\n\\n', matriz01)"
      ],
      "metadata": {
        "colab": {
          "base_uri": "https://localhost:8080/"
        },
        "id": "cnFp91fWISDb",
        "outputId": "d4c33684-e026-491c-b871-148d20e15575"
      },
      "execution_count": 21,
      "outputs": [
        {
          "output_type": "stream",
          "name": "stdout",
          "text": [
            "Matriz 01\n",
            "\n",
            " [[ 1  2  3]\n",
            " [ 4  5  6]\n",
            " [ 7  8  9]\n",
            " [10 20 30]]\n"
          ]
        }
      ]
    },
    {
      "cell_type": "code",
      "source": [
        "print('Matriz resultante parte 01:\\n\\n', matrizresultante[0])"
      ],
      "metadata": {
        "colab": {
          "base_uri": "https://localhost:8080/"
        },
        "id": "gLX1v1rcIWxA",
        "outputId": "63f23d99-0225-4902-9364-0c75face6674"
      },
      "execution_count": 23,
      "outputs": [
        {
          "output_type": "stream",
          "name": "stdout",
          "text": [
            "Matriz resultante parte 01:\n",
            "\n",
            " [[1 2 3]\n",
            " [4 5 6]]\n"
          ]
        }
      ]
    },
    {
      "cell_type": "code",
      "source": [
        "print('Matriz Resultante parte 02:\\n\\n', matrizresultante[1])"
      ],
      "metadata": {
        "colab": {
          "base_uri": "https://localhost:8080/"
        },
        "id": "s9zMlEQhIgTi",
        "outputId": "71f22fac-6920-4813-9002-274cb87cf825"
      },
      "execution_count": 24,
      "outputs": [
        {
          "output_type": "stream",
          "name": "stdout",
          "text": [
            "Matriz Resultante parte 02:\n",
            "\n",
            " [[ 7  8  9]\n",
            " [10 20 30]]\n"
          ]
        }
      ]
    },
    {
      "cell_type": "code",
      "source": [
        "#nao da para fazer isso pois no split quebramos em duas partes\n",
        "print('Matriz resultante parte 03:\\n\\n', matrizresultante[2])"
      ],
      "metadata": {
        "colab": {
          "base_uri": "https://localhost:8080/",
          "height": 178
        },
        "id": "nowz1KW4It8B",
        "outputId": "6584f251-7f68-487a-a442-144a53ccfe24"
      },
      "execution_count": 25,
      "outputs": [
        {
          "output_type": "error",
          "ename": "IndexError",
          "evalue": "ignored",
          "traceback": [
            "\u001b[0;31m---------------------------------------------------------------------------\u001b[0m",
            "\u001b[0;31mIndexError\u001b[0m                                Traceback (most recent call last)",
            "\u001b[0;32m<ipython-input-25-ec6d6b91e7a3>\u001b[0m in \u001b[0;36m<cell line: 1>\u001b[0;34m()\u001b[0m\n\u001b[0;32m----> 1\u001b[0;31m \u001b[0mprint\u001b[0m\u001b[0;34m(\u001b[0m\u001b[0;34m'Matriz resultante parte 03:\\n\\n'\u001b[0m\u001b[0;34m,\u001b[0m \u001b[0mmatrizresultante\u001b[0m\u001b[0;34m[\u001b[0m\u001b[0;36m2\u001b[0m\u001b[0;34m]\u001b[0m\u001b[0;34m)\u001b[0m\u001b[0;34m\u001b[0m\u001b[0;34m\u001b[0m\u001b[0m\n\u001b[0m",
            "\u001b[0;31mIndexError\u001b[0m: list index out of range"
          ]
        }
      ]
    },
    {
      "cell_type": "markdown",
      "source": [
        "###Matriz transposta"
      ],
      "metadata": {
        "id": "MxTC2XW9JcW7"
      }
    },
    {
      "cell_type": "code",
      "source": [
        "#importando a blibioteca\n",
        "import numpy as np\n",
        "\n",
        "#criando a matriz\n",
        "matriz01 = np.array([[10, 20],[30,40],[50,60],[70,80]])\n",
        "\n",
        "#criando variavel para transformar em uma matriz transposta\n",
        "matriztransposta = matriz01.transpose()\n",
        "#ou matriztransposta = np.transpose(matriz01)\n",
        "\n",
        "print('Matriz normal:\\n\\n', matriz01)\n",
        "print('Matriz transposta:\\n\\n', matriztransposta)"
      ],
      "metadata": {
        "colab": {
          "base_uri": "https://localhost:8080/"
        },
        "id": "ikatgTUlJfbm",
        "outputId": "cff1b763-cdaf-499f-a049-d0fef8ef6868"
      },
      "execution_count": 30,
      "outputs": [
        {
          "output_type": "stream",
          "name": "stdout",
          "text": [
            "Matriz normal:\n",
            "\n",
            " [[10 20]\n",
            " [30 40]\n",
            " [50 60]\n",
            " [70 80]]\n",
            "Matriz transposta:\n",
            "\n",
            " [[10 30 50 70]\n",
            " [20 40 60 80]]\n"
          ]
        }
      ]
    },
    {
      "cell_type": "markdown",
      "source": [
        "####sum(): soma os elementos de uma matriz\n",
        "\n",
        "####min(): recupera o menor elemento da matriz\n",
        "\n",
        "####max(): recupera o maior elemento da matriz\n",
        "\n",
        "####ptp(): apresenta a diferença entre o maior elemento da matriz e o menor elemento da matriz\n",
        "\n",
        "####mean(): média aritmética entre os elementos da matriz\n",
        "\n",
        "####var(): variância entre os elementos da matriz\n",
        "\n",
        "####std(): variância entre os elementos da matriz"
      ],
      "metadata": {
        "id": "1uGcJZepLpKt"
      }
    },
    {
      "cell_type": "code",
      "source": [
        "import numpy as np\n",
        "\n",
        "\n",
        "matriz = np.array([[1,2,3], [4,5,6],[7,8,9], [55,80,65]])\n",
        "\n",
        "print('Maior valor:', matriz.max())\n",
        "print('Menor valor:', matriz.min())\n",
        "print('Comparação entre menor e maior valor da matriz:', matriz.ptp())\n",
        "print('Soma da matriz:', matriz.sum())\n",
        "print('Média entre os elementos da matrizes:', matriz.mean())\n",
        "print('Variância entre os elementos das matrizes', matriz.var())\n",
        "print('Variancia entre os elementos da matriz:', matriz.std())\n",
        "\n",
        "\n"
      ],
      "metadata": {
        "colab": {
          "base_uri": "https://localhost:8080/"
        },
        "id": "rARHA_sgLq2E",
        "outputId": "581f88e7-347e-42bb-9d59-12ba2342d5a4"
      },
      "execution_count": 31,
      "outputs": [
        {
          "output_type": "stream",
          "name": "stdout",
          "text": [
            "Maior valor: 80\n",
            "Menor valor: 1\n",
            "Comparação entre menor e maior valor da matriz: 79\n",
            "Soma da matriz: 245\n",
            "Média entre os elementos da matrizes: 20.416666666666668\n",
            "Variância entre os elementos das matrizes 744.4097222222222\n",
            "Variancia entre os elementos da matriz: 27.28387293296577\n"
          ]
        }
      ]
    },
    {
      "cell_type": "markdown",
      "source": [
        "#Redimensionar Matrizes\n",
        "####resize:resize consegue fazer o oposto do reshape conseguindo criar matrizes sem que as dimensoes sejam as mesmas\n",
        "\n",
        "####reshape: não altera os valores das matrizes"
      ],
      "metadata": {
        "id": "nzJky0oiNvXf"
      }
    },
    {
      "cell_type": "code",
      "source": [
        "import numpy as np\n",
        "\n",
        "matriz = np.array([[1,2,3,4,5],[6,7,8,9,10],[11,12,13,14,15]])\n",
        "\n",
        "print('\\n\\nMatriz antes do reshape:\\n\\n', matriz)\n",
        "print('\\n\\nReshape:\\n\\n', matriz.reshape(5,3))\n",
        "print('\\n\\nMatriz após reshape:\\n\\n', matriz)\n",
        "print('\\n\\nResize:\\n\\n', matriz.resize(8,2))\n",
        "print('\\n\\nMatriz após resize:\\n\\n', matriz)"
      ],
      "metadata": {
        "colab": {
          "base_uri": "https://localhost:8080/"
        },
        "id": "hyUNSL3nNTS-",
        "outputId": "ac6c9029-2848-4fb7-a0a5-a25530850c84"
      },
      "execution_count": 36,
      "outputs": [
        {
          "output_type": "stream",
          "name": "stdout",
          "text": [
            "\n",
            "\n",
            "Matriz antes do reshape:\n",
            "\n",
            " [[ 1  2  3  4  5]\n",
            " [ 6  7  8  9 10]\n",
            " [11 12 13 14 15]]\n",
            "\n",
            "\n",
            "Reshape:\n",
            "\n",
            " [[ 1  2  3]\n",
            " [ 4  5  6]\n",
            " [ 7  8  9]\n",
            " [10 11 12]\n",
            " [13 14 15]]\n",
            "\n",
            "\n",
            "Matriz após reshape:\n",
            "\n",
            " [[ 1  2  3  4  5]\n",
            " [ 6  7  8  9 10]\n",
            " [11 12 13 14 15]]\n",
            "\n",
            "\n",
            "Resize:\n",
            "\n",
            " None\n",
            "\n",
            "\n",
            "Matriz após resize:\n",
            "\n",
            " [[ 1  2]\n",
            " [ 3  4]\n",
            " [ 5  6]\n",
            " [ 7  8]\n",
            " [ 9 10]\n",
            " [11 12]\n",
            " [13 14]\n",
            " [15  0]]\n"
          ]
        }
      ]
    },
    {
      "cell_type": "code",
      "source": [],
      "metadata": {
        "id": "6LwrF84UPmy3"
      },
      "execution_count": null,
      "outputs": []
    }
  ]
}