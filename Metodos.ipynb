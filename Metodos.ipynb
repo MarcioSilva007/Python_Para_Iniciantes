{
  "nbformat": 4,
  "nbformat_minor": 0,
  "metadata": {
    "colab": {
      "provenance": [],
      "authorship_tag": "ABX9TyNbmMGY5a8DVTxDIVAPmgeR",
      "include_colab_link": true
    },
    "kernelspec": {
      "name": "python3",
      "display_name": "Python 3"
    },
    "language_info": {
      "name": "python"
    }
  },
  "cells": [
    {
      "cell_type": "markdown",
      "metadata": {
        "id": "view-in-github",
        "colab_type": "text"
      },
      "source": [
        "<a href=\"https://colab.research.google.com/github/MarcioSilva007/Python_Para_Iniciantes/blob/main/Metodos.ipynb\" target=\"_parent\"><img src=\"https://colab.research.google.com/assets/colab-badge.svg\" alt=\"Open In Colab\"/></a>"
      ]
    },
    {
      "cell_type": "markdown",
      "source": [
        "#Classes são formadas por atributos e operadores\n",
        "###um objeto é uma instancia de uma classe logo uma logo uma instancia de uma classe é um objeto"
      ],
      "metadata": {
        "id": "Hp6Fk6yghr2Y"
      }
    },
    {
      "cell_type": "code",
      "source": [
        "class AlunoEL:\n",
        "        def __init__(self, matricula, nome, curso, nota1, nota2, nota3):\n",
        "            self.matricula = matricula\n",
        "            self.nome = nome\n",
        "            self.curso = curso\n",
        "            self.nota1 = nota1\n",
        "            self.nota2 = nota2\n",
        "            self.nota3 = nota3\n",
        "            self.media = 0\n",
        "\n",
        "        def getMatricula (self):\n",
        "            return self.matricula\n",
        "\n",
        "        def getNome (self):\n",
        "            return self.nome\n",
        "\n",
        "        def getCurso (self):\n",
        "            return self.curso\n",
        "\n",
        "        def getNota1 (self):\n",
        "            return self.nota1\n",
        "\n",
        "        def getNota2 (self):\n",
        "            return self.nota2\n",
        "\n",
        "        def getNota3 (self):\n",
        "            return self.nota3\n",
        "\n",
        "        def getMedia (self):\n",
        "            return self.media\n",
        "\n",
        "        def setMatricula (self, matricula):\n",
        "            self.matricula = matricula\n",
        "\n",
        "        def setNome(self, nome):\n",
        "            self.nome = nome\n",
        "\n",
        "        def setCurso(self, curso):\n",
        "            self.curso = curso\n",
        "\n",
        "        def setNota1(self, nota1):\n",
        "            self.nota1 = nota1\n",
        "\n",
        "        def setNota2(self, nota2):\n",
        "            self.nota2 = nota2\n",
        "\n",
        "        def setNota3(self, nota3):\n",
        "            self.nota3 = nota3\n",
        "\n",
        "        def calcMedia (self):\n",
        "            if (self.curso == \"ingles\"):\n",
        "                self.media = (self.nota1+self.nota2+self.nota3) / 3\n",
        "            else:\n",
        "                self.media = (self.nota1 + self.nota2 + (2*self.nota3)) / 4\n",
        "\n"
      ],
      "metadata": {
        "id": "gLHwmW-BtdlE"
      },
      "execution_count": 1,
      "outputs": []
    },
    {
      "cell_type": "code",
      "source": [
        "aluno1 = AlunoEL (1,\"ernardo\", \"ingles\",8.5,7,10)\n",
        "aluno2 = AlunoEL (2,\"Luiza\", \"espanhol\",8.5,7,10)\n",
        "aluno1.setNome(\"Bernardo\")\n",
        "aluno1.calcMedia()\n",
        "aluno2.calcMedia()\n",
        "nome1 = aluno1.getNome()\n",
        "media1 = aluno1.getMedia()\n",
        "nome2 = aluno2.getNome()\n",
        "media2 = aluno2.getMedia()\n",
        "print(nome1, \"tem media igual a\", media1)\n",
        "print(nome2, \"tem media igual a\", media2)"
      ],
      "metadata": {
        "colab": {
          "base_uri": "https://localhost:8080/"
        },
        "id": "bcFw6m7TAN0Q",
        "outputId": "c4dbf005-9bd8-48c9-a960-1a910740ec31"
      },
      "execution_count": 11,
      "outputs": [
        {
          "output_type": "stream",
          "name": "stdout",
          "text": [
            "Bernardo tem media igual a 8.5\n",
            "Luiza tem media igual a 8.875\n"
          ]
        }
      ]
    },
    {
      "cell_type": "code",
      "source": [
        "#mostrando o aluno com seus atributos\n",
        "aluno1 = AlunoEL (1,\"ernardo\", \"ingles\",8.5,7,10)\n",
        "print (aluno1.nome)"
      ],
      "metadata": {
        "colab": {
          "base_uri": "https://localhost:8080/"
        },
        "id": "CohtkeipfhGo",
        "outputId": "ee821e28-4aeb-4e01-af69-e046bae97313"
      },
      "execution_count": 16,
      "outputs": [
        {
          "output_type": "stream",
          "name": "stdout",
          "text": [
            "ernardo\n"
          ]
        }
      ]
    },
    {
      "cell_type": "code",
      "source": [
        "aluno2 = AlunoEL (2,\"Luiza\", \"espanhol\",8.5,7,10)"
      ],
      "metadata": {
        "id": "gZeC__D3f4qz"
      },
      "execution_count": 12,
      "outputs": []
    },
    {
      "cell_type": "code",
      "source": [
        "#Alterando o nome para o nome correto do aluno\n",
        "aluno1.setNome(\"Bernardo\")"
      ],
      "metadata": {
        "id": "GktuP7yJgNKl"
      },
      "execution_count": 17,
      "outputs": []
    },
    {
      "cell_type": "code",
      "source": [
        "#linha 1 e 2 está usando a função calcmedia atribuindo para o aluno 1 e aluno 2\n",
        "#linha 3 a variavel nome vai recceber a informação do aluno 1 com o nome alterado através do get(método de visualização/recuperação de informação)\n",
        "#linha 4 atribui para a variavel media1 a nota do aluno através do metodo getmedia\n",
        "aluno1.calcMedia()\n",
        "aluno2.calcMedia()\n",
        "nome1 = aluno1.getNome()\n",
        "media1 = aluno1.getMedia()\n",
        "nome2 = aluno2.getNome()\n",
        "media2 = aluno2.getMedia()"
      ],
      "metadata": {
        "id": "pNKDPK8_gNoZ"
      },
      "execution_count": 14,
      "outputs": []
    },
    {
      "cell_type": "code",
      "source": [
        "print(nome1, \"tem media igual a\", media1)\n",
        "print(nome2, \"tem media igual a\", media2)"
      ],
      "metadata": {
        "colab": {
          "base_uri": "https://localhost:8080/"
        },
        "id": "PDHWJ56JgWAP",
        "outputId": "f87c0f4a-a9e5-44a8-ca8e-6fb1bbc41ad1"
      },
      "execution_count": 15,
      "outputs": [
        {
          "output_type": "stream",
          "name": "stdout",
          "text": [
            "Bernardo tem media igual a 8.5\n",
            "Luiza tem media igual a 8.875\n"
          ]
        }
      ]
    },
    {
      "cell_type": "code",
      "source": [],
      "metadata": {
        "id": "qjzR9OUAgWXf"
      },
      "execution_count": null,
      "outputs": []
    }
  ]
}