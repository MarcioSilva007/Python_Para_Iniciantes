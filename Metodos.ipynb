{
  "nbformat": 4,
  "nbformat_minor": 0,
  "metadata": {
    "colab": {
      "provenance": [],
      "authorship_tag": "ABX9TyOWaTQYCGCgnSOzNJFN/G0+",
      "include_colab_link": true
    },
    "kernelspec": {
      "name": "python3",
      "display_name": "Python 3"
    },
    "language_info": {
      "name": "python"
    }
  },
  "cells": [
    {
      "cell_type": "markdown",
      "metadata": {
        "id": "view-in-github",
        "colab_type": "text"
      },
      "source": [
        "<a href=\"https://colab.research.google.com/github/MarcioSilva007/Python_Para_Iniciantes/blob/main/Metodos.ipynb\" target=\"_parent\"><img src=\"https://colab.research.google.com/assets/colab-badge.svg\" alt=\"Open In Colab\"/></a>"
      ]
    },
    {
      "cell_type": "markdown",
      "source": [
        "#Classes são formadas por atributos e operadores\n",
        "###um objeto é uma instancia de uma classe logo uma logo uma instancia de uma classe é um objeto"
      ],
      "metadata": {
        "id": "Hp6Fk6yghr2Y"
      }
    },
    {
      "cell_type": "code",
      "source": [
        "class AlunoEL:\n",
        "        def __init__(self, matricula, nome, curso, nota1, nota2, nota3):\n",
        "            self.matricula = matricula\n",
        "            self.nome = nome\n",
        "            self.curso = curso\n",
        "            self.nota1 = nota1\n",
        "            self.nota2 = nota2\n",
        "            self.nota3 = nota3\n",
        "            self.media = 0\n",
        "\n",
        "        def getMatricula (self):\n",
        "            return self.matricula\n",
        "\n",
        "        def getNome (self):\n",
        "            return self.nome\n",
        "\n",
        "        def getCurso (self):\n",
        "            return self.curso\n",
        "\n",
        "        def getNota1 (self):\n",
        "            return self.nota1\n",
        "\n",
        "        def getNota2 (self):\n",
        "            return self.nota2\n",
        "\n",
        "        def getNota3 (self):\n",
        "            return self.nota3\n",
        "\n",
        "        def getMedia (self):\n",
        "            return self.media\n",
        "\n",
        "        def setMatricula (self, matricula):\n",
        "            self.matricula = matricula\n",
        "\n",
        "        def setNome(self, nome):\n",
        "            self.nome = nome\n",
        "\n",
        "        def setCurso(self, curso):\n",
        "            self.curso = curso\n",
        "\n",
        "        def setNota1(self, nota1):\n",
        "            self.nota1 = nota1\n",
        "\n",
        "        def setNota2(self, nota2):\n",
        "            self.nota2 = nota2\n",
        "\n",
        "        def setNota3(self, nota3):\n",
        "            self.nota3 = nota3\n",
        "\n",
        "        def calcMedia (self):\n",
        "            if (self.curso == \"ingles\"):\n",
        "                self.media = (self.nota1+self.nota2+self.nota3) / 3\n",
        "            else:\n",
        "                self.media = (self.nota1 + self.nota2 + (2*self.nota3)) / 4\n",
        "\n"
      ],
      "metadata": {
        "id": "gLHwmW-BtdlE"
      },
      "execution_count": 24,
      "outputs": []
    },
    {
      "cell_type": "code",
      "source": [
        "aluno1 = AlunoEL (1,\"ernardo\", \"ingles\",8.5,7,10)\n",
        "aluno2 = AlunoEL (2,\"Luiza\", \"espanhol\",8.5,7,10)\n",
        "aluno1.setNome(\"Bernardo\")\n",
        "aluno1.calcMedia()\n",
        "aluno2.calcMedia()\n",
        "nome1 = aluno1.getNome()\n",
        "media1 = aluno1.getMedia()\n",
        "nome2 = aluno2.getNome()\n",
        "media2 = aluno2.getMedia()\n",
        "print(nome1, \"tem media igual a\", media1)\n",
        "print(nome2, \"tem media igual a\", media2)"
      ],
      "metadata": {
        "colab": {
          "base_uri": "https://localhost:8080/"
        },
        "id": "bcFw6m7TAN0Q",
        "outputId": "9ba6aa0f-51bf-4028-98f3-fcd572b0de36"
      },
      "execution_count": 26,
      "outputs": [
        {
          "output_type": "stream",
          "name": "stdout",
          "text": [
            "Bernardo tem media igual a 8.5\n",
            "Luiza tem media igual a 8.875\n"
          ]
        }
      ]
    }
  ]
}