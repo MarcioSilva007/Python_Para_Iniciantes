{
  "nbformat": 4,
  "nbformat_minor": 0,
  "metadata": {
    "colab": {
      "provenance": [],
      "authorship_tag": "ABX9TyMmodZc/JLU3fjKDzwtYJb2",
      "include_colab_link": true
    },
    "kernelspec": {
      "name": "python3",
      "display_name": "Python 3"
    },
    "language_info": {
      "name": "python"
    }
  },
  "cells": [
    {
      "cell_type": "markdown",
      "metadata": {
        "id": "view-in-github",
        "colab_type": "text"
      },
      "source": [
        "<a href=\"https://colab.research.google.com/github/MarcioSilva007/Python_Para_Iniciantes/blob/main/Computacao_cientifica_Scipy.ipynb\" target=\"_parent\"><img src=\"https://colab.research.google.com/assets/colab-badge.svg\" alt=\"Open In Colab\"/></a>"
      ]
    },
    {
      "cell_type": "markdown",
      "source": [
        "#Calcular matriz inversa com linalg do Scipy"
      ],
      "metadata": {
        "id": "pCmIn_Y4bKrf"
      }
    },
    {
      "cell_type": "code",
      "execution_count": 2,
      "metadata": {
        "colab": {
          "base_uri": "https://localhost:8080/"
        },
        "id": "_RrTTHu_aVS5",
        "outputId": "815f31c7-1c2d-4e5b-e824-d84414e3bfe7"
      },
      "outputs": [
        {
          "output_type": "stream",
          "name": "stdout",
          "text": [
            "\n",
            "\n",
            "MatrizA:\n",
            "\n",
            " [[3 0 2]\n",
            " [9 1 7]\n",
            " [1 0 1]]\n",
            "\n",
            "\n",
            "Matriz ainversa\n",
            "\n",
            " [[ 1.  0. -2.]\n",
            " [-2.  1. -3.]\n",
            " [-1.  0.  3.]]\n"
          ]
        }
      ],
      "source": [
        "import numpy as np\n",
        "from scipy import linalg\n",
        "\n",
        "matrizA= np.array([[3,0,2], [9,1,7], [1,0,1]])\n",
        "\n",
        "#calcula a matriz inversa\n",
        "ainversa = linalg.inv(matrizA)\n",
        "print('\\n\\nMatrizA:\\n\\n', matrizA)\n",
        "print('\\n\\nMatriz ainversa\\n\\n', ainversa)"
      ]
    },
    {
      "cell_type": "code",
      "source": [
        "import numpy as np\n",
        "from scipy import linalg\n",
        "\n",
        "matrizA = np.array ([[3, 0, 2],[9, 1, 7],[1, 0, 1]])\n",
        "\n",
        "ainversa = linalg.inv(matrizA)\n",
        "\n",
        "#faz a comparação para ver se a matriz a e b o resultado é a matriz identidade\n",
        "b = matrizA.dot(ainversa)\n",
        "\n",
        "print('Matriz identidade:\\n',b.round(1))"
      ],
      "metadata": {
        "colab": {
          "base_uri": "https://localhost:8080/"
        },
        "id": "8JLIy4iGdvUH",
        "outputId": "71110624-cb0d-4e98-d89b-27f2cecd9a60"
      },
      "execution_count": 23,
      "outputs": [
        {
          "output_type": "stream",
          "name": "stdout",
          "text": [
            "Matriz identidade:\n",
            " [[ 1.  0.  0.]\n",
            " [-0.  1.  0.]\n",
            " [ 0.  0.  1.]]\n"
          ]
        }
      ]
    },
    {
      "cell_type": "code",
      "source": [
        "# temos a seguinte equação linear\n",
        "#x + y  + z = 6\n",
        "#8x + 3y - z = 8\n",
        "#2x -3y + z = 12\n",
        "\n",
        "#resolução desse problema\n",
        "import numpy as np\n",
        "from scipy import linalg\n",
        "a = np.array([[1,1,1], [8, 3,-1],[2,-3,1]])\n",
        "b = np.array ([[6],[8], [12]])\n",
        "\n",
        "#calculando matriz inversa\n",
        "ainversa = linalg.inv(a)\n",
        "\n",
        "#calculando a matriz identidade\n",
        "\n",
        "c = ainversa.dot(b)\n",
        "\n",
        "print(c)\n",
        "print('Valor da varial x:', round(c[0][0],2))\n",
        "print('Valor da variavel y:', round(c[1][0],2))\n",
        "print('Valor da varial z:', round(c[2][0],2))\n"
      ],
      "metadata": {
        "colab": {
          "base_uri": "https://localhost:8080/"
        },
        "id": "JNy81lm4lzf-",
        "outputId": "64232fc5-032e-46e7-93c3-bb26f0a66694"
      },
      "execution_count": 34,
      "outputs": [
        {
          "output_type": "stream",
          "name": "stdout",
          "text": [
            "[[ 2.]\n",
            " [-1.]\n",
            " [ 5.]]\n",
            "Valor da varial x: 2.0\n",
            "Valor da variavel y: -1.0\n",
            "Valor da varial z: 5.0\n"
          ]
        }
      ]
    },
    {
      "cell_type": "code",
      "source": [
        "import numpy as np\n",
        "from scipy import linalg\n",
        "a = np.array([[1,1,1], [8, 3,-1],[2,-3,1]])\n",
        "b = np.array ([[6],[8], [12]])\n",
        "\n",
        "#calculando matriz inversa\n",
        "ainversa = linalg.inv(a)\n",
        "\n",
        "#calculando a matriz identidade\n",
        "\n",
        "c = np.linalg.solve(a,b)\n",
        "\n",
        "print(c)\n",
        "print('Valor da varial x:', round(c[0][0],2))\n",
        "print('Valor da variavel y:', round(c[1][0],2))\n",
        "print('Valor da varial z:', round(c[2][0],2))\n"
      ],
      "metadata": {
        "colab": {
          "base_uri": "https://localhost:8080/"
        },
        "id": "_lIQrah-qafh",
        "outputId": "ca3a5db8-e482-4397-e683-f2122bb64dde"
      },
      "execution_count": 35,
      "outputs": [
        {
          "output_type": "stream",
          "name": "stdout",
          "text": [
            "[[ 2.]\n",
            " [-1.]\n",
            " [ 5.]]\n",
            "Valor da varial x: 2.0\n",
            "Valor da variavel y: -1.0\n",
            "Valor da varial z: 5.0\n"
          ]
        }
      ]
    },
    {
      "cell_type": "markdown",
      "source": [
        "#Determinante"
      ],
      "metadata": {
        "id": "tUcscRXytS0Y"
      }
    },
    {
      "cell_type": "code",
      "source": [
        "import numpy as np\n",
        "from scipy import linalg\n",
        "\n",
        "A = np.array([[8]])\n",
        "B = np.array([[4,2],[3,3]])\n",
        "C = np.array([[1,4,2],[1,3,3],[2,6,1]])\n",
        "\n",
        "print('Matriz a:\\n\\n', A)\n",
        "print('\\n\\nDeterinante de a:\\n\\n')\n",
        "res = round(np.linalg.det(A),2)\n",
        "print(res)\n",
        "\n",
        "print('\\n\\nMatriz b:\\n\\n',B)\n",
        "print('\\n\\nDeterminante de b:\\n\\n')\n",
        "resb = round(np.linalg.det(B),2)\n",
        "print(resb)\n",
        "\n",
        "\n",
        "print('\\n\\nMatriz c:\\n\\n',C)\n",
        "print('\\n\\nDeterminante de C:\\n\\n')\n",
        "resc = round(np.linalg.det(C),2)\n",
        "print(resc)\n"
      ],
      "metadata": {
        "colab": {
          "base_uri": "https://localhost:8080/"
        },
        "id": "gegtWeTcsiob",
        "outputId": "b0c1b55f-74e8-4a6b-a4a5-4841fffc2ba4"
      },
      "execution_count": 44,
      "outputs": [
        {
          "output_type": "stream",
          "name": "stdout",
          "text": [
            "Matriz a:\n",
            "\n",
            " [[8]]\n",
            "\n",
            "\n",
            "Deterinante de a:\n",
            "\n",
            "\n",
            "8.0\n",
            "\n",
            "\n",
            "Matriz b:\n",
            "\n",
            " [[4 2]\n",
            " [3 3]]\n",
            "\n",
            "\n",
            "Determinante de b:\n",
            "\n",
            "\n",
            "6.0\n",
            "\n",
            "\n",
            "Matriz c:\n",
            "\n",
            " [[1 4 2]\n",
            " [1 3 3]\n",
            " [2 6 1]]\n",
            "\n",
            "\n",
            "Determinante de C:\n",
            "\n",
            "\n",
            "5.0\n"
          ]
        }
      ]
    },
    {
      "cell_type": "code",
      "source": [
        "import numpy as np\n",
        "\n",
        "from scipy import linalg\n",
        "\n",
        "A = np.array([[2,6],[1,2]])\n",
        "\n",
        "B = linalg.inv(A)\n",
        "\n",
        "C = A.dot(B)\n",
        "\n",
        "print(C[0][0]+C[1][1])"
      ],
      "metadata": {
        "colab": {
          "base_uri": "https://localhost:8080/"
        },
        "id": "smlg_1t0uWoP",
        "outputId": "9ff465ec-9cbc-445d-f6a9-fcd667985ff9"
      },
      "execution_count": 46,
      "outputs": [
        {
          "output_type": "stream",
          "name": "stdout",
          "text": [
            "2.0\n"
          ]
        }
      ]
    },
    {
      "cell_type": "code",
      "source": [],
      "metadata": {
        "id": "4e-l4uXwzCyz"
      },
      "execution_count": null,
      "outputs": []
    }
  ]
}