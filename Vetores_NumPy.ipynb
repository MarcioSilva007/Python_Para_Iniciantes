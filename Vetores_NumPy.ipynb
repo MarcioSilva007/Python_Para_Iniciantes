{
  "nbformat": 4,
  "nbformat_minor": 0,
  "metadata": {
    "colab": {
      "provenance": [],
      "authorship_tag": "ABX9TyMh9yJgsmP7hvNx4B/RYQ7b",
      "include_colab_link": true
    },
    "kernelspec": {
      "name": "python3",
      "display_name": "Python 3"
    },
    "language_info": {
      "name": "python"
    }
  },
  "cells": [
    {
      "cell_type": "markdown",
      "metadata": {
        "id": "view-in-github",
        "colab_type": "text"
      },
      "source": [
        "<a href=\"https://colab.research.google.com/github/MarcioSilva007/Python_Para_Iniciantes/blob/main/Vetores_NumPy.ipynb\" target=\"_parent\"><img src=\"https://colab.research.google.com/assets/colab-badge.svg\" alt=\"Open In Colab\"/></a>"
      ]
    },
    {
      "cell_type": "markdown",
      "source": [
        "#Criando vetores em NumPy\n",
        "####dtype - indicará qual o tipo de dado dos valores armazenados no vetor.\n",
        "\n",
        "####size - retorna a quantidade de elementos do vetor e/ou matriz.\n",
        "\n",
        "####itemsize - retorna o tamanho de um elemento da matriz em bytes\n",
        "\n",
        "####ndim - retornará o número de dimensões da matriz"
      ],
      "metadata": {
        "id": "vhQn50HbGF6I"
      }
    },
    {
      "cell_type": "code",
      "source": [
        "#Importando blibioteca NumPy\n",
        "import numpy as np\n",
        "\n",
        "#exemplo de vetor\n",
        "vetor = np.array([8, 34, 67, 98])\n",
        "\n",
        "#imprimindo os dados do mesmo\n",
        "\n",
        "#imprime o que tem no vetor\n",
        "print(vetor)\n",
        "\n",
        "#imprime quantas colunas tem o vetor\n",
        "print('Shape:', vetor.shape)\n",
        "\n",
        "#imprime que a variavel armazenada é do tipo inteiro tendo 64 bit de capacidade\n",
        "print('\\nDtype:', vetor.dtype)\n",
        "\n",
        "#indica que armazena 4 byts para armazenar cada elemento do vetor\n",
        "print('\\nSize:', vetor.size)\n",
        "\n",
        "#retorna quanto elemento tem no vetor\n",
        "print('\\nItemSize:', vetor.itemsize)\n",
        "\n",
        "#mostra quantas dimensoes tem esse vetor\n",
        "print('\\nNdim:', vetor.ndim)"
      ],
      "metadata": {
        "colab": {
          "base_uri": "https://localhost:8080/"
        },
        "id": "1HxZ1vcXGNdY",
        "outputId": "1f1e22d3-7854-4265-9fc4-870a8a102d27"
      },
      "execution_count": null,
      "outputs": [
        {
          "output_type": "stream",
          "name": "stdout",
          "text": [
            "[ 8 34 67 98]\n",
            "Shape: (4,)\n",
            "\n",
            "Dtype: int64\n",
            "\n",
            "Size: 4\n",
            "\n",
            "ItemSize: 8\n",
            "\n",
            "Ndim: 1\n"
          ]
        }
      ]
    },
    {
      "cell_type": "code",
      "source": [
        "#Importando blibioteca NumPy\n",
        "import numpy as np\n",
        "\n",
        "#exemplo de vetor\n",
        "vetor = np.array([8.87, 34, 67.89, 98,1.09])\n",
        "\n",
        "#imprimindo os dados do mesmo\n",
        "print(vetor)\n",
        "\n",
        "print('\\nShape:', vetor.shape)\n",
        "print('\\nDtype:', vetor.dtype)\n",
        "print('\\nSize:', vetor.size)\n",
        "print('\\nItemSize:', vetor.itemsize)\n",
        "print('\\nNdim:', vetor.ndim)"
      ],
      "metadata": {
        "colab": {
          "base_uri": "https://localhost:8080/"
        },
        "id": "xQ_KLP-wH2CW",
        "outputId": "95ca3139-02ee-439a-abb8-7a132c63318d"
      },
      "execution_count": null,
      "outputs": [
        {
          "output_type": "stream",
          "name": "stdout",
          "text": [
            "[ 8.87 34.   67.89 98.    1.09]\n",
            "\n",
            "Shape: (5,)\n",
            "\n",
            "Dtype: float64\n",
            "\n",
            "Size: 5\n",
            "\n",
            "ItemSize: 8\n",
            "\n",
            "Ndim: 1\n"
          ]
        }
      ]
    },
    {
      "cell_type": "markdown",
      "source": [
        "#Acessando e alterando vetores"
      ],
      "metadata": {
        "id": "kOTaUHNDLEdr"
      }
    },
    {
      "cell_type": "code",
      "source": [
        "import numpy as np\n",
        "\n",
        "vetor = np.array([8,34,67,98])\n",
        "\n",
        "print('Vetor posicao[0]:', vetor[0])\n",
        "print('Vetor pósicao [2]', vetor[2])\n",
        "vetor[1] = 231\n",
        "vetor[3] = 102\n",
        "print(vetor)"
      ],
      "metadata": {
        "colab": {
          "base_uri": "https://localhost:8080/"
        },
        "id": "sZKrBkoyLIfA",
        "outputId": "3a573ccb-9fdd-45d7-985a-8edf1cb1bd43"
      },
      "execution_count": null,
      "outputs": [
        {
          "output_type": "stream",
          "name": "stdout",
          "text": [
            "Vetor posicao[0]: 8\n",
            "Vetor pósicao [2] 67\n",
            "[  8 231  67 102]\n"
          ]
        }
      ]
    },
    {
      "cell_type": "markdown",
      "source": [
        "#Criação de vetores\n",
        "####empty-(quantidade de elementos, tiposde dados) criar matrizes com valores vazios\n",
        "####zeros-(quantidade de elementos, tipos de dados) criar matrizes com valores igual a zero\n",
        "###ones-(quantidade de elementos, tipos de dados) criar matrizes com valores unifomemente distribuidos"
      ],
      "metadata": {
        "id": "I5F2ToEgM5qr"
      }
    },
    {
      "cell_type": "code",
      "source": [
        "import numpy as np\n",
        "\n",
        "\n",
        "vetor01 = np.empty([10],int)\n",
        "print(vetor01)\n",
        "\n",
        "vetor02 = np.zeros(10)\n",
        "print(vetor02)\n",
        "\n",
        "vetor03 = np.ones(10)\n",
        "print(vetor03)\n",
        "\n",
        "vetor04 = np.arange(2,13,2,float);\n",
        "print(vetor04)\n",
        "\n",
        "vetor05 = 6*np.random.random(5);\n",
        "print(vetor05)"
      ],
      "metadata": {
        "colab": {
          "base_uri": "https://localhost:8080/"
        },
        "id": "PN8-oXpUM7Qn",
        "outputId": "e3f3a53c-e8d9-42ca-cbef-eb1c821080a6"
      },
      "execution_count": null,
      "outputs": [
        {
          "output_type": "stream",
          "name": "stdout",
          "text": [
            "[4607182418800017408 4607182418800017408 4607182418800017408\n",
            " 4607182418800017408 4607182418800017408 4607182418800017408\n",
            " 4607182418800017408 4607182418800017408 4607182418800017408\n",
            " 4607182418800017408]\n",
            "[0. 0. 0. 0. 0. 0. 0. 0. 0. 0.]\n",
            "[1. 1. 1. 1. 1. 1. 1. 1. 1. 1.]\n",
            "[ 2.  4.  6.  8. 10. 12.]\n",
            "[3.54019891 2.12523379 4.16155777 0.08742459 2.38983267]\n"
          ]
        }
      ]
    },
    {
      "cell_type": "code",
      "source": [],
      "metadata": {
        "id": "-9zPQHPKQISJ"
      },
      "execution_count": null,
      "outputs": []
    }
  ]
}