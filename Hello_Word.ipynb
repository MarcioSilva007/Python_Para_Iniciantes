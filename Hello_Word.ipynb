{
  "nbformat": 4,
  "nbformat_minor": 0,
  "metadata": {
    "colab": {
      "provenance": [],
      "authorship_tag": "ABX9TyMLBdVRjKho6M0TajY5IYte",
      "include_colab_link": true
    },
    "kernelspec": {
      "name": "python3",
      "display_name": "Python 3"
    },
    "language_info": {
      "name": "python"
    }
  },
  "cells": [
    {
      "cell_type": "markdown",
      "metadata": {
        "id": "view-in-github",
        "colab_type": "text"
      },
      "source": [
        "<a href=\"https://colab.research.google.com/github/MarcioSilva007/Python_Para_Iniciantes/blob/main/Hello_Word.ipynb\" target=\"_parent\"><img src=\"https://colab.research.google.com/assets/colab-badge.svg\" alt=\"Open In Colab\"/></a>"
      ]
    },
    {
      "cell_type": "markdown",
      "source": [
        "## O FAMOSO HELLO WORD A SEGUIR - ME MOSTRE UM OLÁ\n"
      ],
      "metadata": {
        "id": "-4RR5jEF_QbH"
      }
    },
    {
      "cell_type": "code",
      "source": [
        "print('Hello word')"
      ],
      "metadata": {
        "colab": {
          "base_uri": "https://localhost:8080/"
        },
        "id": "twmgnRea_emu",
        "outputId": "62b9c30e-9575-4861-98eb-75b50d2270f8"
      },
      "execution_count": 1,
      "outputs": [
        {
          "output_type": "stream",
          "name": "stdout",
          "text": [
            "Hello word\n"
          ]
        }
      ]
    },
    {
      "cell_type": "code",
      "source": [],
      "metadata": {
        "id": "r_jutBPK_l8V"
      },
      "execution_count": null,
      "outputs": []
    }
  ]
}