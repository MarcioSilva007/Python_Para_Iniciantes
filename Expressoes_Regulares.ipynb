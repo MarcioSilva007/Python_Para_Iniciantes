{
  "nbformat": 4,
  "nbformat_minor": 0,
  "metadata": {
    "colab": {
      "provenance": [],
      "authorship_tag": "ABX9TyPHXXn6W0b+yaxuOU0HJPLO",
      "include_colab_link": true
    },
    "kernelspec": {
      "name": "python3",
      "display_name": "Python 3"
    },
    "language_info": {
      "name": "python"
    }
  },
  "cells": [
    {
      "cell_type": "markdown",
      "metadata": {
        "id": "view-in-github",
        "colab_type": "text"
      },
      "source": [
        "<a href=\"https://colab.research.google.com/github/MarcioSilva007/Python_Para_Iniciantes/blob/main/Expressoes_Regulares.ipynb\" target=\"_parent\"><img src=\"https://colab.research.google.com/assets/colab-badge.svg\" alt=\"Open In Colab\"/></a>"
      ]
    },
    {
      "cell_type": "code",
      "execution_count": null,
      "metadata": {
        "id": "CSHx7BkiJjue"
      },
      "outputs": [],
      "source": [
        "import re"
      ]
    },
    {
      "cell_type": "code",
      "source": [
        "string = 'O aluno Carlos foi aprovado. A aluno Rebeca foi aprovada e os Cleyton e Miguel ficaram com pêndencias '"
      ],
      "metadata": {
        "id": "j6vCWkXpJ7XU"
      },
      "execution_count": null,
      "outputs": []
    },
    {
      "cell_type": "markdown",
      "source": [
        "#metodo match  procura no inicio da string\n",
        "#metodo search procura a palavra em toda string"
      ],
      "metadata": {
        "id": "XRoWV_BEP4hR"
      }
    },
    {
      "cell_type": "code",
      "source": [
        "procurar = re.match(\"O aluno\", string)\n",
        "print(procurar)"
      ],
      "metadata": {
        "colab": {
          "base_uri": "https://localhost:8080/"
        },
        "id": "2hZWN0tiLLT_",
        "outputId": "17ac2bc8-19d7-4079-deb2-d4c739a0b20a"
      },
      "execution_count": null,
      "outputs": [
        {
          "output_type": "stream",
          "name": "stdout",
          "text": [
            "<re.Match object; span=(0, 7), match='O aluno'>\n"
          ]
        }
      ]
    },
    {
      "cell_type": "code",
      "source": [
        "#procura algum tipo de correspondencia caso nao encontre retorna none\n",
        "procurar = re.match(\"Miguel\", string)\n",
        "print(procurar)"
      ],
      "metadata": {
        "colab": {
          "base_uri": "https://localhost:8080/"
        },
        "id": "9pTYWNQkLYrf",
        "outputId": "42b95828-4284-4a6f-8322-3168428a8772"
      },
      "execution_count": null,
      "outputs": [
        {
          "output_type": "stream",
          "name": "stdout",
          "text": [
            "None\n"
          ]
        }
      ]
    },
    {
      "cell_type": "code",
      "source": [
        "#precisa usar o re e o metodo e ao final em qual variavel procurar\n",
        "procurar = re.search(\"O aluno\", string)\n",
        "print (procurar)"
      ],
      "metadata": {
        "colab": {
          "base_uri": "https://localhost:8080/"
        },
        "id": "BnGhnzq1Llc1",
        "outputId": "807d0344-46e7-4163-846c-4e950b597339"
      },
      "execution_count": null,
      "outputs": [
        {
          "output_type": "stream",
          "name": "stdout",
          "text": [
            "<re.Match object; span=(0, 7), match='O aluno'>\n"
          ]
        }
      ]
    },
    {
      "cell_type": "code",
      "source": [
        "procurar = re.search(\"Carlos\", string)\n",
        "print(procurar)"
      ],
      "metadata": {
        "colab": {
          "base_uri": "https://localhost:8080/"
        },
        "id": "ZuscdLpHLzCt",
        "outputId": "b87f268c-3e3c-4cfc-9143-845b5d7a246a"
      },
      "execution_count": null,
      "outputs": [
        {
          "output_type": "stream",
          "name": "stdout",
          "text": [
            "<re.Match object; span=(8, 14), match='Carlos'>\n"
          ]
        }
      ]
    },
    {
      "cell_type": "code",
      "source": [
        "procurar = re.search(\"Marinalva\", string)\n",
        "print(procurar)"
      ],
      "metadata": {
        "colab": {
          "base_uri": "https://localhost:8080/"
        },
        "id": "YbkHDCzfL89p",
        "outputId": "cfad3392-ad51-4ad0-d344-9ced1855fae7"
      },
      "execution_count": null,
      "outputs": [
        {
          "output_type": "stream",
          "name": "stdout",
          "text": [
            "None\n"
          ]
        }
      ]
    },
    {
      "cell_type": "markdown",
      "source": [
        "#raw string\n",
        "###usado para utilizar a string sem tratamentos\n"
      ],
      "metadata": {
        "id": "AHqbx66qQyuN"
      }
    },
    {
      "cell_type": "code",
      "source": [
        "print('Marinalva\\nFernda')\n",
        "print(r'Marinalva\\nFernanda')"
      ],
      "metadata": {
        "colab": {
          "base_uri": "https://localhost:8080/"
        },
        "id": "eIicZAVCRHbs",
        "outputId": "31986821-166a-4a89-bc07-1e274fc9f46f"
      },
      "execution_count": null,
      "outputs": [
        {
          "output_type": "stream",
          "name": "stdout",
          "text": [
            "Marinalva\n",
            "Fernda\n",
            "Marinalva\\nFernanda\n"
          ]
        }
      ]
    },
    {
      "cell_type": "code",
      "source": [
        "import re"
      ],
      "metadata": {
        "id": "RLoe5_DERU-5"
      },
      "execution_count": null,
      "outputs": []
    },
    {
      "cell_type": "code",
      "source": [
        "string = \"O aluno josé foi reprovado. Ele tirou 10 na segunda nota\""
      ],
      "metadata": {
        "id": "9WcZJSogRkk1"
      },
      "execution_count": null,
      "outputs": []
    },
    {
      "cell_type": "markdown",
      "source": [
        "###Quando usamos \\w ou \\d significa que pode ser substituido por qualquer caractere alfanumerico"
      ],
      "metadata": {
        "id": "2sBO8mk0WDHs"
      }
    },
    {
      "cell_type": "code",
      "source": [
        "#procura por 6 ou mais caracteres alfanumericos\n",
        "#para impresssao usamos o metodo group() -> para saida de valor\n",
        "procurar = re.search (r'\\w\\w\\w\\w\\w\\w', string)\n",
        "if (procurar):\n",
        "  print(procurar.group())\n",
        "else:\n",
        "  print ('Nao encontrado')"
      ],
      "metadata": {
        "colab": {
          "base_uri": "https://localhost:8080/"
        },
        "id": "_nMTRz9GRy1T",
        "outputId": "20d6f8cc-d8fd-4619-9ed7-fedc75d8d281"
      },
      "execution_count": null,
      "outputs": [
        {
          "output_type": "stream",
          "name": "stdout",
          "text": [
            "reprov\n"
          ]
        }
      ]
    },
    {
      "cell_type": "code",
      "source": [
        "#procura por somente um caractere alfanumerico\n",
        "procurar = re.search (r'\\d',string)\n",
        "if (procurar):\n",
        "  print(procurar.group())\n",
        "else:\n",
        "  print('Não encontrado')"
      ],
      "metadata": {
        "colab": {
          "base_uri": "https://localhost:8080/"
        },
        "id": "sz7mMalbSz99",
        "outputId": "f3d38155-67ce-4a49-f0fb-761b20ca088f"
      },
      "execution_count": null,
      "outputs": [
        {
          "output_type": "stream",
          "name": "stdout",
          "text": [
            "1\n"
          ]
        }
      ]
    },
    {
      "cell_type": "code",
      "source": [
        "#\\w significa um ou mais caracteres alfanumericos\n",
        "procurar = re.search(r'\\w\\w\\w\\w\\w\\w\\w+',string)\n",
        "if (procurar):\n",
        "  print(procurar.group())\n",
        "else:\n",
        "  print('Não encontrado')"
      ],
      "metadata": {
        "colab": {
          "base_uri": "https://localhost:8080/"
        },
        "id": "u0M6wbH3T3w8",
        "outputId": "69503d04-3908-4b0b-ada8-69d1f283ba30"
      },
      "execution_count": null,
      "outputs": [
        {
          "output_type": "stream",
          "name": "stdout",
          "text": [
            "reprovado\n"
          ]
        }
      ]
    },
    {
      "cell_type": "code",
      "source": [
        "#\\w{5} tem que ter 6 a 8 caractere alfanumericos\n",
        "procurar = re.search(r'\\w{6,8}',string)\n",
        "if(procurar):\n",
        "  print(procurar.group())\n",
        "else:\n",
        "  print('Não encontrado')"
      ],
      "metadata": {
        "colab": {
          "base_uri": "https://localhost:8080/"
        },
        "id": "TbheoZoqUQXK",
        "outputId": "06ce50da-f534-4f0d-c6f9-bef8efaebe40"
      },
      "execution_count": null,
      "outputs": [
        {
          "output_type": "stream",
          "name": "stdout",
          "text": [
            "reprovad\n"
          ]
        }
      ]
    },
    {
      "cell_type": "code",
      "source": [
        "#\\w{5} tem que ter 6 caractere alfanumericos 5 por causa do {5} e mais um por causa do w+\n",
        "procurar = re.search(r'\\w{5}\\w+',string)\n",
        "if (procurar):\n",
        "  print(procurar.group())\n",
        "else:\n",
        "  print('Não encontrado')"
      ],
      "metadata": {
        "colab": {
          "base_uri": "https://localhost:8080/"
        },
        "id": "O92BfAf5UjQ0",
        "outputId": "7aa58674-ddb3-4b21-a266-b6cb450a8b3d"
      },
      "execution_count": null,
      "outputs": [
        {
          "output_type": "stream",
          "name": "stdout",
          "text": [
            "reprovado\n"
          ]
        }
      ]
    },
    {
      "cell_type": "code",
      "source": [
        "#estou procurando aqui por ao menos um caractere alfanumerico\n",
        "procurar = re.search(r'\\d+',string)\n",
        "if (procurar):\n",
        "  print(procurar.group())\n",
        "else:\n",
        "  print('Não encontrado')"
      ],
      "metadata": {
        "colab": {
          "base_uri": "https://localhost:8080/"
        },
        "id": "CTejZK-dVMz_",
        "outputId": "08c2581b-6ba5-49c1-be04-c7f4359b495d"
      },
      "execution_count": null,
      "outputs": [
        {
          "output_type": "stream",
          "name": "stdout",
          "text": [
            "10\n"
          ]
        }
      ]
    },
    {
      "cell_type": "code",
      "source": [
        "import re"
      ],
      "metadata": {
        "id": "mgPzdmhkVcx3"
      },
      "execution_count": null,
      "outputs": []
    },
    {
      "cell_type": "code",
      "source": [
        "string = 'A aluna maria foi repropvada. Ela tirou 7.7 na segunda nota'"
      ],
      "metadata": {
        "id": "pOPUEbURXb8f"
      },
      "execution_count": null,
      "outputs": []
    },
    {
      "cell_type": "code",
      "source": [
        "#findall localizara varias expressos com 4 caracteres ou mais\n",
        "procurar = re.findall(r'\\w\\w\\w\\w+', string)"
      ],
      "metadata": {
        "id": "ROztn35TXmRd"
      },
      "execution_count": null,
      "outputs": []
    },
    {
      "cell_type": "code",
      "source": [
        "if (procurar):\n",
        "  for x in procurar:\n",
        "    print(x)\n",
        "else:\n",
        "  print('Não encontrado')"
      ],
      "metadata": {
        "colab": {
          "base_uri": "https://localhost:8080/"
        },
        "id": "fEHCmyb7Xwii",
        "outputId": "1365993a-0e44-402c-a378-a05284d94a69"
      },
      "execution_count": null,
      "outputs": [
        {
          "output_type": "stream",
          "name": "stdout",
          "text": [
            "aluna\n",
            "maria\n",
            "repropvada\n",
            "tirou\n",
            "segunda\n",
            "nota\n"
          ]
        }
      ]
    },
    {
      "cell_type": "code",
      "source": [
        "#acessando um página na web e verificando seu retorno\n",
        "import requests\n",
        "requisicao = requests.post('https://www.uninove.br/graduacao/ciencia-da-computacao/fale-com-o-coordenador/')\n",
        "print (requisicao.text)"
      ],
      "metadata": {
        "id": "2BNJUVHKYU_l",
        "colab": {
          "base_uri": "https://localhost:8080/"
        },
        "outputId": "8ab25f69-5e24-4463-e89a-5c8912804e1f"
      },
      "execution_count": 7,
      "outputs": [
        {
          "output_type": "stream",
          "name": "stdout",
          "text": [
            "<!doctype html>\n",
            "<html data-n-head-ssr>\n",
            "  <head >\n",
            "    <title>Ciência da Computação</title><meta data-n-head=\"ssr\" charset=\"utf-8\"><meta data-n-head=\"ssr\" name=\"viewport\" content=\"width=device-width, initial-scale=1\"><meta data-n-head=\"ssr\" data-hid=\"og:site_name\" property=\"og:site_name\" content=\"UNINOVE - Graduação e Pós-Graduação\"><meta data-n-head=\"ssr\" charset=\"utf-8\"><meta data-n-head=\"ssr\" name=\"viewport\" content=\"width=device-width, initial-scale=1\"><meta data-n-head=\"ssr\" data-hid=\"og:title\" property=\"og:title\" content=\"Ciência da Computação\"><meta data-n-head=\"ssr\" data-hid=\"description\" name=\"description\" content=\"Com uma formação ampla, o curso de Ciência da Computação da UNINOVE capacita os alunos para atuar em um mercado em constante mudança e crescimento, para analisar, especificar, desenvolver, implantar e avaliar sistemas informatizados, de acordo com as necessidades atuais.\"><meta data-n-head=\"ssr\" data-hid=\"og:description\" property=\"og:description\" content=\"Com uma formação ampla, o curso de Ciência da Computação da UNINOVE capacita os alunos para atuar em um mercado em constante mudança e crescimento, para analisar, especificar, desenvolver, implantar e avaliar sistemas informatizados, de acordo com as necessidades atuais.\"><meta data-n-head=\"ssr\" data-hid=\"og:type\" property=\"og:type\" content=\"article\"><link data-n-head=\"ssr\" rel=\"icon\" type=\"image/x-icon\" href=\"/favicon.ico\"><link data-n-head=\"ssr\" rel=\"shortcut icon\" href=\"/icon.png\"><link data-n-head=\"ssr\" rel=\"apple-touch-icon\" href=\"/icon.png\"><link data-n-head=\"ssr\" rel=\"stylesheet\" href=\"https://fonts.googleapis.com/css2?family=Raleway:ital,wght@0,100;0,200;0,300;0,400;0,500;0,531;0,600;0,700;0,800;0,900;1,100;1,200;1,300;1,400;1,500;1,531;1,600;1,700;1,800;1,900&amp;display=swap\"><link data-n-head=\"ssr\" rel=\"stylesheet\" href=\"https://fonts.googleapis.com/css2?family=Open+Sans:ital,wght@0,400;1,600&amp;display=swap\"><script data-n-head=\"ssr\" src=\"/scripts/gtm.js\"></script><link rel=\"preload\" href=\"/_nuxt/1955491.js\" as=\"script\"><link rel=\"preload\" href=\"/_nuxt/20e8cdc.js\" as=\"script\"><link rel=\"preload\" href=\"/_nuxt/vendors/app.c5b2e94.css\" as=\"style\"><link rel=\"preload\" href=\"/_nuxt/455c8e8.js\" as=\"script\"><link rel=\"preload\" href=\"/_nuxt/app.b93f43d.css\" as=\"style\"><link rel=\"preload\" href=\"/_nuxt/148c551.js\" as=\"script\"><link rel=\"preload\" href=\"/_nuxt/pages/cursos/_typeCourse/_modality/_course.d5643ca.css\" as=\"style\"><link rel=\"preload\" href=\"/_nuxt/bd5b77c.js\" as=\"script\"><link rel=\"preload\" href=\"/_nuxt/pages/_slug/pages/acoes-comunitarias/index/pages/beneficios-ao-aluno/index/pages/biblioteca/index/pa/47f5ecc3.7f2eeff.css\" as=\"style\"><link rel=\"preload\" href=\"/_nuxt/bb82d56.js\" as=\"script\"><link rel=\"stylesheet\" href=\"/_nuxt/vendors/app.c5b2e94.css\"><link rel=\"stylesheet\" href=\"/_nuxt/app.b93f43d.css\"><link rel=\"stylesheet\" href=\"/_nuxt/pages/cursos/_typeCourse/_modality/_course.d5643ca.css\"><link rel=\"stylesheet\" href=\"/_nuxt/pages/_slug/pages/acoes-comunitarias/index/pages/beneficios-ao-aluno/index/pages/biblioteca/index/pa/47f5ecc3.7f2eeff.css\">\n",
            "  </head>\n",
            "  <body >\n",
            "    <div data-server-rendered=\"true\" id=\"__nuxt\"><!----><div id=\"__layout\"><div><!----> <header id=\"header\" tabindex=\"1\" data-v-6e177d58><div class=\"top-header\" data-v-6e177d58><div class=\"container\" data-v-6e177d58><div data-bs-toggle=\"modal\" data-bs-target=\"#exampleModal\" class=\"btn-accesibility\" data-v-6e177d58><img src=\"/icons/access-icon.svg\" data-v-6e177d58> <span class=\"acessibilidade\" data-v-6e177d58> Acessibilidade </span></div> <a href=\"https://seletivo.uninove.br/?_ga=2.250761733.2011760782.1656962108-1895298039.1651589901\" target=\"_blank\" data-v-6e177d58><h1 class=\"title-header text-center\" data-v-6e177d58>\n",
            "\t\t\t\t\tGraduação UNINOVE - Inscreva-se já!\n",
            "\t\t\t\t</h1></a> <ul class=\"unstyled-list d-flex flex-row social-links-header\" data-v-6e177d58><li class=\"whatsapp-green\" data-v-6e177d58><a href=\"https://api.whatsapp.com/send?phone=551142939080\" target=\"_blank\" class=\"icon-social-header\" data-v-6e177d58><img src=\"https://assets.uninove.br/icons/whatsapp_2020-10-27-145126.svg?mtime=20201027075126&amp;focal=none\" alt=\"whatsapp\" data-v-6e177d58></a></li><li data-v-6e177d58><a href=\"https://www.facebook.com/uninoveoficial\" target=\"_blank\" class=\"icon-social-header\" data-v-6e177d58><img src=\"https://assets.uninove.br/icons/facebook.svg?mtime=20201027075039&amp;focal=none\" alt=\"facebook\" data-v-6e177d58></a></li><li data-v-6e177d58><a href=\"https://twitter.com/uninoveoficial\" target=\"_blank\" class=\"icon-social-header\" data-v-6e177d58><img src=\"https://assets.uninove.br/icons/twitter.svg?mtime=20201027075144&amp;focal=none\" alt=\"twitter\" data-v-6e177d58></a></li><li data-v-6e177d58><a href=\"https://www.instagram.com/uninoveoficial/\" target=\"_blank\" class=\"icon-social-header\" data-v-6e177d58><img src=\"https://assets.uninove.br/icons/instagram.svg?mtime=20201027075203&amp;focal=none\" alt=\"instagram\" data-v-6e177d58></a></li><li data-v-6e177d58><a href=\"https://www.youtube.com/uninove\" target=\"_blank\" class=\"icon-social-header\" data-v-6e177d58><img src=\"https://assets.uninove.br/icons/youtube.svg?mtime=20201027075222&amp;focal=none\" alt=\"youtube\" data-v-6e177d58></a></li><li data-v-6e177d58><a href=\"https://www.linkedin.com/school/uninove/\" target=\"_blank\" class=\"icon-social-header\" data-v-6e177d58><img src=\"https://assets.uninove.br/icons/linkedin.svg?mtime=20201027075243&amp;focal=none\" alt=\"linkedin\" data-v-6e177d58></a></li><li data-v-6e177d58><a href=\"https://www.tiktok.com/@uninoveoficial\" target=\"_blank\" class=\"icon-social-header\" data-v-6e177d58><img src=\"https://assets.uninove.br/icons/tiktok_branco.svg?mtime=20230615103001&amp;focal=none\" alt=\"TikTok\" data-v-6e177d58></a></li></ul></div></div> <div id=\"top\" class=\"middle-header\" data-v-6e177d58><div class=\"container\" data-v-6e177d58><div class=\"logo-btns\" data-v-6e177d58><a href=\"/\" class=\"nuxt-link-active\" data-v-6e177d58><figure data-v-6e177d58><img src=\"/logo-uninove.svg\" alt=\"Uninove\" data-v-6e177d58></figure></a> <div class=\"btns\" data-v-6e177d58><span data-v-6e177d58><img src=\"/bars-icon.svg\" alt=\"\" data-v-6e177d58></span></div></div> <div class=\"search-and-links d-flex flex-row justify-content-end align-items-center\" data-v-6e177d58><a href=\"https://seletivo.uninove.br/\" target=\"_blank\" class=\"link-header unidode-student\" data-v-6e177d58><i class=\"icon click-hand\" data-v-6e177d58>ícone de uma mão clicando</i> <span data-v-6e177d58>Seja aluno UNINOVE</span></a> <a href=\"https://aluno.uninove.br/\" target=\"_blank\" class=\"link-header\" data-v-6e177d58><i class=\"icon user-icon\" data-v-6e177d58>ícone de usuário</i> Sou Aluno\n",
            "\t\t\t\t</a></div></div></div> <div class=\"bottom-header\" data-v-6e177d58><div class=\"container\" data-v-6e177d58><ul class=\"main-menu d-flex flex-row\" data-v-6e177d58><li class=\"item-main-menu\" data-v-6e177d58><span class=\"hasubmenu\" data-v-6e177d58>Processos Seletivos</span> <div class=\"sub-menu\" data-v-6e177d58><div data-v-6e177d58><ul data-v-6e177d58><li data-v-6e177d58><a href=\"https://seletivo.uninove.br/graduacao-e-curta-duracao/todos/todos/\" target=\"_blank\" data-v-6e177d58>\n",
            "\t\t\t\t\t\t\t\t\t\tGraduação\n",
            "\t\t\t\t\t\t\t\t\t</a> <!----></li><li data-v-6e177d58><a href=\"/informativos/processo-seletivo-de-medicina\" data-v-6e177d58><span data-v-6e177d58>\n",
            "\t\t\t\t\t\t\t\t\t\t\tMedicina\n",
            "\t\t\t\t\t\t\t\t\t\t</span></a> <!----></li><li data-v-6e177d58><a href=\"/informativos/inscricao-de-pos-graduacao\" target=\"_blank\" data-v-6e177d58>\n",
            "\t\t\t\t\t\t\t\t\t\tPós-graduação\n",
            "\t\t\t\t\t\t\t\t\t</a> <!----></li><li data-v-6e177d58><a href=\"/informativos/inscricao-de-pos-graduacao-ead\" target=\"_blank\" data-v-6e177d58>\n",
            "\t\t\t\t\t\t\t\t\t\tPós-graduação EAD\n",
            "\t\t\t\t\t\t\t\t\t</a> <!----></li><li data-v-6e177d58><a href=\"/informativos/inscricao-de-pos-graduacao-semipresencial\" target=\"_blank\" data-v-6e177d58>\n",
            "\t\t\t\t\t\t\t\t\t\tPós-graduação Semipresencial\n",
            "\t\t\t\t\t\t\t\t\t</a> <!----></li><li data-v-6e177d58><a href=\"/informativos/transferencia\" target=\"_blank\" data-v-6e177d58>\n",
            "\t\t\t\t\t\t\t\t\t\tTransferência\n",
            "\t\t\t\t\t\t\t\t\t</a> <!----></li><li data-v-6e177d58><a href=\"/informativos/inscricao-de-aprimoramento\" target=\"_blank\" data-v-6e177d58>\n",
            "\t\t\t\t\t\t\t\t\t\tAprimoramento\n",
            "\t\t\t\t\t\t\t\t\t</a> <!----></li><li data-v-6e177d58><a href=\"/informativos/inscricao-de-stricto-sensu\" target=\"_blank\" data-v-6e177d58>\n",
            "\t\t\t\t\t\t\t\t\t\tMestrado e Doutorado\n",
            "\t\t\t\t\t\t\t\t\t</a> <!----></li><li data-v-6e177d58><a href=\"/informativos/residencia-medica-2023\" target=\"_blank\" data-v-6e177d58>\n",
            "\t\t\t\t\t\t\t\t\t\tResidência Médica\n",
            "\t\t\t\t\t\t\t\t\t</a> <!----></li><li data-v-6e177d58><a href=\"/informativos/retorne-aos-estudos\" target=\"_blank\" data-v-6e177d58>\n",
            "\t\t\t\t\t\t\t\t\t\tVolte a ser 10\n",
            "\t\t\t\t\t\t\t\t\t</a> <!----></li><li data-v-6e177d58><a href=\"/informativos/inscricao-de-cursos-tecnicos\" target=\"_blank\" data-v-6e177d58>\n",
            "\t\t\t\t\t\t\t\t\t\tCursos Técnicos\n",
            "\t\t\t\t\t\t\t\t\t</a> <!----></li><li data-v-6e177d58><a href=\"/informativos/inscricao-especializacao-tecnica\" target=\"_blank\" data-v-6e177d58>\n",
            "\t\t\t\t\t\t\t\t\t\tEspecialização Técnica\n",
            "\t\t\t\t\t\t\t\t\t</a> <!----></li><li data-v-6e177d58><a href=\"https://sys.uninove.br/sistemas/seletivo/index.php?cLink=MDAyNTcw\" target=\"_blank\" data-v-6e177d58>\n",
            "\t\t\t\t\t\t\t\t\t\tEJA - Educação para Jovens e Adultos\n",
            "\t\t\t\t\t\t\t\t\t</a> <!----></li><li data-v-6e177d58><a href=\"https://www.uninove.br/informativos/inscricao-de-segunda-lic-pedagogia\" target=\"_blank\" data-v-6e177d58>\n",
            "\t\t\t\t\t\t\t\t\t\tSegunda licenciatura em Pedagogia\n",
            "\t\t\t\t\t\t\t\t\t</a> <!----></li><li data-v-6e177d58><a href=\"https://www.uninove.br/informativos/inscricao-de-segunda-lic-letras\" target=\"_blank\" data-v-6e177d58>\n",
            "\t\t\t\t\t\t\t\t\t\tSegunda licenciatura em Letras\n",
            "\t\t\t\t\t\t\t\t\t</a> <!----></li></ul></div> <div class=\"banner\" data-v-6e177d58><picture data-v-6e177d58><img src=\"https://assets.uninove.br/processo_seletivo_2020-12-07-223215.jpg?mtime=20201207143215&amp;focal=none\" alt=\"Processo seletivo\" data-v-6e177d58></picture></div></div></li><li class=\"item-main-menu\" data-v-6e177d58><span class=\"hasubmenu\" data-v-6e177d58>Cursos</span> <div class=\"sub-menu\" data-v-6e177d58><div data-v-6e177d58><ul class=\"course-grid\" data-v-6e177d58><li class=\"big-grid-item\" data-v-6e177d58><span class=\"hasubitem\" data-v-6e177d58>Presenciais</span> <ul data-v-6e177d58><li data-v-6e177d58><a href=\"/cursos/graduacao/presencial\" class=\"nuxt-link-active\" data-v-6e177d58>\n",
            "\t\t\t\t\t\t\t\t\t\t\t\tGraduação\n",
            "\t\t\t\t\t\t\t\t\t\t\t</a></li><li data-v-6e177d58><a href=\"/cursos/cursos-tecnicos/presencial\" data-v-6e177d58>\n",
            "\t\t\t\t\t\t\t\t\t\t\t\tTécnico\n",
            "\t\t\t\t\t\t\t\t\t\t\t</a></li><li data-v-6e177d58><a href=\"/cursos/aprimoramento/presencial\" data-v-6e177d58>\n",
            "\t\t\t\t\t\t\t\t\t\t\t\tAprimoramento\n",
            "\t\t\t\t\t\t\t\t\t\t\t</a></li><li data-v-6e177d58><a href=\"/cursos/cursos-livres/presencial\" data-v-6e177d58>\n",
            "\t\t\t\t\t\t\t\t\t\t\t\tCursos Livres\n",
            "\t\t\t\t\t\t\t\t\t\t\t</a></li><li data-v-6e177d58><a href=\"/cursos/mestrado-e-doutorado/presencial\" data-v-6e177d58>\n",
            "\t\t\t\t\t\t\t\t\t\t\t\tMestrado e Doutorado\n",
            "\t\t\t\t\t\t\t\t\t\t\t</a></li></ul></li><li data-v-6e177d58><span class=\"hasubitem\" data-v-6e177d58>Presencial, Telepresencial e EAD</span> <ul data-v-6e177d58><li data-v-6e177d58><a href=\"/cursos/mba/presencial-e-ead\" data-v-6e177d58>\n",
            "\t\t\t\t\t\t\t\t\t\t\t\tPós-graduação\n",
            "\t\t\t\t\t\t\t\t\t\t\t</a></li></ul></li><li data-v-6e177d58><span class=\"hasubitem\" data-v-6e177d58>Semipresencial</span> <ul data-v-6e177d58><li data-v-6e177d58><a href=\"/cursos/cursos-tecnicos/semipresencial\" data-v-6e177d58>\n",
            "\t\t\t\t\t\t\t\t\t\t\t\tTécnico\n",
            "\t\t\t\t\t\t\t\t\t\t\t</a></li></ul></li><li data-v-6e177d58><span class=\"hasubitem\" data-v-6e177d58>EaD</span> <ul data-v-6e177d58><li data-v-6e177d58><a href=\"/cursos/graduacao-ead/ead\" data-v-6e177d58>\n",
            "\t\t\t\t\t\t\t\t\t\t\t\tGraduação EAD\n",
            "\t\t\t\t\t\t\t\t\t\t\t</a></li><li data-v-6e177d58><a href=\"/cursos/cursos-tecnicos/ead\" data-v-6e177d58>\n",
            "\t\t\t\t\t\t\t\t\t\t\t\tTécnico\n",
            "\t\t\t\t\t\t\t\t\t\t\t</a></li><li data-v-6e177d58><a href=\"/cursos/aprimoramento/ead\" data-v-6e177d58>\n",
            "\t\t\t\t\t\t\t\t\t\t\t\tAprimoramento\n",
            "\t\t\t\t\t\t\t\t\t\t\t</a></li><li data-v-6e177d58><a href=\"/cursos/cursos-livres/ead\" data-v-6e177d58>\n",
            "\t\t\t\t\t\t\t\t\t\t\t\tCursos Livres\n",
            "\t\t\t\t\t\t\t\t\t\t\t</a></li></ul></li></ul></div> <div class=\"banner\" data-v-6e177d58><picture data-v-6e177d58><img src=\"https://assets.uninove.br/Home/cursos.jpg?mtime=20201207143308&amp;focal=none\" alt=\"Cursos\" data-v-6e177d58></picture></div></div></li><li class=\"item-main-menu\" data-v-6e177d58><span class=\"hasubmenu\" data-v-6e177d58>Institucional</span> <div class=\"sub-menu\" data-v-6e177d58><div data-v-6e177d58><ul data-v-6e177d58><li data-v-6e177d58><a href=\"/radar\" data-v-6e177d58><span data-v-6e177d58>\n",
            "\t\t\t\t\t\t\t\t\t\t\tRadar Uninove\n",
            "\t\t\t\t\t\t\t\t\t\t</span></a> <!----></li><li data-v-6e177d58><a href=\"/avaliacao-institucional\" data-v-6e177d58><span data-v-6e177d58>\n",
            "\t\t\t\t\t\t\t\t\t\t\tAvaliação Institucional\n",
            "\t\t\t\t\t\t\t\t\t\t</span></a> <!----></li><li data-v-6e177d58><a href=\"/fale-conosco\" data-v-6e177d58><span data-v-6e177d58>\n",
            "\t\t\t\t\t\t\t\t\t\t\tFale Conosco\n",
            "\t\t\t\t\t\t\t\t\t\t</span></a> <!----></li><li data-v-6e177d58><a href=\"/diretoria-pesquisa\" data-v-6e177d58><span data-v-6e177d58>\n",
            "\t\t\t\t\t\t\t\t\t\t\tDiretoria de Pesquisa\n",
            "\t\t\t\t\t\t\t\t\t\t</span></a> <!----></li><li data-v-6e177d58><a href=\"/beneficios-ao-aluno\" data-v-6e177d58><span data-v-6e177d58>\n",
            "\t\t\t\t\t\t\t\t\t\t\tBenefícios ao aluno\n",
            "\t\t\t\t\t\t\t\t\t\t</span></a> <!----></li><li data-v-6e177d58><a href=\"https://www.uninove.br/biblioteca-ebooks\" target=\"_blank\" data-v-6e177d58>\n",
            "\t\t\t\t\t\t\t\t\t\tE-Books\n",
            "\t\t\t\t\t\t\t\t\t</a> <!----></li><li data-v-6e177d58><a href=\"/egressos\" data-v-6e177d58><span data-v-6e177d58>\n",
            "\t\t\t\t\t\t\t\t\t\t\tEgressos Uninove\n",
            "\t\t\t\t\t\t\t\t\t\t</span></a> <!----></li></ul></div> <div class=\"banner\" data-v-6e177d58><picture data-v-6e177d58><img src=\"https://assets.uninove.br/institucional-image.jpg?mtime=20201027075725&amp;focal=none\" alt=\"Institucional image\" data-v-6e177d58></picture></div></div></li><li class=\"item-main-menu\" data-v-6e177d58><a href=\"/biblioteca\" class=\"main\" data-v-6e177d58><span data-v-6e177d58>Biblioteca</span></a> <!----></li><li class=\"item-main-menu\" data-v-6e177d58><a href=\"/unidades\" class=\"main\" data-v-6e177d58><span data-v-6e177d58>unidades</span></a> <!----></li><li class=\"item-main-menu\" data-v-6e177d58><span class=\"hasubmenu\" data-v-6e177d58>Coligadas</span> <div class=\"sub-menu right\" data-v-6e177d58><div data-v-6e177d58><ul data-v-6e177d58><li data-v-6e177d58><a href=\"/unidades/coligada/faculdade-nove-de-julho-bauru\" data-v-6e177d58><span data-v-6e177d58>\n",
            "\t\t\t\t\t\t\t\t\t\t\tFaculdade Nove de Julho de Bauru\n",
            "\t\t\t\t\t\t\t\t\t\t</span></a> <!----></li><li data-v-6e177d58><a href=\"/unidades/coligada/faculdade-nove-de-julho-guarulhos\" data-v-6e177d58><span data-v-6e177d58>\n",
            "\t\t\t\t\t\t\t\t\t\t\tFaculdade Nove de Julho de Guarulhos\n",
            "\t\t\t\t\t\t\t\t\t\t</span></a> <!----></li><li data-v-6e177d58><a href=\"/unidades/coligada/faculdade-nove-de-julho-maua\" data-v-6e177d58><span data-v-6e177d58>\n",
            "\t\t\t\t\t\t\t\t\t\t\tFaculdade Nove de Julho de Mauá\n",
            "\t\t\t\t\t\t\t\t\t\t</span></a> <!----></li><li data-v-6e177d58><a href=\"/unidades/coligada/faculdade-nove-de-julho-osasco\" data-v-6e177d58><span data-v-6e177d58>\n",
            "\t\t\t\t\t\t\t\t\t\t\tFaculdade Nove de Julho de Osasco\n",
            "\t\t\t\t\t\t\t\t\t\t</span></a> <!----></li><li data-v-6e177d58><a href=\"/unidades/coligada/faculdade-nove-de-julho-sbc\" data-v-6e177d58><span data-v-6e177d58>\n",
            "\t\t\t\t\t\t\t\t\t\t\tFaculdade Nove de Julho de São Bernardo do Campo\n",
            "\t\t\t\t\t\t\t\t\t\t</span></a> <!----></li><li data-v-6e177d58><a href=\"/unidades/coligada/faculdade-nove-de-julho-botucatu\" data-v-6e177d58><span data-v-6e177d58>\n",
            "\t\t\t\t\t\t\t\t\t\t\tFaculdade Nove de Julho de Botucatu\n",
            "\t\t\t\t\t\t\t\t\t\t</span></a> <!----></li><li data-v-6e177d58><a href=\"http://www.fmr.edu.br/\" target=\"_blank\" data-v-6e177d58>\n",
            "\t\t\t\t\t\t\t\t\t\tFMR\n",
            "\t\t\t\t\t\t\t\t\t</a> <!----></li><li data-v-6e177d58><a href=\"https://docs.uninove.br/arte/polos/\" target=\"_blank\" data-v-6e177d58>\n",
            "\t\t\t\t\t\t\t\t\t\tSeja um polo parceiro\n",
            "\t\t\t\t\t\t\t\t\t</a> <!----></li></ul></div> <div class=\"banner\" data-v-6e177d58><picture data-v-6e177d58><img src=\"https://assets.uninove.br/Home/coligadas.jpg?mtime=20201207143354&amp;focal=none\" alt=\"Coligadas\" data-v-6e177d58></picture></div></div></li><li class=\"item-main-menu\" data-v-6e177d58><a href=\"/ofertas\" class=\"main\" data-v-6e177d58><span data-v-6e177d58>PROMOÇÕES</span></a> <!----></li><li class=\"item-main-menu\" data-v-6e177d58><span class=\"hasubmenu\" data-v-6e177d58>Resultados e matrícula</span> <div class=\"sub-menu right\" data-v-6e177d58><div data-v-6e177d58><ul data-v-6e177d58><li data-v-6e177d58><a href=\"https://sys.uninove.br/sistemas/MatOnline/?emp=1\" target=\"_blank\" data-v-6e177d58>\n",
            "\t\t\t\t\t\t\t\t\t\tGraduação UNINOVE\n",
            "\t\t\t\t\t\t\t\t\t</a> <!----></li><li data-v-6e177d58><a href=\"https://sys.uninove.br/sistemas/MatOnline/?emp=6\" target=\"_blank\" data-v-6e177d58>\n",
            "\t\t\t\t\t\t\t\t\t\tColégio Técnico\n",
            "\t\t\t\t\t\t\t\t\t</a> <!----></li><li data-v-6e177d58><a href=\"https://sys.uninove.br/sistemas/MatOnline/index.php?emp=faculdades\" target=\"_blank\" data-v-6e177d58>\n",
            "\t\t\t\t\t\t\t\t\t\tFaculdade Nove de Julho\n",
            "\t\t\t\t\t\t\t\t\t</a> <!----></li><li data-v-6e177d58><a href=\"https://sys.uninove.br/seu/SEU0274/SEU_FRM0777.php?tipo=05\" target=\"_blank\" data-v-6e177d58>\n",
            "\t\t\t\t\t\t\t\t\t\tCiências Contábeis para graduados\n",
            "\t\t\t\t\t\t\t\t\t</a> <!----></li><li data-v-6e177d58><a href=\"https://sys.uninove.br/seu/SEU0274/SEU_FRM0777.php\" target=\"_blank\" data-v-6e177d58>\n",
            "\t\t\t\t\t\t\t\t\t\tSegunda Licenciatura em Pedagogia\n",
            "\t\t\t\t\t\t\t\t\t</a> <!----></li><li data-v-6e177d58><a href=\"https://sys.uninove.br/seu/SEU0274/SEU_FRM0777.php\" target=\"_blank\" data-v-6e177d58>\n",
            "\t\t\t\t\t\t\t\t\t\tSegunda Licenciatura\n",
            "\t\t\t\t\t\t\t\t\t</a> <!----></li><li data-v-6e177d58><a href=\"https://sys.uninove.br/sistemas/MatOnline/?emp=6&amp;_gl=1*9qoh9j*_gcl_aw*R0NMLjE2MDczNzE2NDQuQ2p3S0NBaUF3cmYtQlJBOUVpd0FVV3dLWG80dG9ZY2N6Rzl0NDFfaXFrTGZOYVp2REdnMWFMczVIdEc0dGY3QmlTTTNvcGQ4aEFCakF4b0NCYlVRQXZEX0J3RQ..*_gcl_dc*R0NMLjE2MDUzMTMxMzQuQ2owS0NRaUEtcmo5QlJDQUFSSXNBTkJfNEFCWlZlX2N3dGw1QXlwUFBMdnNRaTRvT3ZWQlNtZ1htVVYtLXhrS1Y1aVJCYTdLRzM1SnpaQWFBcXJQRUFMd193Y0I.&amp;_ga=2.145378612.1047339876.1609775786-270772122.1605117764\" target=\"_blank\" data-v-6e177d58>\n",
            "\t\t\t\t\t\t\t\t\t\tEspecialização Técnica\n",
            "\t\t\t\t\t\t\t\t\t</a> <!----></li><li data-v-6e177d58><a href=\"https://sys.uninove.br/sistemas/resultados/seletivo/view/\" target=\"_blank\" data-v-6e177d58>\n",
            "\t\t\t\t\t\t\t\t\t\tMestrado e Doutorado\n",
            "\t\t\t\t\t\t\t\t\t</a> <!----></li><li data-v-6e177d58><a href=\"https://sys.uninove.br/sistemas/MatOnline/?emp=6&amp;nTipo=EJA\" target=\"_blank\" data-v-6e177d58>\n",
            "\t\t\t\t\t\t\t\t\t\tEJA\n",
            "\t\t\t\t\t\t\t\t\t</a> <!----></li></ul></div> <div class=\"banner\" data-v-6e177d58><picture data-v-6e177d58><img src=\"https://assets.uninove.br/Home/mat_online.jpg?mtime=20201207143423&amp;focal=none\" alt=\"Mat online\" data-v-6e177d58></picture></div></div></li><li class=\"item-main-menu\" data-v-6e177d58><a href=\"/colegio\" class=\"main\" data-v-6e177d58><span data-v-6e177d58>COLÉGIO</span></a> <!----></li></ul></div></div> <!----></header> <main><span id=\"tabContent\" tabindex=\"1\"></span> <div data-v-6059ad00><div data-v-6059ad00><section class=\"menu-internal\" data-v-6059ad00><div class=\"wrapper-menu-internal\" data-v-6059ad00><div class=\"container container\" data-v-6059ad00 data-v-6059ad00><div class=\"row\" data-v-6059ad00 data-v-6059ad00><div class=\"col-12 col-lg-8 d-none d-lg-block col\" data-v-6059ad00 data-v-6059ad00><!----></div> <div class=\"col-12 col-lg-4 col\" data-v-6059ad00 data-v-6059ad00><div class=\"wrapper-button\" data-v-6059ad00><a data-href=\"https://seletivo.uninove.br\" data-v-6059ad00><button id=\"\" type=\"button\" class=\"medium\" data-v-1804f006 data-v-6059ad00>Quero me inscrever</button></a></div></div></div></div></div></section> <div id=\"\" data-v-6059ad00><div data-v-6059ad00><section data-v-226d0282 data-v-6059ad00><!----></section> <section class=\"frm-interess\" data-v-6059ad00><form action data-v-6059ad00><div class=\"container inputs\" data-v-6059ad00><div class=\"wrapper-content\" data-v-6059ad00><span data-v-6059ad00>Selecione o Campus</span> <select id=\"campus\" name=\"campus\" required=\"required\" class=\"form-control\" data-v-6059ad00><option value=\"\" disabled=\"disabled\" selected=\"selected\" data-v-6059ad00>\n",
            "\t\t\t\t\t\t\t\t\t\tSelecione o Campus\n",
            "\t\t\t\t\t\t\t\t\t</option> </select></div> <div class=\"wrapper-content\" data-v-6059ad00><span data-v-6059ad00>Selecione o Período</span> <select id=\"period\" name=\"period\" required=\"required\" disabled=\"disabled\" class=\"form-control\" data-v-6059ad00><option value=\"\" disabled=\"disabled\" selected=\"selected\" data-v-6059ad00>\n",
            "\t\t\t\t\t\t\t\t\t\tSelecione o Período\n",
            "\t\t\t\t\t\t\t\t\t</option> </select></div> <div class=\"wrapper-content\" data-v-6059ad00><span data-v-6059ad00>Insira seu nome</span> <input id=\"name\" name=\"name\" rules=\"required\" placeholder=\"Nome\" type=\"text\" required=\"required\" value=\"\" data-v-6059ad00></div> <div class=\"wrapper-content\" data-v-6059ad00><span data-v-6059ad00>Insira seu Email</span> <input id=\"mail\" name=\"mail\" rules=\"required\" placeholder=\"Email\" type=\"email\" required=\"required\" value=\"\" data-v-6059ad00></div> <div class=\"wrapper-content\" data-v-6059ad00><span data-v-6059ad00>Insira seu telefone</span> <input id=\"tel\" name=\"tel\" rules=\"required\" placeholder=\"Telefone\" type=\"text\" required=\"required\" value=\"\" data-v-6059ad00></div></div> <div class=\"wrapper-scholarships\" style=\"display:none;\" data-v-6059ad00><div class=\"row\" data-v-6059ad00 data-v-6059ad00><div class=\"col-12 col-md-6 col-lg-4 col\" data-v-6059ad00 data-v-6059ad00><h4 data-v-6059ad00></h4> <h5 data-v-6059ad00>\n",
            "\t\t\t\t\t\t\t\t\t\t\n",
            "\t\t\t\t\t\t\t\t\t</h5> <h5 class=\"mt-4\" data-v-6059ad00>\n",
            "\t\t\t\t\t\t\t\t\t\t\n",
            "\t\t\t\t\t\t\t\t\t</h5></div> <div class=\"col-12 col-md-6 col-lg-4 col\" data-v-6059ad00 data-v-6059ad00><h5 data-v-6059ad00>\n",
            "\t\t\t\t\t\t\t\t\t\tTaxa de matrícula:\n",
            "\t\t\t\t\t\t\t\t\t\t<strong data-v-6059ad00>R$ 0,00</strong> <br data-v-6059ad00>\n",
            "\t\t\t\t\t\t\t\t\t\tMensalidade:\n",
            "\t\t\t\t\t\t\t\t\t\t<strong data-v-6059ad00>R$ 0,00</strong>**\n",
            "\t\t\t\t\t\t\t\t\t</h5> <div class=\"mt-4\" data-v-6059ad00></div></div> <div class=\"align-self-center pt-md-4 col-12 col-md-12 col-lg-4 col\" data-v-6059ad00 data-v-6059ad00><a href=\"/ofertas\" data-v-6059ad00>Ver opções de Bolsas e\n",
            "\t\t\t\t\t\t\t\t\t\tDescontos</a> <a data-href=\"https://seletivo.uninove.br\" data-v-6059ad00><button id=\"\" type=\"button\" class=\"medium\" data-v-1804f006 data-v-6059ad00>Quero me inscrever</button></a></div></div></div> <div class=\"container mt-30\" data-v-6059ad00><small data-v-6059ad00>\n",
            "\t\t\t\t\t\t\t\t* Para todos os fins de Direito, declaro\n",
            "\t\t\t\t\t\t\t\testar ciente e devidamente informado de que\n",
            "\t\t\t\t\t\t\t\tos meus dados pessoais serão mantidos e\n",
            "\t\t\t\t\t\t\t\tutilizados pela UNINOVE para o processo\n",
            "\t\t\t\t\t\t\t\tseletivo para ingresso em Curso de Ensino\n",
            "\t\t\t\t\t\t\t\tSuperior, nos termos da legislação vigente,\n",
            "\t\t\t\t\t\t\t\tinclusive, mas não se limitando à Lei Geral\n",
            "\t\t\t\t\t\t\t\tde Proteção de Dados e demais normas\n",
            "\t\t\t\t\t\t\t\tbrasileiras relacionadas à proteção de\n",
            "\t\t\t\t\t\t\t\tdados. Ainda, declaro estar ciente de forma\n",
            "\t\t\t\t\t\t\t\tinequívoca de que meus dados telefônicos e\n",
            "\t\t\t\t\t\t\t\tde e-mail poderão ser utilizados pela\n",
            "\t\t\t\t\t\t\t\tUNINOVE para me contatar oferecendo\n",
            "\t\t\t\t\t\t\t\teventuais cursos, benefícios, oportunidade e\n",
            "\t\t\t\t\t\t\t\tofertas. </small><br data-v-6059ad00> <input id=\"terms\" type=\"checkbox\" data-v-6059ad00> <label for=\"terms\" data-v-6059ad00>Li e aceito os termos e políticas de\n",
            "\t\t\t\t\t\t\t\tprivacidade.</label></div> <div class=\"wrapper-content btn-form\" data-v-6059ad00><button id=\"\" type=\"submit\" disabled=\"disabled\" class=\"medium\" data-v-1804f006 data-v-6059ad00>Consultar preço.</button></div></form></section></div></div><div id=\"\" data-v-6059ad00><div data-v-6059ad00><section id=\"testimonials\" class=\"testimonials pb-40\" data-v-8d02e29e data-v-6059ad00><div class=\"container\" data-v-8d02e29e><div class=\"text-content wrapper-text-title\" data-v-7d7ce530 data-v-8d02e29e><h2 data-v-7d7ce530 data-v-8d02e29e>Aviso</h2> <p data-v-7d7ce530 data-v-8d02e29e>Ao longo do curso as aulas serão ministradas presencialmente dentro do campus universitário e também na plataforma digital da UNINOVE (AAPA).</p></div> <!----></div> <!----></section></div></div><div id=\"\" data-v-6059ad00><div data-v-6059ad00><div class=\"dynamic-tab pt-50\" data-v-611e222a data-v-6059ad00><section id=\"info\" class=\"tab\" data-v-611e222a><div class=\"container\" data-v-611e222a><div class=\"banner-tab row\" data-v-611e222a><div class=\"col-12 col-lg-3\" data-v-611e222a><div class=\"card-tab active\" data-v-611e222a><figure class=\"icon\" data-v-611e222a><img src=\"https://assets.uninove.br/ico-apresentacao-on.png?mtime=20201007090410&amp;focal=none\" alt=\"Ico apresentacao on\" title=\"Ico apresentacao on\" class=\"d-block\" data-v-611e222a> <img src=\"https://assets.uninove.br/ico-apresentacao-off.png?mtime=20201007090411&amp;focal=none\" alt=\"Ico apresentacao off\" title=\"Ico apresentacao off\" class=\"d-none\" data-v-611e222a></figure> <h4 data-v-611e222a>Apresentação</h4></div><div class=\"card-tab\" data-v-611e222a><figure class=\"icon\" data-v-611e222a><img src=\"https://assets.uninove.br/icons/interna-cursos/icon-tela-ativo.png?mtime=20201015130948&amp;focal=none\" alt=\"Icon tela ativo\" title=\"Icon tela ativo\" class=\"d-none\" data-v-611e222a> <img src=\"https://assets.uninove.br/icons/interna-cursos/icon-tela-inativo.png?mtime=20201015130949&amp;focal=none\" alt=\"Icon tela inativo\" title=\"Icon tela inativo\" class=\"d-block\" data-v-611e222a></figure> <h4 data-v-611e222a>Áreas de atuação</h4></div><div class=\"card-tab\" data-v-611e222a><figure class=\"icon\" data-v-611e222a><img src=\"https://assets.uninove.br/icons/interna-cursos/icon-livro-branco.png?mtime=20201015130938&amp;focal=none\" alt=\"Icon livro branco\" title=\"Icon livro branco\" class=\"d-none\" data-v-611e222a> <img src=\"https://assets.uninove.br/icons/interna-cursos/icon-lista-inativo.png?mtime=20201015130937&amp;focal=none\" alt=\"Icon lista inativo\" title=\"Icon lista inativo\" class=\"d-block\" data-v-611e222a></figure> <h4 data-v-611e222a>Diferenciais</h4></div><div class=\"card-tab\" data-v-611e222a><figure class=\"icon\" data-v-611e222a><img src=\"https://assets.uninove.br/icons/interna-cursos/icon-maleta-ativo.png?mtime=20201015130938&amp;focal=none\" alt=\"Icon maleta ativo\" title=\"Icon maleta ativo\" class=\"d-none\" data-v-611e222a> <img src=\"https://assets.uninove.br/icons/interna-cursos/icon-maleta-inativo.png?mtime=20201015130939&amp;focal=none\" alt=\"Icon maleta inativo\" title=\"Icon maleta inativo\" class=\"d-block\" data-v-611e222a></figure> <h4 data-v-611e222a>Mercado de trabalho</h4></div><div class=\"card-tab\" data-v-611e222a><figure class=\"icon\" data-v-611e222a><img src=\"https://assets.uninove.br/icons/interna-cursos/icon-user1-ativo.png?mtime=20201015130949&amp;focal=none\" alt=\"Icon Coordenador ativo\" title=\"Icon Coordenador ativo\" class=\"d-none\" data-v-611e222a> <img src=\"https://assets.uninove.br/icons/interna-cursos/icon-user1-inativo.png?mtime=20201015130950&amp;focal=none\" alt=\"Icon Coordenador inativo\" title=\"Icon Coordenador inativo\" class=\"d-block\" data-v-611e222a></figure> <h4 data-v-611e222a>Fale com o coordenador</h4></div></div> <div class=\"col-12 col-lg-9\" data-v-611e222a><div class=\"tab-content\" data-v-611e222a><div data-v-611e222a><div class=\"content-text\" data-v-611e222a><div class=\"text\" data-v-611e222a><div class=\"text-content\" data-v-7d7ce530 data-v-611e222a><p>Com uma formação ampla, o curso de Ciência da Computação da UNINOVE capacita os alunos para atuar em um mercado em constante mudança e crescimento, para analisar, especificar, desenvolver, implantar e avaliar sistemas informatizados, de acordo com as necessidades atuais. Também habilita os estudantes a elaborar softwares de propósito geral e específico, projetar, manter e administrar redes de computadores e conexões de internet, entre outras funções. O cientista da computação formado pela UNINOVE é preparado para assumir seu papel de agente transformador do mercado e da sociedade.</p>\n",
            "<p><br />Ao longo do semestre, parte das aulas serão ministradas presencialmente no Campus Universitário e parte na plataforma digital da UNINOVE – AAPA “Ambiente de Apoio na Plataforma de Aprendizagem” (a definição da carga horária e o modelo de ministração de aulas é ato exclusivo da UNINOVE).</p></div></div> <figure class=\"content-image\" data-v-611e222a><img src=\"https://assets.uninove.br/Cursos/Graduação/Ciência-da-Computação-550px.JPG?mtime=20201027124420&amp;focal=none\" alt=\"Ciência da Computação 550px\" title=\"Ciência da Computação 550px\" data-v-611e222a></figure></div></div></div><div class=\"tab-content\" data-v-611e222a><!----></div><div class=\"tab-content\" data-v-611e222a><!----></div><div class=\"tab-content\" data-v-611e222a><!----></div><div class=\"tab-content\" data-v-611e222a><!----></div></div></div></div></section></div></div></div><div id=\"\" data-v-6059ad00><div data-v-6059ad00><div data-v-61caa851 data-v-6059ad00><section class=\"cards mid-banner pt-60 pb-20\" data-v-61caa851><div class=\"container\" data-v-61caa851><div class=\"text-content wrapper-text-title\" data-v-7d7ce530 data-v-61caa851><h2 data-v-7d7ce530 data-v-61caa851></h2></div> <div class=\"wrapper-cards\" data-v-61caa851><!----></div></div></section></div></div></div><div id=\"\" data-v-6059ad00><div data-v-6059ad00><div id=\"descontos\" class=\"cards-promotions pt-60 pb-60\" data-v-7459b0f6 data-v-6059ad00><div class=\"container\" data-v-7459b0f6><div class=\"wrapper-text-title\" data-v-7459b0f6><!----></div> <!----></div></div></div></div><div id=\"\" data-v-6059ad00><div data-v-6059ad00><section class=\"cards-horizontal\" data-v-6059ad00><div class=\"container\" data-v-6059ad00><div class=\"wrapper-cards\" data-v-6059ad00><div class=\"row\" data-v-6059ad00 data-v-6059ad00><div class=\"col-12 col-md-6 pb-3 pb-lg-0 col\" data-v-6059ad00 data-v-6059ad00><div class=\"card\" data-v-6059ad00><div class=\"wrapper-banner-card\" data-v-6059ad00><figure data-v-6059ad00><img src=\"https://assets.uninove.br/Bottom-Banner-transferencia.JPG?mtime=20201023143221&amp;focal=none\" alt=\"Transferência\" title=\"Transferência\" data-v-6059ad00></figure></div> <div class=\"wrapper-content-card\" data-v-6059ad00><div class=\"row\" data-v-6059ad00 data-v-6059ad00><div class=\"col-12 col-lg-6 my-3 my-lg-0 col\" data-v-6059ad00 data-v-6059ad00><div class=\"text-content\" data-v-7d7ce530 data-v-6059ad00><h2 data-v-7d7ce530 data-v-6059ad00>\n",
            "\t\t\t\t\t\t\t\t\t\t\t\t\t\t\tTransferência\n",
            "\t\t\t\t\t\t\t\t\t\t\t\t\t\t</h2> <p data-v-7d7ce530 data-v-6059ad00>\n",
            "\t\t\t\t\t\t\t\t\t\t\t\t\t\t\tFaça a sua transferência sem precisar sair do conforto da sua casa e estude na UNINOVE.\n",
            "\t\t\t\t\t\t\t\t\t\t\t\t\t\t</p></div></div> <div class=\"align-self-center col-12 col-lg-6 col\" data-v-6059ad00 data-v-6059ad00><!----></div></div></div></div></div><div class=\"col-12 col-md-6 pb-3 pb-lg-0 col\" data-v-6059ad00 data-v-6059ad00><div class=\"card\" data-v-6059ad00><div class=\"wrapper-banner-card\" data-v-6059ad00><figure data-v-6059ad00><img src=\"https://assets.uninove.br/Bottom-Banner-volte-a-ser-10.JPG?mtime=20201023143222&amp;focal=none\" alt=\"Volte a ser 10\" title=\"Volte a ser 10\" data-v-6059ad00></figure></div> <div class=\"wrapper-content-card\" data-v-6059ad00><div class=\"row\" data-v-6059ad00 data-v-6059ad00><div class=\"col-12 col-lg-6 my-3 my-lg-0 col\" data-v-6059ad00 data-v-6059ad00><div class=\"text-content\" data-v-7d7ce530 data-v-6059ad00><h2 data-v-7d7ce530 data-v-6059ad00>\n",
            "\t\t\t\t\t\t\t\t\t\t\t\t\t\t\tVolte a ser 10\n",
            "\t\t\t\t\t\t\t\t\t\t\t\t\t\t</h2> <p data-v-7d7ce530 data-v-6059ad00>\n",
            "\t\t\t\t\t\t\t\t\t\t\t\t\t\t\tVocê pode escolher outra opção de curso disponível, com a possibilidade do aproveitamento das disciplinas já cursadas.\n",
            "\t\t\t\t\t\t\t\t\t\t\t\t\t\t</p></div></div> <div class=\"align-self-center col-12 col-lg-6 col\" data-v-6059ad00 data-v-6059ad00><!----></div></div></div></div></div></div></div></div></section></div></div> <section id=\"onde-estudar\" class=\"form-search\" data-v-6059ad00><div class=\"container\" data-v-6059ad00><!----></div></section> <!----> <!----></div></div></main> <!----> <footer id=\"footer\" tabindex=\"1\" class=\"footer-mark-1 pt-50\" data-v-45edd2f4><div class=\"container\" data-v-45edd2f4><div class=\"row\" data-v-45edd2f4><div class=\"col-md-3 footer-col\" data-v-45edd2f4><figure class=\"mb-3\" data-v-45edd2f4><img src=\"/logo-uninove.svg\" alt=\"Uninove\" data-v-45edd2f4></figure> <a href=\"https://emec.mec.gov.br/emec/consulta-cadastro/detalhamento/d96957f455f6405d14c6542552b0f6eb/MzE2\" target=\"_blank\" data-v-45edd2f4><img src=\"/images/UNINOVE.jpg\" style=\"width: 100%\" data-v-45edd2f4></a> <p data-v-45edd2f4>\n",
            "\t\t\t\t\tou\n",
            "\t\t\t\t\t<a href=\"https://emec.mec.gov.br/emec/consulta-cadastro/detalhamento/d96957f455f6405d14c6542552b0f6eb/MzE2\" target=\"_blank\" data-v-45edd2f4>clique aqui</a></p> <p style=\"margin-top: 15px\" data-v-45edd2f4>Baixe o App UNINOVE e tenha acesso às informações dos cursos, notas, horários e disciplinas no seu celular.\n",
            "\n",
            "Faça o download para Android ou iOS</p></div> <div class=\"col-md-3 footer-col\" data-v-45edd2f4><ul class=\"unstyled-list mb-4\" data-v-45edd2f4><li data-v-45edd2f4><a href=\"/nossa-historia\" data-v-45edd2f4>Institucional\n",
            "\t\t\t\t\t\t</a></li><li data-v-45edd2f4><a href=\"/unidades\" data-v-45edd2f4>Unidades\n",
            "\t\t\t\t\t\t</a></li><li data-v-45edd2f4><a href=\"/ofertas\" data-v-45edd2f4>Bolsas e Descontos\n",
            "\t\t\t\t\t\t</a></li><li data-v-45edd2f4><a href=\"/colegio\" data-v-45edd2f4>Colégio\n",
            "\t\t\t\t\t\t</a></li><li data-v-45edd2f4><a href=\"/editais-processos-seletivos\" data-v-45edd2f4>Editais Processo Seletivo\n",
            "\t\t\t\t\t\t</a></li><li data-v-45edd2f4><a href=\"/politica-privacidade\" data-v-45edd2f4>Política de privacidade\n",
            "\t\t\t\t\t\t</a></li><li data-v-45edd2f4><a href=\"https://docs.uninove.br/arte/polos/\" target=\"true\" data-v-45edd2f4>Seja um polo parceiro</a></li></ul></div><div class=\"col-md-3 footer-col\" data-v-45edd2f4><ul class=\"unstyled-list mb-4\" data-v-45edd2f4><li data-v-45edd2f4><a href=\"/imprensa\" data-v-45edd2f4>Imprensa\n",
            "\t\t\t\t\t\t</a></li><li data-v-45edd2f4><a href=\"/informativos/trabalhe-aqui\" data-v-45edd2f4>Trabalhe aqui\n",
            "\t\t\t\t\t\t</a></li><li data-v-45edd2f4><a href=\"/fale-conosco\" data-v-45edd2f4>Fale conosco\n",
            "\t\t\t\t\t\t</a></li><li data-v-45edd2f4><a href=\"https://sys.uninove.br/seu/ouvidoria/\" target=\"true\" data-v-45edd2f4>Ouvidoria</a></li><li data-v-45edd2f4><a href=\"/faq\" data-v-45edd2f4>FAQ\n",
            "\t\t\t\t\t\t</a></li><li data-v-45edd2f4><a href=\"https://aluno.uninove.br/seu/SEU0064/SEU_FRM0170.php?_gl=1*keewzy*_gcl_aw*R0NMLjE2MDc1MjMxOTEuQ2p3S0NBaUFpTUwtQlJBQUVpd0F1V1ZnZ3BhdG9LVklwWVNla05PSDNxTGRPMEt6WWYwbnlNZTd5TERMSkNnck5PTklZTUJjVTBET0R4b0NNZlFRQXZEX0J3RQ..*_gcl_dc*R0NMLjE2MDU3MjQyNTYuQ2owS0NRaUFxZFA5QlJEVkFSSXNBR1NaOEFsbTgxazZYSXFvLVF1NDVpY1MySVJadUh2b0NpbU5RUHlqSlVYLU9nZFd0Q25weEI5aTNfZ2FBcFVoRUFMd193Y0I.\" target=\"true\" data-v-45edd2f4>Autenticidade dos Certificados e Diplomas</a></li><li data-v-45edd2f4><a href=\"https://aluno.uninove.br/seu/SEU0064/SEU_FRM0170.php?_gl=1*keewzy*_gcl_aw*R0NMLjE2MDc1MjMxOTEuQ2p3S0NBaUFpTUwtQlJBQUVpd0F1V1ZnZ3BhdG9LVklwWVNla05PSDNxTGRPMEt6WWYwbnlNZTd5TERMSkNnck5PTklZTUJjVTBET0R4b0NNZlFRQXZEX0J3RQ..*_gcl_dc*R0NMLjE2MDU3MjQyNTYuQ2owS0NRaUFxZFA5QlJEVkFSSXNBR1NaOEFsbTgxazZYSXFvLVF1NDVpY1MySVJadUh2b0NpbU5RUHlqSlVYLU9nZFd0Q25weEI5aTNfZ2FBcFVoRUFMd193Y0I.\" target=\"true\" data-v-45edd2f4>Autenticidade de Documentos</a></li><li data-v-45edd2f4><a href=\"https://portalrh.uninove.br/web/app/RH/PortalMeuRH/#/login\" target=\"true\" data-v-45edd2f4>Área do colaborador</a></li></ul></div><div class=\"col-md-3 footer-col\" data-v-45edd2f4><ul class=\"unstyled-list mb-4\" data-v-45edd2f4><li data-v-45edd2f4><a href=\"/politica-igualdade\" data-v-45edd2f4>Política de Igualdade e não discriminação\n",
            "\t\t\t\t\t\t</a></li><li data-v-45edd2f4><a href=\"/informativos/politica-ambiental-e-conservacao-de-recursos-hidricos\" data-v-45edd2f4>Política Ambiental e Conservação de Recursos Hídricos</a></li><li data-v-45edd2f4><a href=\"/informativos/politica-energetica-e-de-desenvolvimento-urbano-estrategico\" data-v-45edd2f4>Política Energética e de Desenvolvimento Urbano Estratégico</a></li><li data-v-45edd2f4><a href=\"/informativos/pesquisas-e-publicacoes\" data-v-45edd2f4>Pesquisas e publicações</a></li><li data-v-45edd2f4><a href=\"/informativos/reconhecimento-de-diplomas-estrangeiros-de-pos-graduacao-stricto-sensu\" data-v-45edd2f4>Reconhecimento de Diplomas Estrangeiros de Pós-graduação Stricto Sensu</a></li></ul></div></div> <div class=\"row align-items-center\" data-v-45edd2f4><div class=\"col-md-3\" data-v-45edd2f4><div class=\"d-flex flex-row flex-wrap mt-5 footer-app\" data-v-45edd2f4><a href=\"https://apps.apple.com/br/app/uninove/id932132695\" target=\"_blank\" rel=\"noreferrer noopener\" class=\"mt-3 mt-xl-0\" data-v-45edd2f4><img src=\"/app badges/app-store.svg\" alt=\"App Store\" class=\"store-icon\" data-v-45edd2f4></a> <a href=\"https://play.google.com/store/apps/details?id=br.uninovemobile&hl=pt-br\" target=\"_blank\" rel=\"noreferrer noopener\" class=\"mr-3 mt-3 mt-xl-0\" data-v-45edd2f4><img src=\"/app badges/play-store.png\" alt=\"Google Play\" class=\"store-icon\" data-v-45edd2f4></a></div></div> <div class=\"col-md-3\" data-v-45edd2f4><ul class=\"unstyled-list d-flex flex-wrap flex-row justify-content-start footer-social mt-5\" data-v-45edd2f4><li data-v-45edd2f4><a href=\"https://facebook.com/uninoveoficial/\" target=\"_blank\" rel=\"noreferrer noopener\" data-v-45edd2f4><img src=\"https://assets.uninove.br/icons/facebook_2020-12-01-141536.svg?mtime=20201201061536&amp;focal=none\" alt=\"Facebook\" data-v-45edd2f4></a></li><li data-v-45edd2f4><a href=\"https://twitter.com/uninoveoficial\" target=\"_blank\" rel=\"noreferrer noopener\" data-v-45edd2f4><img src=\"https://assets.uninove.br/icons/twitter_2020-12-01-141549.svg?mtime=20201201061549&amp;focal=none\" alt=\"Twitter\" data-v-45edd2f4></a></li><li data-v-45edd2f4><a href=\"https://instagram.com/uninoveoficial/\" target=\"_blank\" rel=\"noreferrer noopener\" data-v-45edd2f4><img src=\"https://assets.uninove.br/icons/instagram_2020-12-01-141602.svg?mtime=20201201061603&amp;focal=none\" alt=\"Instagram\" data-v-45edd2f4></a></li><li data-v-45edd2f4><a href=\"https://youtube.com/uninove\" target=\"_blank\" rel=\"noreferrer noopener\" data-v-45edd2f4><img src=\"https://assets.uninove.br/icons/youtube_2020-12-01-141609.svg?mtime=20201201061609&amp;focal=none\" alt=\"Youtube\" data-v-45edd2f4></a></li><li data-v-45edd2f4><a href=\"https://linkedin.com/company/uninove\" target=\"_blank\" rel=\"noreferrer noopener\" data-v-45edd2f4><img src=\"https://assets.uninove.br/icons/linkedin_2020-12-01-141622.svg?mtime=20201201061622&amp;focal=none\" alt=\"Linkedin\" data-v-45edd2f4></a></li><li data-v-45edd2f4><a href=\"https://www.tiktok.com/@uninoveoficial\" target=\"_blank\" rel=\"noreferrer noopener\" data-v-45edd2f4><img src=\"https://assets.uninove.br/icons/tiktok_azul.svg?mtime=20230615102921&amp;focal=none\" alt=\"TikTok\" data-v-45edd2f4></a></li></ul></div></div></div> <div class=\"copyrights mt-4\" data-v-45edd2f4><div class=\"container text-center\" data-v-45edd2f4>\n",
            "\t\t\t©2023 - UNINOVE - Todos os direitos reservados - Termos de Uso e Política de Privacidade.\n",
            "\t\t</div></div></footer></div></div></div><script>window.__NUXT__=(function(a,b,c,d,e,f,g,h,i,j,k,l,m,n,o,p,q,r,s,t,u,v,w,x,y,z,A,B,C,D,E,F,G,H,I,J,K,L,M,N,O,P,Q,R,S,T,U,V,W,X,Y,Z,_,$,aa,ab,ac,ad,ae,af,ag,ah,ai,aj,ak){return {layout:\"default\",data:[{entry:{typeHandle:\"course\",title:z,id:\"34687\",url:\"https:\\u002F\\u002Funinove.br\\u002Fcursos\\u002Fgraduacao\\u002Fpresencial\\u002Fciencia-da-computacao\",uri:\"cursos\\u002Fgraduacao\\u002Fpresencial\\u002Fciencia-da-computacao\",metaTitle:z,metaDescription:\"Com uma formação ampla, o curso de Ciência da Computação da UNINOVE capacita os alunos para atuar em um mercado em constante mudança e crescimento, para analisar, especificar, desenvolver, implantar e avaliar sistemas informatizados, de acordo com as necessidades atuais.\",metaImage:b,externalContentImage:{title:\"Ciência da Computação 450px\",url:\"https:\\u002F\\u002Fassets.uninove.br\\u002FCursos\\u002FGraduação\\u002FCiência-da-Computação-450px.JPG?mtime=20201027124419&focal=none\"},thumbImage:{title:\"Ciência da Computação thumb\",url:\"https:\\u002F\\u002Fassets.uninove.br\\u002FCiência-da-Computação-thumb.JPG?mtime=20201028101000&focal=none\"},openForRegistration:d,subscriptionLink:b,isExternal:d,showPricesConsult:d,areas:[{title:Q,simpleDescription:\"Atualmente, a informática está presente em todos os setores econômicos e exerce grande interação com as mais diferentes áreas profissionais. Com os Cursos de Informática, você desenvolverá competências, habilidades e bases tecnológicas para atuação em um mercado exigente, mas que não para de crescer, no Brasil e no exterior.\",externalContentImage:{title:Q,url:\"https:\\u002F\\u002Fassets.uninove.br\\u002FInformática.JPG?mtime=20201021153003&focal=none\"}}],courseType:{title:r,codeLead:\"1\"},courseModalities:{title:j},pageContent:[{typeHandle:\"highlight\",menuTitle:b,menuIcon:{},item:{title:\"Highlight Ciência da Computação\",highlights:[{typeHandle:\"typeTwoHighlight\",imageDesktop:{title:\"Ciência Computação imagem principal\",url:\"https:\\u002F\\u002Fassets.uninove.br\\u002Fheaders\\u002FCiência-Computação-imagem-principal.JPG?mtime=20201022144127&focal=none\"},useImageDesktopInMobile:d,imageMobile:{},descriptionLeftHighlight:t,descriptionMobile:t,mecNote:4,whiteCards:[{titleWhiteCard:\"Modalidade\",descriptionWhiteCard:j,customUrl:b,target:c,icon:{title:\"Icone livro\",url:\"https:\\u002F\\u002Fassets.uninove.br\\u002Ficone-livro.png?mtime=20201007085704&focal=none\"}},{titleWhiteCard:\"Duração\",descriptionWhiteCard:\"8 semestres\",customUrl:b,target:c,icon:{title:\"Relogio\",url:\"https:\\u002F\\u002Fassets.uninove.br\\u002Frelogio.png?mtime=20201007085812&focal=none\"}},{titleWhiteCard:\"Formação\",descriptionWhiteCard:\"Bacharel em Ciência da Computação\",customUrl:b,target:c,icon:{title:\"Icon formacao\",url:\"https:\\u002F\\u002Fassets.uninove.br\\u002Ficons\\u002Finterna-cursos\\u002Ficon-formacao.png?mtime=20201015130934&focal=none\"}}],customUrl:b}]}},{typeHandle:\"testimonies\",menuTitle:b,menuIcon:{},item:{title:\"AVISO: Durante a Pandemia esse curso será ministrado no modo Telepresencial - Graduação - Saude e Engenharia\",titleSection:\"Aviso\",subtitleSection:\"Ao longo do curso as aulas serão ministradas presencialmente dentro do campus universitário e também na plataforma digital da UNINOVE (AAPA).\",background:e,testimonies:[]}},{typeHandle:\"features\",menuTitle:b,menuIcon:{},item:{title:\"Conteudo-Ciência da Computação\",titleSection:b,background:e,features:[{typeHandle:f,activeIcon:{title:\"Ico apresentacao on\",url:\"https:\\u002F\\u002Fassets.uninove.br\\u002Fico-apresentacao-on.png?mtime=20201007090410&focal=none\"},inactiveIcon:{title:\"Ico apresentacao off\",url:\"https:\\u002F\\u002Fassets.uninove.br\\u002Fico-apresentacao-off.png?mtime=20201007090411&focal=none\"},featureTitle:\"Apresentação\",description:\"\\u003Cp\\u003ECom uma formação ampla, o curso de Ciência da Computação da UNINOVE capacita os alunos para atuar em um mercado em constante mudança e crescimento, para analisar, especificar, desenvolver, implantar e avaliar sistemas informatizados, de acordo com as necessidades atuais. Também habilita os estudantes a elaborar softwares de propósito geral e específico, projetar, manter e administrar redes de computadores e conexões de internet, entre outras funções. O cientista da computação formado pela UNINOVE é preparado para assumir seu papel de agente transformador do mercado e da sociedade.\\u003C\\u002Fp\\u003E\\n\\u003Cp\\u003E\\u003Cbr \\u002F\\u003EAo longo do semestre, parte das aulas serão ministradas presencialmente no Campus Universitário e parte na plataforma digital da UNINOVE – AAPA “Ambiente de Apoio na Plataforma de Aprendizagem” (a definição da carga horária e o modelo de ministração de aulas é ato exclusivo da UNINOVE).\\u003C\\u002Fp\\u003E\",featureImage:{title:\"Ciência da Computação 550px\",url:\"https:\\u002F\\u002Fassets.uninove.br\\u002FCursos\\u002FGraduação\\u002FCiência-da-Computação-550px.JPG?mtime=20201027124420&focal=none\"}},{typeHandle:f,activeIcon:{title:\"Icon tela ativo\",url:\"https:\\u002F\\u002Fassets.uninove.br\\u002Ficons\\u002Finterna-cursos\\u002Ficon-tela-ativo.png?mtime=20201015130948&focal=none\"},inactiveIcon:{title:\"Icon tela inativo\",url:\"https:\\u002F\\u002Fassets.uninove.br\\u002Ficons\\u002Finterna-cursos\\u002Ficon-tela-inativo.png?mtime=20201015130949&focal=none\"},featureTitle:\"Áreas de atuação\",description:\"\\u003Cp\\u003ESão muitas as áreas e segmentos em que o bacharel em Ciência da Computação pode trabalhar: desenvolvimento de softwares, redes de computadores, consultoria, telecomunicações, bancos de dados, inteligência artificial, sistemas distribuídos, segurança computacional, entre outras.\\u003C\\u002Fp\\u003E\",featureImage:{}},{typeHandle:f,activeIcon:{title:\"Icon livro branco\",url:\"https:\\u002F\\u002Fassets.uninove.br\\u002Ficons\\u002Finterna-cursos\\u002Ficon-livro-branco.png?mtime=20201015130938&focal=none\"},inactiveIcon:{title:\"Icon lista inativo\",url:\"https:\\u002F\\u002Fassets.uninove.br\\u002Ficons\\u002Finterna-cursos\\u002Ficon-lista-inativo.png?mtime=20201015130937&focal=none\"},featureTitle:\"Diferenciais\",description:\"\\u003Cp\\u003EO curso abrange diversas atividades teóricas e práticas, através de seu qualificado corpo docente, oferecendo ao aluno uma formação completa. Entre as atividades práticas estão a construção de algoritmos e de estruturas de dados nos Torneios de Programação, as aulas sobre conceitos e aplicações em redes de computadores e em projetos unificados, o uso de banco de dados integrado a diferentes linguagens de programação, o estudo sobre a estrutura dos sistemas operacionais e a Iniciação Científica, além da preparação do aluno para se tornar também um empreendedor.\\u003C\\u002Fp\\u003E\\n\\u003Cul\\u003E\\u003Cli\\u003ELaboratórios de Informática: Modernos equipamentos e infraestrutura de destaque proporcionam experiências práticas que potencializam a formação do aluno, exercitando suas habilidades e competências.\\u003C\\u002Fli\\u003E\\u003Cli\\u003EProjetos de Extensão: O curso promove diversos projetos junto à comunidade acadêmica e externa, como a Inclusão Digital, Oficina de Sites e os Torneios de Programação.\\u003C\\u002Fli\\u003E\\u003C\\u002Ful\\u003E\",featureImage:{}},{typeHandle:f,activeIcon:{title:\"Icon maleta ativo\",url:\"https:\\u002F\\u002Fassets.uninove.br\\u002Ficons\\u002Finterna-cursos\\u002Ficon-maleta-ativo.png?mtime=20201015130938&focal=none\"},inactiveIcon:{title:\"Icon maleta inativo\",url:\"https:\\u002F\\u002Fassets.uninove.br\\u002Ficons\\u002Finterna-cursos\\u002Ficon-maleta-inativo.png?mtime=20201015130939&focal=none\"},featureTitle:\"Mercado de trabalho\",description:\"\\u003Cp\\u003EDevido ao crescimento constante deste mercado no Brasil e no mundo, os profissionais de Ciência da Computação encontram ótimas oportunidades profissionais em empresas de diversos ramos, públicas e privadas. Podem atuar em muitas áreas, como gerentes de desenvolvimento, consultores ou técnicos de suporte, desenvolvendo sistemas, no planejamento, na implantação e no suporte de redes ou, ainda, prestando serviços de forma autônoma.\\u003C\\u002Fp\\u003E\",featureImage:{}},{typeHandle:f,activeIcon:{title:\"Icon Coordenador ativo\",url:\"https:\\u002F\\u002Fassets.uninove.br\\u002Ficons\\u002Finterna-cursos\\u002Ficon-user1-ativo.png?mtime=20201015130949&focal=none\"},inactiveIcon:{title:\"Icon Coordenador inativo\",url:\"https:\\u002F\\u002Fassets.uninove.br\\u002Ficons\\u002Finterna-cursos\\u002Ficon-user1-inativo.png?mtime=20201015130950&focal=none\"},featureTitle:\"Fale com o coordenador\",description:\"\\u003Cp\\u003E\\u003Cstrong\\u003EProf. Dr. Ovídio Lopes da Cruz Netto\\u003Cbr \\u002F\\u003EE-mail: \\u003Ca href=\\\"mailto:ovidio@uninove.br\\\"\\u003Eovidio@uninove.br\\u003C\\u002Fa\\u003E\\u003C\\u002Fstrong\\u003E\\u003C\\u002Fp\\u003E\\n\\u003Cp\\u003E\\u003Cstrong\\u003EProf. Dr. Nilson Salvetti\\u003Cbr \\u002F\\u003EE-mail: \\u003Ca href=\\\"mailto:nilson.salvetti@uninove.br\\\"\\u003Enilson.salvetti@uninove.br\\u003C\\u002Fa\\u003E\\u003C\\u002Fstrong\\u003E\\u003C\\u002Fp\\u003E\",featureImage:{}}]}},{typeHandle:\"midBanner\",menuTitle:b,menuIcon:{},item:{title:\"Estrutura - Cursos graduação\",titleSection:b,titleColor:\"#004588\",midBanners:[{typeHandle:g,background:e,backgroundImage:{title:\"Lab\",url:\"https:\\u002F\\u002Fassets.uninove.br\\u002Flab.JPG?mtime=20201023133503&focal=none\"},icon:{title:\"Icone lab\",url:\"https:\\u002F\\u002Fassets.uninove.br\\u002Ficone-lab.png?mtime=20201007113624&focal=none\"},midBanneItemTitle:\"Laboratórios\",midBannerItemDescription:\"Laboratórios das áreas de exatas e biológicas, com recursos modernos que dinamizam o aprendizado.\",midBannerCustomUrl:b},{typeHandle:g,background:e,backgroundImage:{title:i,url:\"https:\\u002F\\u002Fassets.uninove.br\\u002Fbiblioteca.JPG?mtime=20201023133504&focal=none\"},icon:{title:\"Icon manual ativo\",url:\"https:\\u002F\\u002Fassets.uninove.br\\u002Ficons\\u002Fbiblioteca\\u002Ficon-manual-ativo.png?mtime=20201015130318&focal=none\"},midBanneItemTitle:i,midBannerItemDescription:\"Um dos maiores acervos acadêmicos do país com sete estruturas físicas e uma digital.\",midBannerCustomUrl:\"https:\\u002F\\u002Fwww.uninove.br\\u002Fbiblioteca\"},{typeHandle:g,background:e,backgroundImage:{title:\"Ava\",url:\"https:\\u002F\\u002Fassets.uninove.br\\u002Fava.JPG?mtime=20201023133503&focal=none\"},icon:{title:\"Icon ambientevirtual branco\",url:\"https:\\u002F\\u002Fassets.uninove.br\\u002Ficons\\u002Fgraduacao-ead\\u002Ficon-ambientevirtual-branco.png?mtime=20201015130817&focal=none\"},midBanneItemTitle:\"AAPA\",midBannerItemDescription:\"O Ambiente de Apoio na Plataforma de Aprendizagem é completo e interativo para que você estude a distância sem perder a qualidade do ensino presencial.\",midBannerCustomUrl:b}]}},{typeHandle:\"cardsGrid\",menuTitle:b,menuIcon:{},item:{title:\"Graduação Presencial\",titleSection:b,background:e,cardsGridType:\"typeOne\",cardsGrid:[{typeHandle:h,cardTitle:\"Condição Especial 2023\",cardDescription:\"Na UNINOVE você consegue descontos imperdíveis para iniciar a sua graduação presencial.\",cardCustomUrl:b,isExternalLink:c,background:w,backgroundImage:{}},{typeHandle:h,cardTitle:\"20GB\\u002Fmês\",cardDescription:\"Faça sua prova on-line, matricule-se ainda esta semana e ganhe um chip VIVO com 20GB\\u002Fmês*.\",cardCustomUrl:\"\\u002Fofertas\\u002Fpromocao\\u002Fpromoção-beneficio-gratuito\",isExternalLink:c,background:\"#ef4950\",backgroundImage:{}},{typeHandle:h,cardTitle:\"Convênio Universitário\",cardDescription:\"O convênio Universitário é um programa desenvolvido especialmente para qualificar melhor os colaboradores das empresas parceiras.\",cardCustomUrl:b,isExternalLink:c,background:\"#3181dc\",backgroundImage:{}},{typeHandle:h,cardTitle:\"Familia 10\",cardDescription:\"Que tal ter uma pessoa muito especial na sua vida estudando com você e com direito a descontos exclusivos?\",cardCustomUrl:b,isExternalLink:c,background:w,backgroundImage:{}}]}},{typeHandle:\"bottomBanner\",menuTitle:b,menuIcon:{},item:{title:\"Bottom Banner - Graduação PResencial\",bottomBanners:[{typeHandle:g,titleBottomBanner:x,descriptionBottomBanner:\"Faça a sua transferência sem precisar sair do conforto da sua casa e estude na UNINOVE.\",backgroundImage:{title:\"Bottom Banner transferencia\",url:\"https:\\u002F\\u002Fassets.uninove.br\\u002FBottom-Banner-transferencia.JPG?mtime=20201023143221&focal=none\"},customUrl:b},{typeHandle:g,titleBottomBanner:y,descriptionBottomBanner:\"Você pode escolher outra opção de curso disponível, com a possibilidade do aproveitamento das disciplinas já cursadas.\",backgroundImage:{title:\"Bottom Banner volte a ser 10\",url:\"https:\\u002F\\u002Fassets.uninove.br\\u002FBottom-Banner-volte-a-ser-10.JPG?mtime=20201023143222&focal=none\"},customUrl:b}]}}]}}],fetch:[],error:b,state:{global:{header:{title:{title:\"Graduação UNINOVE - Inscreva-se já!\",link:\"https:\\u002F\\u002Fseletivo.uninove.br\\u002F?_ga=2.250761733.2011760782.1656962108-1895298039.1651589901\",target:d},menu:[{label:\"Processos Seletivos\",relationship:{},image:{title:\"Processo seletivo\",url:\"https:\\u002F\\u002Fassets.uninove.br\\u002Fprocesso_seletivo_2020-12-07-223215.jpg?mtime=20201207143215&focal=none\"},customLink:a,target:c,submenu:[{labelSubmenu:r,relationshipPage:{},relationshipModalitiesCourse:{},customLinkSubmenu:\"https:\\u002F\\u002Fseletivo.uninove.br\\u002Fgraduacao-e-curta-duracao\\u002Ftodos\\u002Ftodos\\u002F\",targetSubmenu:d,subitem:[]},{labelSubmenu:\"Medicina\",relationshipPage:{title:\"Processo Seletivo de Medicina\",uri:\"informativos\\u002Fprocesso-seletivo-de-medicina\",slug:\"processo-seletivo-de-medicina\"},relationshipModalitiesCourse:{},customLinkSubmenu:a,targetSubmenu:a,subitem:[]},{labelSubmenu:G,relationshipPage:{},relationshipModalitiesCourse:{},customLinkSubmenu:\"\\u002Finformativos\\u002Finscricao-de-pos-graduacao\",targetSubmenu:a,subitem:[]},{labelSubmenu:\"Pós-graduação EAD\",relationshipPage:{},relationshipModalitiesCourse:{},customLinkSubmenu:\"\\u002Finformativos\\u002Finscricao-de-pos-graduacao-ead\",targetSubmenu:a,subitem:[]},{labelSubmenu:\"Pós-graduação Semipresencial\",relationshipPage:{},relationshipModalitiesCourse:{},customLinkSubmenu:\"\\u002Finformativos\\u002Finscricao-de-pos-graduacao-semipresencial\",targetSubmenu:a,subitem:[]},{labelSubmenu:x,relationshipPage:{},relationshipModalitiesCourse:{},customLinkSubmenu:\"\\u002Finformativos\\u002Ftransferencia\",targetSubmenu:a,subitem:[]},{labelSubmenu:l,relationshipPage:{},relationshipModalitiesCourse:{},customLinkSubmenu:\"\\u002Finformativos\\u002Finscricao-de-aprimoramento\",targetSubmenu:a,subitem:[]},{labelSubmenu:m,relationshipPage:{},relationshipModalitiesCourse:{},customLinkSubmenu:\"\\u002Finformativos\\u002Finscricao-de-stricto-sensu\",targetSubmenu:a,subitem:[]},{labelSubmenu:\"Residência Médica\",relationshipPage:{},relationshipModalitiesCourse:{},customLinkSubmenu:\"\\u002Finformativos\\u002Fresidencia-medica-2023\",targetSubmenu:a,subitem:[]},{labelSubmenu:y,relationshipPage:{},relationshipModalitiesCourse:{},customLinkSubmenu:\"\\u002Finformativos\\u002Fretorne-aos-estudos\",targetSubmenu:a,subitem:[]},{labelSubmenu:\"Cursos Técnicos\",relationshipPage:{},relationshipModalitiesCourse:{},customLinkSubmenu:\"\\u002Finformativos\\u002Finscricao-de-cursos-tecnicos\",targetSubmenu:a,subitem:[]},{labelSubmenu:u,relationshipPage:{},relationshipModalitiesCourse:{},customLinkSubmenu:\"\\u002Finformativos\\u002Finscricao-especializacao-tecnica\",targetSubmenu:a,subitem:[]},{labelSubmenu:\"EJA - Educação para Jovens e Adultos\",relationshipPage:{},relationshipModalitiesCourse:{},customLinkSubmenu:\"https:\\u002F\\u002Fsys.uninove.br\\u002Fsistemas\\u002Fseletivo\\u002Findex.php?cLink=MDAyNTcw\",targetSubmenu:d,subitem:[]},{labelSubmenu:\"Segunda licenciatura em Pedagogia\",relationshipPage:{},relationshipModalitiesCourse:{},customLinkSubmenu:\"https:\\u002F\\u002Fwww.uninove.br\\u002Finformativos\\u002Finscricao-de-segunda-lic-pedagogia\",targetSubmenu:d,subitem:[]},{labelSubmenu:\"Segunda licenciatura em Letras\",relationshipPage:{},relationshipModalitiesCourse:{},customLinkSubmenu:\"https:\\u002F\\u002Fwww.uninove.br\\u002Finformativos\\u002Finscricao-de-segunda-lic-letras\",targetSubmenu:d,subitem:[]}]},{label:v,relationship:{},image:{title:v,url:\"https:\\u002F\\u002Fassets.uninove.br\\u002FHome\\u002Fcursos.jpg?mtime=20201207143308&focal=none\"},customLink:a,target:c,submenu:[{labelSubmenu:\"Presenciais\",relationshipPage:{},relationshipModalitiesCourse:{title:j,uri:\"cursos\\u002FcourseType\\u002Fpresencial\",slug:\"presencial\"},customLinkSubmenu:a,targetSubmenu:a,subitem:[{id:\"218\",title:r,url:\"https:\\u002F\\u002Funinove.br\\u002Fcursos\\u002Fgraduacao\",uri:\"cursos\\u002Fgraduacao\\u002Fpresencial\",slug:\"graduacao\"},{id:n,title:o,url:p,uri:\"cursos\\u002Fcursos-tecnicos\\u002Fpresencial\",slug:q},{id:A,title:l,url:B,uri:\"cursos\\u002Faprimoramento\\u002Fpresencial\",slug:C},{id:D,title:E,url:F,uri:\"cursos\\u002Fcursos-livres\\u002Fpresencial\",slug:s},{id:\"20506\",title:m,url:\"https:\\u002F\\u002Funinove.br\\u002Fcursos\\u002Fmestrado-e-doutorado\",uri:\"cursos\\u002Fmestrado-e-doutorado\\u002Fpresencial\",slug:\"mestrado-e-doutorado\"}]},{labelSubmenu:\"Presencial, Telepresencial e EAD\",relationshipPage:{},relationshipModalitiesCourse:{title:\"Presencial e EAD\",uri:\"cursos\\u002FcourseType\\u002Fpresencial-e-ead\",slug:\"presencial-e-ead\"},customLinkSubmenu:a,targetSubmenu:a,subitem:[{id:\"17652\",title:G,url:\"https:\\u002F\\u002Funinove.br\\u002Fcursos\\u002Fmba\",uri:\"cursos\\u002Fmba\\u002Fpresencial-e-ead\",slug:\"mba\"}]},{labelSubmenu:H,relationshipPage:{},relationshipModalitiesCourse:{title:H,uri:\"cursos\\u002FcourseType\\u002Fsemipresencial\",slug:\"semipresencial\"},customLinkSubmenu:a,targetSubmenu:a,subitem:[{id:n,title:o,url:p,uri:\"cursos\\u002Fcursos-tecnicos\\u002Fsemipresencial\",slug:q}]},{labelSubmenu:\"EaD\",relationshipPage:{},relationshipModalitiesCourse:{title:\"EAD\",uri:\"cursos\\u002FcourseType\\u002Fead\",slug:\"ead\"},customLinkSubmenu:a,targetSubmenu:a,subitem:[{id:\"274\",title:\"Graduação EAD\",url:\"https:\\u002F\\u002Funinove.br\\u002Fcursos\\u002Fgraduacao-ead\",uri:\"cursos\\u002Fgraduacao-ead\\u002Fead\",slug:\"graduacao-ead\"},{id:n,title:o,url:p,uri:\"cursos\\u002Fcursos-tecnicos\\u002Fead\",slug:q},{id:A,title:l,url:B,uri:\"cursos\\u002Faprimoramento\\u002Fead\",slug:C},{id:D,title:E,url:F,uri:\"cursos\\u002Fcursos-livres\\u002Fead\",slug:s}]}]},{label:I,relationship:{},image:{title:\"Institucional image\",url:\"https:\\u002F\\u002Fassets.uninove.br\\u002Finstitucional-image.jpg?mtime=20201027075725&focal=none\"},customLink:a,target:c,submenu:[{labelSubmenu:\"Radar Uninove\",relationshipPage:{title:\"Página de Radar Uninove\",uri:\"radar\",slug:\"página-de-radar-uninove\"},relationshipModalitiesCourse:{},customLinkSubmenu:a,targetSubmenu:a,subitem:[]},{labelSubmenu:J,relationshipPage:{title:J,uri:\"avaliacao-institucional\",slug:\"avaliação-institucional\"},relationshipModalitiesCourse:{},customLinkSubmenu:a,targetSubmenu:a,subitem:[]},{labelSubmenu:\"Fale Conosco\",relationshipPage:{title:K,uri:L,slug:M},relationshipModalitiesCourse:{},customLinkSubmenu:a,targetSubmenu:a,subitem:[]},{labelSubmenu:\"Diretoria de Pesquisa\",relationshipPage:{title:\"Diretoria de pesquisa\",uri:\"diretoria-pesquisa\",slug:\"diretoria-de-pesquisa\"},relationshipModalitiesCourse:{},customLinkSubmenu:a,targetSubmenu:a,subitem:[]},{labelSubmenu:N,relationshipPage:{title:N,uri:O,slug:O},relationshipModalitiesCourse:{},customLinkSubmenu:a,targetSubmenu:a,subitem:[]},{labelSubmenu:\"E-Books\",relationshipPage:{},relationshipModalitiesCourse:{},customLinkSubmenu:\"https:\\u002F\\u002Fwww.uninove.br\\u002Fbiblioteca-ebooks\",targetSubmenu:d,subitem:[]},{labelSubmenu:\"Egressos Uninove\",relationshipPage:{title:\"Egresso\",uri:\"egressos\",slug:\"pagina-de-egresso\"},relationshipModalitiesCourse:{},customLinkSubmenu:a,targetSubmenu:a,subitem:[]}]},{label:i,relationship:{title:i,uri:P,slug:P},image:{},customLink:a,target:c,submenu:[]},{label:k,relationship:{title:R,uri:k,slug:S},image:{title:T,url:\"https:\\u002F\\u002Fassets.uninove.br\\u002FHome\\u002Funidades_2020-12-07-223326.jpg?mtime=20201207143326&focal=none\"},customLink:a,target:c,submenu:[]},{label:U,relationship:{},image:{title:U,url:\"https:\\u002F\\u002Fassets.uninove.br\\u002FHome\\u002Fcoligadas.jpg?mtime=20201207143354&focal=none\"},customLink:a,target:c,submenu:[{labelSubmenu:\"Faculdade Nove de Julho de Bauru\",relationshipPage:{title:\"Faculdade Nove de Julho - Bauru\",uri:\"unidades\\u002Fcoligada\\u002Ffaculdade-nove-de-julho-bauru\",slug:\"faculdade-nove-de-julho-bauru\"},relationshipModalitiesCourse:{},customLinkSubmenu:a,targetSubmenu:a,subitem:[]},{labelSubmenu:\"Faculdade Nove de Julho de Guarulhos\",relationshipPage:{title:\"Faculdade Nove de Julho - Guarulhos\",uri:\"unidades\\u002Fcoligada\\u002Ffaculdade-nove-de-julho-guarulhos\",slug:\"faculdade-nove-de-julho-guarulhos\"},relationshipModalitiesCourse:{},customLinkSubmenu:a,targetSubmenu:a,subitem:[]},{labelSubmenu:V,relationshipPage:{title:V,uri:\"unidades\\u002Fcoligada\\u002Ffaculdade-nove-de-julho-maua\",slug:\"faculdade-nove-de-julho-maua\"},relationshipModalitiesCourse:{},customLinkSubmenu:a,targetSubmenu:a,subitem:[]},{labelSubmenu:W,relationshipPage:{title:W,uri:\"unidades\\u002Fcoligada\\u002Ffaculdade-nove-de-julho-osasco\",slug:\"faculdade-nove-de-julho-osasco\"},relationshipModalitiesCourse:{},customLinkSubmenu:a,targetSubmenu:a,subitem:[]},{labelSubmenu:X,relationshipPage:{title:X,uri:\"unidades\\u002Fcoligada\\u002Ffaculdade-nove-de-julho-sbc\",slug:\"faculdade-nove-de-julho-sbc\"},relationshipModalitiesCourse:{},customLinkSubmenu:a,targetSubmenu:a,subitem:[]},{labelSubmenu:\"Faculdade Nove de Julho de Botucatu\",relationshipPage:{title:\"Faculdade Nove de Julho - Botucatu\",uri:\"unidades\\u002Fcoligada\\u002Ffaculdade-nove-de-julho-botucatu\",slug:\"faculdade-nove-de-julho-botucatu\"},relationshipModalitiesCourse:{},customLinkSubmenu:a,targetSubmenu:a,subitem:[]},{labelSubmenu:\"FMR\",relationshipPage:{},relationshipModalitiesCourse:{},customLinkSubmenu:\"http:\\u002F\\u002Fwww.fmr.edu.br\\u002F\",targetSubmenu:d,subitem:[]},{labelSubmenu:Y,relationshipPage:{},relationshipModalitiesCourse:{},customLinkSubmenu:Z,targetSubmenu:d,subitem:[]}]},{label:\"PROMOÇÕES\",relationship:{title:_,uri:$,slug:aa},image:{},customLink:a,target:c,submenu:[]},{label:\"Resultados e matrícula\",relationship:{},image:{title:\"Mat online\",url:\"https:\\u002F\\u002Fassets.uninove.br\\u002FHome\\u002Fmat_online.jpg?mtime=20201207143423&focal=none\"},customLink:a,target:d,submenu:[{labelSubmenu:\"Graduação UNINOVE\",relationshipPage:{},relationshipModalitiesCourse:{},customLinkSubmenu:\"https:\\u002F\\u002Fsys.uninove.br\\u002Fsistemas\\u002FMatOnline\\u002F?emp=1\",targetSubmenu:d,subitem:[]},{labelSubmenu:\"Colégio Técnico\",relationshipPage:{},relationshipModalitiesCourse:{},customLinkSubmenu:\"https:\\u002F\\u002Fsys.uninove.br\\u002Fsistemas\\u002FMatOnline\\u002F?emp=6\",targetSubmenu:d,subitem:[]},{labelSubmenu:\"Faculdade Nove de Julho\",relationshipPage:{},relationshipModalitiesCourse:{},customLinkSubmenu:\"https:\\u002F\\u002Fsys.uninove.br\\u002Fsistemas\\u002FMatOnline\\u002Findex.php?emp=faculdades\",targetSubmenu:d,subitem:[]},{labelSubmenu:\"Ciências Contábeis para graduados\",relationshipPage:{},relationshipModalitiesCourse:{},customLinkSubmenu:\"https:\\u002F\\u002Fsys.uninove.br\\u002Fseu\\u002FSEU0274\\u002FSEU_FRM0777.php?tipo=05\",targetSubmenu:d,subitem:[]},{labelSubmenu:\"Segunda Licenciatura em Pedagogia\",relationshipPage:{},relationshipModalitiesCourse:{},customLinkSubmenu:ab,targetSubmenu:d,subitem:[]},{labelSubmenu:\"Segunda Licenciatura\",relationshipPage:{},relationshipModalitiesCourse:{},customLinkSubmenu:ab,targetSubmenu:d,subitem:[]},{labelSubmenu:u,relationshipPage:{},relationshipModalitiesCourse:{},customLinkSubmenu:\"https:\\u002F\\u002Fsys.uninove.br\\u002Fsistemas\\u002FMatOnline\\u002F?emp=6&_gl=1*9qoh9j*_gcl_aw*R0NMLjE2MDczNzE2NDQuQ2p3S0NBaUF3cmYtQlJBOUVpd0FVV3dLWG80dG9ZY2N6Rzl0NDFfaXFrTGZOYVp2REdnMWFMczVIdEc0dGY3QmlTTTNvcGQ4aEFCakF4b0NCYlVRQXZEX0J3RQ..*_gcl_dc*R0NMLjE2MDUzMTMxMzQuQ2owS0NRaUEtcmo5QlJDQUFSSXNBTkJfNEFCWlZlX2N3dGw1QXlwUFBMdnNRaTRvT3ZWQlNtZ1htVVYtLXhrS1Y1aVJCYTdLRzM1SnpaQWFBcXJQRUFMd193Y0I.&_ga=2.145378612.1047339876.1609775786-270772122.1605117764\",targetSubmenu:d,subitem:[]},{labelSubmenu:m,relationshipPage:{},relationshipModalitiesCourse:{},customLinkSubmenu:\"https:\\u002F\\u002Fsys.uninove.br\\u002Fsistemas\\u002Fresultados\\u002Fseletivo\\u002Fview\\u002F\",targetSubmenu:d,subitem:[]},{labelSubmenu:\"EJA\",relationshipPage:{},relationshipModalitiesCourse:{},customLinkSubmenu:\"https:\\u002F\\u002Fsys.uninove.br\\u002Fsistemas\\u002FMatOnline\\u002F?emp=6&nTipo=EJA\",targetSubmenu:d,subitem:[]}]},{label:\"COLÉGIO\",relationship:{title:ac,uri:ad,slug:ae},image:{},customLink:a,target:c,submenu:[]}],sociais:[{label:\"whatsapp\",icon:\"https:\\u002F\\u002Fassets.uninove.br\\u002Ficons\\u002Fwhatsapp_2020-10-27-145126.svg?mtime=20201027075126&focal=none\",link:\"https:\\u002F\\u002Fapi.whatsapp.com\\u002Fsend?phone=551142939080\"},{label:\"facebook\",icon:\"https:\\u002F\\u002Fassets.uninove.br\\u002Ficons\\u002Ffacebook.svg?mtime=20201027075039&focal=none\",link:\"https:\\u002F\\u002Fwww.facebook.com\\u002Funinoveoficial\"},{label:\"twitter\",icon:\"https:\\u002F\\u002Fassets.uninove.br\\u002Ficons\\u002Ftwitter.svg?mtime=20201027075144&focal=none\",link:af},{label:\"instagram\",icon:\"https:\\u002F\\u002Fassets.uninove.br\\u002Ficons\\u002Finstagram.svg?mtime=20201027075203&focal=none\",link:\"https:\\u002F\\u002Fwww.instagram.com\\u002Funinoveoficial\\u002F\"},{label:\"youtube\",icon:\"https:\\u002F\\u002Fassets.uninove.br\\u002Ficons\\u002Fyoutube.svg?mtime=20201027075222&focal=none\",link:\"https:\\u002F\\u002Fwww.youtube.com\\u002Funinove\"},{label:\"linkedin\",icon:\"https:\\u002F\\u002Fassets.uninove.br\\u002Ficons\\u002Flinkedin.svg?mtime=20201027075243&focal=none\",link:\"https:\\u002F\\u002Fwww.linkedin.com\\u002Fschool\\u002Funinove\\u002F\"},{label:ag,icon:\"https:\\u002F\\u002Fassets.uninove.br\\u002Ficons\\u002Ftiktok_branco.svg?mtime=20230615103001&focal=none\",link:ah}]},footer:{description:\"Baixe o App UNINOVE e tenha acesso às informações dos cursos, notas, horários e disciplinas no seu celular.\\n\\nFaça o download para Android ou iOS\",copyright:\"©2023 - UNINOVE - Todos os direitos reservados - Termos de Uso e Política de Privacidade.\",socials:[{label:\"Facebook\",icon:\"https:\\u002F\\u002Fassets.uninove.br\\u002Ficons\\u002Ffacebook_2020-12-01-141536.svg?mtime=20201201061536&focal=none\",link:\"https:\\u002F\\u002Ffacebook.com\\u002Funinoveoficial\\u002F\"},{label:\"Twitter\",icon:\"https:\\u002F\\u002Fassets.uninove.br\\u002Ficons\\u002Ftwitter_2020-12-01-141549.svg?mtime=20201201061549&focal=none\",link:af},{label:\"Instagram\",icon:\"https:\\u002F\\u002Fassets.uninove.br\\u002Ficons\\u002Finstagram_2020-12-01-141602.svg?mtime=20201201061603&focal=none\",link:\"https:\\u002F\\u002Finstagram.com\\u002Funinoveoficial\\u002F\"},{label:\"Youtube\",icon:\"https:\\u002F\\u002Fassets.uninove.br\\u002Ficons\\u002Fyoutube_2020-12-01-141609.svg?mtime=20201201061609&focal=none\",link:\"https:\\u002F\\u002Fyoutube.com\\u002Funinove\"},{label:\"Linkedin\",icon:\"https:\\u002F\\u002Fassets.uninove.br\\u002Ficons\\u002Flinkedin_2020-12-01-141622.svg?mtime=20201201061622&focal=none\",link:\"https:\\u002F\\u002Flinkedin.com\\u002Fcompany\\u002Funinove\"},{label:ag,icon:\"https:\\u002F\\u002Fassets.uninove.br\\u002Ficons\\u002Ftiktok_azul.svg?mtime=20230615102921&focal=none\",link:ah}],menu:[[{label:I,relationship:{title:\"Nossa história\",uri:\"nossa-historia\",slug:\"nossa-história\"},customLink:b,target:c},{label:T,relationship:{title:R,uri:k,slug:S},customLink:b,target:c},{label:\"Bolsas e Descontos\",relationship:{title:_,uri:$,slug:aa},customLink:b,target:c},{label:\"Colégio\",relationship:{title:ac,uri:ad,slug:ae},customLink:b,target:c},{label:\"Editais Processo Seletivo\",relationship:{title:\"Footer - Editais Processo Seletivo\",uri:\"editais-processos-seletivos\",slug:\"footer-editais-processo-seletivo\"},customLink:b,target:c},{label:\"Política de privacidade\",relationship:{title:\"Footer - Política de privacidade\",uri:\"politica-privacidade\",slug:\"footer-política-de-privacidade\"},customLink:b,target:c},{label:Y,relationship:{},customLink:Z,target:d}],[{label:\"Imprensa\",relationship:{title:\"Footer - Imprensa\",uri:\"imprensa\",slug:\"footer-imprensa\"},customLink:b,target:c},{label:ai,relationship:{title:ai,uri:\"informativos\\u002Ftrabalhe-aqui\",slug:\"trabalhe-aqui\"},customLink:b,target:c},{label:\"Fale conosco\",relationship:{title:K,uri:L,slug:M},customLink:b,target:c},{label:\"Ouvidoria\",relationship:{},customLink:\"https:\\u002F\\u002Fsys.uninove.br\\u002Fseu\\u002Fouvidoria\\u002F\",target:d},{label:\"FAQ\",relationship:{title:\"Footer - FAQ\",uri:\"faq\",slug:\"footer-faq\"},customLink:b,target:c},{label:\"Autenticidade dos Certificados e Diplomas\",relationship:{},customLink:aj,target:d},{label:\"Autenticidade de Documentos\",relationship:{},customLink:aj,target:d},{label:\"Área do colaborador\",relationship:{},customLink:\"https:\\u002F\\u002Fportalrh.uninove.br\\u002Fweb\\u002Fapp\\u002FRH\\u002FPortalMeuRH\\u002F#\\u002Flogin\",target:d}],[{label:ak,relationship:{title:ak,uri:\"politica-igualdade\",slug:\"política-de-igualdade-e-não-discriminação\"},customLink:b,target:c},{label:\"Política Ambiental e Conservação de Recursos Hídricos\",relationship:{},customLink:\"\\u002Finformativos\\u002Fpolitica-ambiental-e-conservacao-de-recursos-hidricos\",target:c},{label:\"Política Energética e de Desenvolvimento Urbano Estratégico\",relationship:{},customLink:\"\\u002Finformativos\\u002Fpolitica-energetica-e-de-desenvolvimento-urbano-estrategico\",target:c},{label:\"Pesquisas e publicações\",relationship:{},customLink:\"\\u002Finformativos\\u002Fpesquisas-e-publicacoes\",target:c},{label:\"Reconhecimento de Diplomas Estrangeiros de Pós-graduação Stricto Sensu\",relationship:{},customLink:\"\\u002Finformativos\\u002Freconhecimento-de-diplomas-estrangeiros-de-pos-graduacao-stricto-sensu\",target:c}]]}},contraste:c,fonte:1},serverRendered:d,routePath:\"\\u002Fcursos\\u002Fgraduacao\\u002Fpresencial\\u002Fciencia-da-computacao\",config:{}}}(\"\",null,false,true,\"#ffffff\",\"textWithImageFeature\",\"item\",\"card\",\"Biblioteca\",\"Presencial\",\"unidades\",\"Aprimoramento\",\"Mestrado e Doutorado\",\"20500\",\"Técnico\",\"https:\\u002F\\u002Funinove.br\\u002Fcursos\\u002Fcursos-tecnicos\",\"cursos-tecnicos\",\"Graduação\",\"cursos-livres\",\"\\u003Ch2\\u003ECiência da Computação\\u003C\\u002Fh2\\u003E\",\"Especialização Técnica\",\"Cursos\",\"#232275\",\"Transferência\",\"Volte a ser 10\",\"Ciência da Computação\",\"20504\",\"https:\\u002F\\u002Funinove.br\\u002Fcursos\\u002Faprimoramento\",\"aprimoramento\",\"20505\",\"Cursos Livres\",\"https:\\u002F\\u002Funinove.br\\u002Fcursos\\u002Fcursos-livres\",\"Pós-graduação\",\"Semipresencial\",\"Institucional\",\"Avaliação Institucional\",\"Footer - Fale Conosco\",\"fale-conosco\",\"footer-fale-conosco\",\"Benefícios ao aluno\",\"beneficios-ao-aluno\",\"biblioteca\",\"Informática\",\"Página de Unidades\",\"página-de-unidades\",\"Unidades\",\"Coligadas\",\"Faculdade Nove de Julho de Mauá\",\"Faculdade Nove de Julho de Osasco\",\"Faculdade Nove de Julho de São Bernardo do Campo\",\"Seja um polo parceiro\",\"https:\\u002F\\u002Fdocs.uninove.br\\u002Farte\\u002Fpolos\\u002F\",\"Promoções\",\"ofertas\",\"promocoes\",\"https:\\u002F\\u002Fsys.uninove.br\\u002Fseu\\u002FSEU0274\\u002FSEU_FRM0777.php\",\"Colégio UNINOVE\",\"colegio\",\"colégio-uninove\",\"https:\\u002F\\u002Ftwitter.com\\u002Funinoveoficial\",\"TikTok\",\"https:\\u002F\\u002Fwww.tiktok.com\\u002F@uninoveoficial\",\"Trabalhe aqui\",\"https:\\u002F\\u002Faluno.uninove.br\\u002Fseu\\u002FSEU0064\\u002FSEU_FRM0170.php?_gl=1*keewzy*_gcl_aw*R0NMLjE2MDc1MjMxOTEuQ2p3S0NBaUFpTUwtQlJBQUVpd0F1V1ZnZ3BhdG9LVklwWVNla05PSDNxTGRPMEt6WWYwbnlNZTd5TERMSkNnck5PTklZTUJjVTBET0R4b0NNZlFRQXZEX0J3RQ..*_gcl_dc*R0NMLjE2MDU3MjQyNTYuQ2owS0NRaUFxZFA5QlJEVkFSSXNBR1NaOEFsbTgxazZYSXFvLVF1NDVpY1MySVJadUh2b0NpbU5RUHlqSlVYLU9nZFd0Q25weEI5aTNfZ2FBcFVoRUFMd193Y0I.\",\"Política de Igualdade e não discriminação\"));</script><script src=\"/_nuxt/1955491.js\" defer></script><script src=\"/_nuxt/bd5b77c.js\" defer></script><script src=\"/_nuxt/bb82d56.js\" defer></script><script src=\"/_nuxt/20e8cdc.js\" defer></script><script src=\"/_nuxt/455c8e8.js\" defer></script><script src=\"/_nuxt/148c551.js\" defer></script><script data-n-head=\"ssr\" id=\"dt-widget\" src=\"scripts/chat.js\" data-body=\"true\"></script>\n",
            "  </body>\n",
            "</html>\n",
            "\n"
          ]
        }
      ]
    },
    {
      "cell_type": "code",
      "source": [
        "import re\n",
        "import requests\n",
        "\n",
        "requisicao = requests.post('https://www.uninove.br/graduacao/administracao/fale-com-o-coordenador/')\n",
        "string_de_retorno = requisicao.text\n",
        "\n",
        "padrao = re.findall (r'mailto:\\w[\\w.-]+@[\\w]+\\.[\\w.-]*\\w{2,3}', string_de_retorno)\n",
        "\n",
        "for x in padrao:\n",
        "  print(x)\n",
        "  comprimento = len(x)\n",
        "  print(x[7:comprimento])"
      ],
      "metadata": {
        "colab": {
          "base_uri": "https://localhost:8080/"
        },
        "id": "FOWF7Frx3fO9",
        "outputId": "19b49e41-92d1-4545-912e-4d803456dcb0"
      },
      "execution_count": 9,
      "outputs": [
        {
          "output_type": "stream",
          "name": "stdout",
          "text": [
            "mailto:sulfonseca@uninove.br\n",
            "sulfonseca@uninove.br\n",
            "mailto:wellingtondias@uninove.br\n",
            "wellingtondias@uninove.br\n",
            "mailto:franklinjm@uninove.br\n",
            "franklinjm@uninove.br\n",
            "mailto:simonegss@uninove.br\n",
            "simonegss@uninove.br\n",
            "mailto:franklinjm@uninove.br\n",
            "franklinjm@uninove.br\n"
          ]
        }
      ]
    },
    {
      "cell_type": "code",
      "source": [],
      "metadata": {
        "id": "npq-nWdW6Xsd"
      },
      "execution_count": null,
      "outputs": []
    }
  ]
}