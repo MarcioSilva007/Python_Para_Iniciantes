{
  "nbformat": 4,
  "nbformat_minor": 0,
  "metadata": {
    "colab": {
      "provenance": [],
      "authorship_tag": "ABX9TyP2hKQaTSLfjYS1vb4bRPwy",
      "include_colab_link": true
    },
    "kernelspec": {
      "name": "python3",
      "display_name": "Python 3"
    },
    "language_info": {
      "name": "python"
    }
  },
  "cells": [
    {
      "cell_type": "markdown",
      "metadata": {
        "id": "view-in-github",
        "colab_type": "text"
      },
      "source": [
        "<a href=\"https://colab.research.google.com/github/MarcioSilva007/Python_Para_Iniciantes/blob/main/Expressoes_Regulares.ipynb\" target=\"_parent\"><img src=\"https://colab.research.google.com/assets/colab-badge.svg\" alt=\"Open In Colab\"/></a>"
      ]
    },
    {
      "cell_type": "code",
      "execution_count": null,
      "metadata": {
        "id": "CSHx7BkiJjue"
      },
      "outputs": [],
      "source": [
        "import re"
      ]
    },
    {
      "cell_type": "code",
      "source": [
        "string = 'O aluno Carlos foi aprovado. A aluno Rebeca foi aprovada e os Cleyton e Miguel ficaram com pêndencias '"
      ],
      "metadata": {
        "id": "j6vCWkXpJ7XU"
      },
      "execution_count": null,
      "outputs": []
    },
    {
      "cell_type": "markdown",
      "source": [
        "#metodo match  procura no inicio da string\n",
        "#metodo search procura a palavra em toda string"
      ],
      "metadata": {
        "id": "XRoWV_BEP4hR"
      }
    },
    {
      "cell_type": "code",
      "source": [
        "procurar = re.match(\"O aluno\", string)\n",
        "print(procurar)"
      ],
      "metadata": {
        "colab": {
          "base_uri": "https://localhost:8080/"
        },
        "id": "2hZWN0tiLLT_",
        "outputId": "17ac2bc8-19d7-4079-deb2-d4c739a0b20a"
      },
      "execution_count": null,
      "outputs": [
        {
          "output_type": "stream",
          "name": "stdout",
          "text": [
            "<re.Match object; span=(0, 7), match='O aluno'>\n"
          ]
        }
      ]
    },
    {
      "cell_type": "code",
      "source": [
        "#procura algum tipo de correspondencia caso nao encontre retorna none\n",
        "procurar = re.match(\"Miguel\", string)\n",
        "print(procurar)"
      ],
      "metadata": {
        "colab": {
          "base_uri": "https://localhost:8080/"
        },
        "id": "9pTYWNQkLYrf",
        "outputId": "42b95828-4284-4a6f-8322-3168428a8772"
      },
      "execution_count": null,
      "outputs": [
        {
          "output_type": "stream",
          "name": "stdout",
          "text": [
            "None\n"
          ]
        }
      ]
    },
    {
      "cell_type": "code",
      "source": [
        "#precisa usar o re e o metodo e ao final em qual variavel procurar\n",
        "procurar = re.search(\"O aluno\", string)\n",
        "print (procurar)"
      ],
      "metadata": {
        "colab": {
          "base_uri": "https://localhost:8080/"
        },
        "id": "BnGhnzq1Llc1",
        "outputId": "807d0344-46e7-4163-846c-4e950b597339"
      },
      "execution_count": null,
      "outputs": [
        {
          "output_type": "stream",
          "name": "stdout",
          "text": [
            "<re.Match object; span=(0, 7), match='O aluno'>\n"
          ]
        }
      ]
    },
    {
      "cell_type": "code",
      "source": [
        "procurar = re.search(\"Carlos\", string)\n",
        "print(procurar)"
      ],
      "metadata": {
        "colab": {
          "base_uri": "https://localhost:8080/"
        },
        "id": "ZuscdLpHLzCt",
        "outputId": "b87f268c-3e3c-4cfc-9143-845b5d7a246a"
      },
      "execution_count": null,
      "outputs": [
        {
          "output_type": "stream",
          "name": "stdout",
          "text": [
            "<re.Match object; span=(8, 14), match='Carlos'>\n"
          ]
        }
      ]
    },
    {
      "cell_type": "code",
      "source": [
        "procurar = re.search(\"Marinalva\", string)\n",
        "print(procurar)"
      ],
      "metadata": {
        "colab": {
          "base_uri": "https://localhost:8080/"
        },
        "id": "YbkHDCzfL89p",
        "outputId": "cfad3392-ad51-4ad0-d344-9ced1855fae7"
      },
      "execution_count": null,
      "outputs": [
        {
          "output_type": "stream",
          "name": "stdout",
          "text": [
            "None\n"
          ]
        }
      ]
    },
    {
      "cell_type": "markdown",
      "source": [
        "#raw string\n",
        "###usado para utilizar a string sem tratamentos\n"
      ],
      "metadata": {
        "id": "AHqbx66qQyuN"
      }
    },
    {
      "cell_type": "code",
      "source": [
        "print('Marinalva\\nFernda')\n",
        "print(r'Marinalva\\nFernanda')"
      ],
      "metadata": {
        "colab": {
          "base_uri": "https://localhost:8080/"
        },
        "id": "eIicZAVCRHbs",
        "outputId": "31986821-166a-4a89-bc07-1e274fc9f46f"
      },
      "execution_count": null,
      "outputs": [
        {
          "output_type": "stream",
          "name": "stdout",
          "text": [
            "Marinalva\n",
            "Fernda\n",
            "Marinalva\\nFernanda\n"
          ]
        }
      ]
    },
    {
      "cell_type": "code",
      "source": [
        "import re"
      ],
      "metadata": {
        "id": "RLoe5_DERU-5"
      },
      "execution_count": null,
      "outputs": []
    },
    {
      "cell_type": "code",
      "source": [
        "string = \"O aluno josé foi reprovado. Ele tirou 10 na segunda nota\""
      ],
      "metadata": {
        "id": "9WcZJSogRkk1"
      },
      "execution_count": null,
      "outputs": []
    },
    {
      "cell_type": "markdown",
      "source": [
        "###Quando usamos \\w ou \\d significa que pode ser substituido por qualquer caractere alfanumerico"
      ],
      "metadata": {
        "id": "2sBO8mk0WDHs"
      }
    },
    {
      "cell_type": "code",
      "source": [
        "#procura por 6 ou mais caracteres alfanumericos\n",
        "#para impresssao usamos o metodo group() -> para saida de valor\n",
        "procurar = re.search (r'\\w\\w\\w\\w\\w\\w', string)\n",
        "if (procurar):\n",
        "  print(procurar.group())\n",
        "else:\n",
        "  print ('Nao encontrado')"
      ],
      "metadata": {
        "colab": {
          "base_uri": "https://localhost:8080/"
        },
        "id": "_nMTRz9GRy1T",
        "outputId": "20d6f8cc-d8fd-4619-9ed7-fedc75d8d281"
      },
      "execution_count": null,
      "outputs": [
        {
          "output_type": "stream",
          "name": "stdout",
          "text": [
            "reprov\n"
          ]
        }
      ]
    },
    {
      "cell_type": "code",
      "source": [
        "#procura por somente um caractere alfanumerico\n",
        "procurar = re.search (r'\\d',string)\n",
        "if (procurar):\n",
        "  print(procurar.group())\n",
        "else:\n",
        "  print('Não encontrado')"
      ],
      "metadata": {
        "colab": {
          "base_uri": "https://localhost:8080/"
        },
        "id": "sz7mMalbSz99",
        "outputId": "f3d38155-67ce-4a49-f0fb-761b20ca088f"
      },
      "execution_count": null,
      "outputs": [
        {
          "output_type": "stream",
          "name": "stdout",
          "text": [
            "1\n"
          ]
        }
      ]
    },
    {
      "cell_type": "code",
      "source": [
        "#\\w significa um ou mais caracteres alfanumericos\n",
        "procurar = re.search(r'\\w\\w\\w\\w\\w\\w\\w+',string)\n",
        "if (procurar):\n",
        "  print(procurar.group())\n",
        "else:\n",
        "  print('Não encontrado')"
      ],
      "metadata": {
        "colab": {
          "base_uri": "https://localhost:8080/"
        },
        "id": "u0M6wbH3T3w8",
        "outputId": "69503d04-3908-4b0b-ada8-69d1f283ba30"
      },
      "execution_count": null,
      "outputs": [
        {
          "output_type": "stream",
          "name": "stdout",
          "text": [
            "reprovado\n"
          ]
        }
      ]
    },
    {
      "cell_type": "code",
      "source": [
        "#\\w{5} tem que ter 6 a 8 caractere alfanumericos\n",
        "procurar = re.search(r'\\w{6,8}',string)\n",
        "if(procurar):\n",
        "  print(procurar.group())\n",
        "else:\n",
        "  print('Não encontrado')"
      ],
      "metadata": {
        "colab": {
          "base_uri": "https://localhost:8080/"
        },
        "id": "TbheoZoqUQXK",
        "outputId": "06ce50da-f534-4f0d-c6f9-bef8efaebe40"
      },
      "execution_count": null,
      "outputs": [
        {
          "output_type": "stream",
          "name": "stdout",
          "text": [
            "reprovad\n"
          ]
        }
      ]
    },
    {
      "cell_type": "code",
      "source": [
        "#\\w{5} tem que ter 6 caractere alfanumericos 5 por causa do {5} e mais um por causa do w+\n",
        "procurar = re.search(r'\\w{5}\\w+',string)\n",
        "if (procurar):\n",
        "  print(procurar.group())\n",
        "else:\n",
        "  print('Não encontrado')"
      ],
      "metadata": {
        "colab": {
          "base_uri": "https://localhost:8080/"
        },
        "id": "O92BfAf5UjQ0",
        "outputId": "7aa58674-ddb3-4b21-a266-b6cb450a8b3d"
      },
      "execution_count": null,
      "outputs": [
        {
          "output_type": "stream",
          "name": "stdout",
          "text": [
            "reprovado\n"
          ]
        }
      ]
    },
    {
      "cell_type": "code",
      "source": [
        "#estou procurando aqui por ao menos um caractere alfanumerico\n",
        "procurar = re.search(r'\\d+',string)\n",
        "if (procurar):\n",
        "  print(procurar.group())\n",
        "else:\n",
        "  print('Não encontrado')"
      ],
      "metadata": {
        "colab": {
          "base_uri": "https://localhost:8080/"
        },
        "id": "CTejZK-dVMz_",
        "outputId": "08c2581b-6ba5-49c1-be04-c7f4359b495d"
      },
      "execution_count": null,
      "outputs": [
        {
          "output_type": "stream",
          "name": "stdout",
          "text": [
            "10\n"
          ]
        }
      ]
    },
    {
      "cell_type": "code",
      "source": [
        "import re"
      ],
      "metadata": {
        "id": "mgPzdmhkVcx3"
      },
      "execution_count": 1,
      "outputs": []
    },
    {
      "cell_type": "code",
      "source": [
        "string = 'A aluna maria foi repropvada. Ela tirou 7.7 na segunda nota'"
      ],
      "metadata": {
        "id": "pOPUEbURXb8f"
      },
      "execution_count": 7,
      "outputs": []
    },
    {
      "cell_type": "code",
      "source": [
        "#findall localizara varias expressos para\n",
        "procurar = re.findall(r'\\w\\w\\w\\w+', string)"
      ],
      "metadata": {
        "id": "ROztn35TXmRd"
      },
      "execution_count": 8,
      "outputs": []
    },
    {
      "cell_type": "code",
      "source": [
        "if (procurar):\n",
        "  for x in procurar:\n",
        "    print(x)\n",
        "else:\n",
        "  print('Não encontrado')"
      ],
      "metadata": {
        "colab": {
          "base_uri": "https://localhost:8080/"
        },
        "id": "fEHCmyb7Xwii",
        "outputId": "1365993a-0e44-402c-a378-a05284d94a69"
      },
      "execution_count": 9,
      "outputs": [
        {
          "output_type": "stream",
          "name": "stdout",
          "text": [
            "aluna\n",
            "maria\n",
            "repropvada\n",
            "tirou\n",
            "segunda\n",
            "nota\n"
          ]
        }
      ]
    },
    {
      "cell_type": "code",
      "source": [],
      "metadata": {
        "id": "2BNJUVHKYU_l"
      },
      "execution_count": null,
      "outputs": []
    }
  ]
}