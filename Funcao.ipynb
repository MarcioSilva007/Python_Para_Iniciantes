{
  "nbformat": 4,
  "nbformat_minor": 0,
  "metadata": {
    "colab": {
      "provenance": [],
      "authorship_tag": "ABX9TyNvY0bn2JAHrY7j9zWAg9xA",
      "include_colab_link": true
    },
    "kernelspec": {
      "name": "python3",
      "display_name": "Python 3"
    },
    "language_info": {
      "name": "python"
    }
  },
  "cells": [
    {
      "cell_type": "markdown",
      "metadata": {
        "id": "view-in-github",
        "colab_type": "text"
      },
      "source": [
        "<a href=\"https://colab.research.google.com/github/MarcioSilva007/Python_Para_Iniciantes/blob/main/Funcao.ipynb\" target=\"_parent\"><img src=\"https://colab.research.google.com/assets/colab-badge.svg\" alt=\"Open In Colab\"/></a>"
      ]
    },
    {
      "cell_type": "code",
      "execution_count": null,
      "metadata": {
        "id": "37is_hwz6JQe"
      },
      "outputs": [],
      "source": [
        "def fimprograma():\n",
        "  mensagem = \"Fim do programa\"\n",
        "  return mensagem"
      ]
    },
    {
      "cell_type": "code",
      "source": [
        "def mostrarmensagem(nome,media):\n",
        "    print(\"Seu nome é\",nome, \"e sua media foi de:\",media)\n"
      ],
      "metadata": {
        "id": "hcpwvYS_6yrx"
      },
      "execution_count": null,
      "outputs": []
    },
    {
      "cell_type": "code",
      "source": [
        "def media(nota1, nota2):\n",
        "    resposta = (nota1+nota2)/2\n",
        "    return resposta"
      ],
      "metadata": {
        "id": "hRL3B1fFM91C"
      },
      "execution_count": null,
      "outputs": []
    },
    {
      "cell_type": "code",
      "source": [
        "def colecao (colecao):\n",
        "    maiorvalor=0\n",
        "    for x in colecao:\n",
        "        if x > maiorvalor:\n",
        "            maiorvalor = x\n",
        "    return maiorvalor"
      ],
      "metadata": {
        "id": "-bUEJ1UcOT5W"
      },
      "execution_count": null,
      "outputs": []
    },
    {
      "cell_type": "code",
      "source": [
        "nome = input(\"informe nome do aluno\")\n",
        "\n",
        "notaA = float(input(\"Nota 1: \"))\n",
        "notaB = float(input(\"Nota 2: \"))\n",
        "mediaA = media(notaA,notaB)\n",
        "\n",
        "mostrarmensagem(nome,mediaA)\n",
        "\n",
        "print (\"Maior item da coleção:\", colecao([4,75,89,66]))\n",
        "\n",
        "mesg = fimprograma()\n",
        "\n",
        "print(mesg)"
      ],
      "metadata": {
        "colab": {
          "base_uri": "https://localhost:8080/"
        },
        "id": "EMYDSklDNntj",
        "outputId": "39f8210b-9a5f-4c45-9cea-07a32a19c888"
      },
      "execution_count": null,
      "outputs": [
        {
          "output_type": "stream",
          "name": "stdout",
          "text": [
            "informe nome do alunojhu\n",
            "Nota 1: 10\n",
            "Nota 2: 10\n",
            "Seu nome é jhu e sua media foi de: 10.0\n",
            "Maior item da coleção: 89\n",
            "Fim do programa\n"
          ]
        }
      ]
    }
  ]
}